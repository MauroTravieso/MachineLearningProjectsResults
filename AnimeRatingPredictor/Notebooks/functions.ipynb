{
 "cells": [
  {
   "cell_type": "code",
   "execution_count": null,
   "metadata": {
    "collapsed": true
   },
   "outputs": [],
   "source": [
    "import pandas as pd\n",
    "from sklearn.decomposition import PCA\n",
    "from sklearn import preprocessing\n",
    "def myHello():\n",
    "    print('hello')\n",
    "    "
   ]
  },
  {
   "cell_type": "markdown",
   "source": [
    "#### MyPCA"
   ],
   "metadata": {
    "collapsed": false
   }
  },
  {
   "cell_type": "code",
   "execution_count": null,
   "outputs": [],
   "source": [
    "def myPCA(data,n):\n",
    "    pca = PCA(n_components=n)\n",
    "    pca.fit(data)\n",
    "    df = pca.transform(data)\n",
    "    PCA_Data = pd.DataFrame(df)\n",
    "    return PCA_Data\n"
   ],
   "metadata": {
    "collapsed": false,
    "pycharm": {
     "name": "#%%\n"
    }
   }
  },
  {
   "cell_type": "markdown",
   "source": [
    "#### myNormalize"
   ],
   "metadata": {
    "collapsed": false
   }
  },
  {
   "cell_type": "code",
   "execution_count": null,
   "outputs": [],
   "source": [
    "def myNormalize(data):\n",
    "    min_max_scaler = preprocessing.MinMaxScaler()\n",
    "    Normalized_Data = min_max_scaler.fit_transform(data)\n",
    "    Normalized_Data = pd.DataFrame(Normalized_Data)\n",
    "    return Normalized_Data\n"
   ],
   "metadata": {
    "collapsed": false,
    "pycharm": {
     "name": "#%%\n"
    }
   }
  },
  {
   "cell_type": "markdown",
   "source": [
    "#### myEncode"
   ],
   "metadata": {
    "collapsed": false
   }
  },
  {
   "cell_type": "code",
   "execution_count": null,
   "outputs": [],
   "source": [
    "def myEncode(data,col): \n",
    "    NewData_Encode = data.copy()\n",
    "    NewData_Encode = pd.get_dummies(NewData_Encode, columns=col, prefix = col)\n",
    "    return NewData_Encode\n",
    "\n"
   ],
   "metadata": {
    "collapsed": false,
    "pycharm": {
     "name": "#%%\n"
    }
   }
  },
  {
   "cell_type": "markdown",
   "source": [
    "#### myCleanAndTransformData"
   ],
   "metadata": {
    "collapsed": false
   }
  },
  {
   "cell_type": "code",
   "execution_count": null,
   "outputs": [],
   "source": [
    "def myCleanAndTransformData(data):\n",
    "    \n",
    "    #Drop null rows\n",
    "    NewData = data.dropna()\n",
    "    #Remove unknown ata\n",
    "    NewData = NewData[NewData['episodes']!='Unknown']\n",
    "\n",
    "    #NewData = NewData[NewData['episodes']<50]\n",
    "    #NewData = NewData[NewData['members']<200000]\n",
    "    \n",
    "    #Add a new column rating class \n",
    "    NewData['Class']=1\n",
    "    # 1: High\n",
    "    # or 0: Low based on rating\n",
    "    NewData.loc[NewData['rating'] >= NewData['rating'].mean(), 'Class'] = 1\n",
    "    NewData.loc[NewData['rating'] < NewData['rating'].mean(), 'Class'] = 0\n",
    "    \n",
    "    #Split genre values into rows\n",
    "    NewData = pd.DataFrame(NewData.genre.str.split(',').tolist(), index=[NewData.anime_id,NewData.type,NewData.episodes,NewData.rating,NewData.members,NewData.Class]).stack()\n",
    "    NewData = NewData.reset_index([0,'anime_id','type','episodes','rating','members','Class'])\n",
    "    NewData.columns=['anime_id','type','episodes','rating','members','Class','genre']\n",
    "    \n",
    "    #Encode type feature: 6 unique values\n",
    "    NewData = myEncode(NewData,['type'])\n",
    " \n",
    "    #Encode genre feature: 82 unique values\n",
    "    NewData = myEncode(NewData,['genre'])\n",
    " \n",
    "     #Drop anmie_id,rating,Class\n",
    "    NewData = NewData.drop(['rating'],axis=1)\n",
    "    NewData = NewData.drop(columns=['anime_id'])\n",
    "    \n",
    "    NewData = NewData.drop(columns=['episodes'])  \n",
    "    \n",
    "    return NewData\n",
    "\n"
   ],
   "metadata": {
    "collapsed": false,
    "pycharm": {
     "name": "#%%\n"
    }
   }
  },
  {
   "cell_type": "markdown",
   "source": [
    "#### mySplitData"
   ],
   "metadata": {
    "collapsed": false,
    "pycharm": {
     "name": "#%% md\n"
    }
   }
  },
  {
   "cell_type": "code",
   "execution_count": null,
   "outputs": [],
   "source": [
    "def mySplitData(X_Data,Y_Data,test_size,random_state):\n",
    "    from sklearn.model_selection import train_test_split\n",
    "    X_train, X_test, y_train, y_test = train_test_split(X_Data, Y_Data, test_size=test_size, random_state=random_state)\n",
    "    return X_train, X_test, y_train, y_test\n",
    "\n",
    "def mySplitDataByTrainSize(X_Data,Y_Data,train_size,random_state):\n",
    "    from sklearn.model_selection import train_test_split\n",
    "    X_train, X_test, y_train, y_test = train_test_split(X_Data, Y_Data, train_size=train_size, random_state=random_state)\n",
    "    X_train, X_test, y_train, y_test = mySplitData(X_train,y_train,0.33,random_state)\n",
    "    return X_train, X_test, y_train, y_test"
   ],
   "metadata": {
    "collapsed": false,
    "pycharm": {
     "name": "#%%\n"
    }
   }
  }
 ],
 "metadata": {
  "language_info": {
   "codemirror_mode": {
    "name": "ipython",
    "version": 2
   },
   "file_extension": ".py",
   "mimetype": "text/x-python",
   "name": "python",
   "nbconvert_exporter": "python",
   "pygments_lexer": "ipython2",
   "version": "2.7.6"
  },
  "kernelspec": {
   "name": "python3",
   "language": "python",
   "display_name": "Python 3"
  },
  "pycharm": {
   "stem_cell": {
    "cell_type": "raw",
    "source": [],
    "metadata": {
     "collapsed": false
    }
   }
  }
 },
 "nbformat": 4,
 "nbformat_minor": 0
}