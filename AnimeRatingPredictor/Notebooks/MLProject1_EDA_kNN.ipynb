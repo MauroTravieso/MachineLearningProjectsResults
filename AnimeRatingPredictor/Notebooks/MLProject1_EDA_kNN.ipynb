{
 "nbformat": 4,
 "nbformat_minor": 0,
 "metadata": {
  "kernelspec": {
   "name": "python3",
   "language": "python",
   "display_name": "Python 3"
  },
  "language_info": {
   "codemirror_mode": {
    "name": "ipython",
    "version": 3
   },
   "file_extension": ".py",
   "mimetype": "text/x-python",
   "name": "python",
   "nbconvert_exporter": "python",
   "pygments_lexer": "ipython3",
   "version": "3.7.3"
  },
  "pycharm": {
   "stem_cell": {
    "cell_type": "raw",
    "source": [],
    "metadata": {
     "collapsed": false
    }
   }
  },
  "colab": {
   "name": "Copia de Copia de Project1-mauro-knn.ipynb",
   "version": "0.3.2",
   "provenance": [],
   "collapsed_sections": [
    "gLH72SWmloNl"
   ],
   "toc_visible": true
  },
  "accelerator": "TPU"
 },
 "cells": [
  {
   "cell_type": "markdown",
   "metadata": {
    "id": "j6Op6hGPloMR",
    "colab_type": "text"
   },
   "source": [
    "# Course: Machine Learning1 - kNN\n",
    "<div class=\"alert alert-block alert-info\">\n",
    "Project: 01 </br> </br>\n",
    "Team members\n",
    "<ul>\n",
    "<li>Mauro Travieso Pena</li>\n",
    "<li>Quoc Huy Luong</li>\n",
    "<li>Ngoc Bao Tran</li>\n",
    "<ul>\n",
    "</div>"
   ]
  },
  {
   "cell_type": "markdown",
   "metadata": {
    "id": "ljzw-Q_zloMW",
    "colab_type": "text"
   },
   "source": [
    "## Exploratory Data Analysis\n"
   ]
  },
  {
   "cell_type": "markdown",
   "metadata": {
    "id": "aFmA7EF4loMb",
    "colab_type": "text"
   },
   "source": [
    "\n",
    "### Context\n",
    "This data set contains information on user preference data from 73,516 users on 12,294 anime. Each user is able to add anime to their completed list and give it a rating and this data set is a compilation of those ratings.\n"
   ]
  },
  {
   "cell_type": "markdown",
   "metadata": {
    "id": "kcTUL-i0loMg",
    "colab_type": "text"
   },
   "source": [
    "### Content\n",
    "\n",
    "#### Anime.csv\n",
    "\n",
    "**anime_id** - myanimelist.net's unique id identifying an anime.\n",
    "\n",
    "**name** - full name of anime.\n",
    "\n",
    "**genre** - comma separated list of genres for this anime.\n",
    "\n",
    "**type** - movie, TV, OVA, etc.\n",
    "\n",
    "**episodes** - how many episodes in this show. (1 if movie).\n",
    "\n",
    "**rating** - average rating out of 10 for this anime.\n",
    "\n",
    "**members** - number of community members that are in this anime's \"group\"."
   ]
  },
  {
   "cell_type": "markdown",
   "metadata": {
    "id": "bJpTu4p_loMY",
    "colab_type": "text"
   },
   "source": [
    "##### Dataset reference: https://www.kaggle.com/CooperUnion/anime-recommendations-database?fbclid=IwAR3sXr48_xQHp8NgF9AyXuVf0RGwTkFw8bfkRoXda6zix9rQsevpya8JDOM#rating.csv"
   ]
  },
  {
   "cell_type": "markdown",
   "metadata": {
    "id": "Vzxkle-KloMi",
    "colab_type": "text"
   },
   "source": [
    "## Step 1 - Importing the DataFrame (CSV to DataFrame)"
   ]
  },
  {
   "cell_type": "markdown",
   "metadata": {
    "id": "Lh5qOmnuloMl",
    "colab_type": "text"
   },
   "source": [
    "### Libraries"
   ]
  },
  {
   "cell_type": "code",
   "metadata": {
    "id": "bQK-35Nm5-6C",
    "colab_type": "code",
    "colab": {},
    "pycharm": {
     "is_executing": false
    }
   },
   "source": [
    "import pandas as pd\n",
    "import numpy as np\n",
    "import random as rnd\n",
    "import seaborn as sns\n",
    "import matplotlib.pyplot as plt\n",
    "%matplotlib inline\n",
    "from sklearn.decomposition import PCA\n",
    "from sklearn import preprocessing"
   ],
   "execution_count": 1,
   "outputs": []
  },
  {
   "cell_type": "markdown",
   "metadata": {
    "id": "vxnQcHGGloMv",
    "colab_type": "text"
   },
   "source": [
    "#### MyPCA"
   ]
  },
  {
   "cell_type": "code",
   "metadata": {
    "pycharm": {
     "is_executing": false,
     "name": "#%%\n"
    },
    "id": "4o-G_nF_loMy",
    "colab_type": "code",
    "colab": {}
   },
   "source": [
    "def myPCA(data,n):\n",
    "    pca = PCA(n_components=n)\n",
    "    pca.fit(data)\n",
    "    df = pca.transform(data)\n",
    "    PCA_Data = pd.DataFrame(df)\n",
    "    return PCA_Data"
   ],
   "execution_count": 2,
   "outputs": []
  },
  {
   "cell_type": "markdown",
   "metadata": {
    "id": "q2EwDh0FloM5",
    "colab_type": "text"
   },
   "source": [
    "#### myNormalize"
   ]
  },
  {
   "cell_type": "code",
   "execution_count": 3,
   "outputs": [],
   "source": [
    "def myNormalize(data):\n",
    "    min_max_scaler = preprocessing.MinMaxScaler()\n",
    "    Normalized_Data = min_max_scaler.fit_transform(data)\n",
    "    Normalized_Data = pd.DataFrame(Normalized_Data)\n",
    "    return Normalized_Data"
   ],
   "metadata": {
    "collapsed": false,
    "pycharm": {
     "name": "#%%\n",
     "is_executing": false
    }
   }
  },
  {
   "cell_type": "markdown",
   "source": [
    "#### myEncode"
   ],
   "metadata": {
    "collapsed": false,
    "pycharm": {
     "name": "#%% md\n"
    }
   }
  },
  {
   "cell_type": "code",
   "metadata": {
    "pycharm": {
     "is_executing": false,
     "name": "#%%\n"
    },
    "id": "phUmAqTUloNE",
    "colab_type": "code",
    "outputId": "4d02bb29-04a2-4792-fab9-b039d7ed7a43",
    "colab": {
     "base_uri": "https://localhost:8080/",
     "height": 34
    }
   },
   "source": [
    "def myEncode(data,col): \n",
    "    NewData_Encode = data.copy()\n",
    "    NewData_Encode = pd.get_dummies(NewData_Encode, columns=col, prefix = col)\n",
    "    return NewData_Encode\n"
   ],
   "execution_count": 4,
   "outputs": []
  },
  {
   "cell_type": "markdown",
   "metadata": {
    "id": "Zocnu03q-7p6",
    "colab_type": "text"
   },
   "source": [
    "#### myCleanAndTransformData"
   ]
  },
  {
   "cell_type": "code",
   "execution_count": 5,
   "outputs": [],
   "source": [
    "def myCleanAndTransformData(data):\n",
    "    \n",
    "    #Drop null rows\n",
    "    NewData = data.dropna()\n",
    "    #Remove unknown ata\n",
    "    NewData = NewData[NewData['episodes']!='Unknown']\n",
    "    #Add a new column rating class \n",
    "    NewData['Class']=1\n",
    "    # 1: High\n",
    "    # or 0: Low based on rating\n",
    "    NewData.loc[NewData['rating'] >= NewData['rating'].mean(), 'Class'] = 1\n",
    "    NewData.loc[NewData['rating'] < NewData['rating'].mean(), 'Class'] = 0\n",
    "    \n",
    "    #Split genre values into rows\n",
    "    NewData = pd.DataFrame(NewData.genre.str.split(',').tolist(), index=[NewData.anime_id,NewData.type,NewData.episodes,NewData.rating,NewData.members,NewData.Class]).stack()\n",
    "    NewData = NewData.reset_index([0,'anime_id','type','episodes','rating','members','Class'])\n",
    "    NewData.columns=['anime_id','type','episodes','rating','members','Class','genre']\n",
    "    \n",
    "    #Encode type feature: 6 unique values\n",
    "    NewData = myEncode(NewData,['type'])\n",
    " \n",
    "    #Encode genre feature: 82 unique values\n",
    "    NewData = myEncode(NewData,['genre'])\n",
    " \n",
    "     #Drop anmie_id,rating,Class\n",
    "    NewData = NewData.drop(['rating'],axis=1)\n",
    "    NewData = NewData.drop(columns=['anime_id'])\n",
    "    #NewData = NewData.drop(columns=['episodes'])  \n",
    "    \n",
    "    return NewData\n"
   ],
   "metadata": {
    "collapsed": false,
    "pycharm": {
     "name": "#%%\n",
     "is_executing": false
    }
   }
  },
  {
   "cell_type": "markdown",
   "metadata": {
    "pycharm": {
     "is_executing": false,
     "name": "#%% md\n"
    },
    "id": "BoVlIVeSloNb",
    "colab_type": "code",
    "outputId": "605c12f2-6e8a-45b5-df70-97c2d3333a29",
    "colab": {
     "base_uri": "https://localhost:8080/",
     "height": 206
    }
   },
   "source": [
    "#### mySplitData"
   ]
  },
  {
   "cell_type": "code",
   "execution_count": 6,
   "outputs": [],
   "source": [
    "def mySplitData(X_Data,Y_Data,test_size,random_state):\n",
    "    from sklearn.model_selection import train_test_split\n",
    "    X_train, X_test, y_train, y_test = train_test_split(X_Data, Y_Data, test_size=test_size, random_state=random_state)\n",
    "    return X_train, X_test, y_train, y_test\n",
    "\n",
    "def mySplitDataByTrainSize(X_Data,Y_Data,train_size,random_state):\n",
    "    from sklearn.model_selection import train_test_split\n",
    "    X_train, X_test, y_train, y_test = train_test_split(X_Data, Y_Data, train_size=train_size, random_state=random_state)\n",
    "    X_train, X_test, y_train, y_test = mySplitData(X_train,y_train,0.33,random_state)\n",
    "    return X_train, X_test, y_train, y_test"
   ],
   "metadata": {
    "collapsed": false,
    "pycharm": {
     "name": "#%%\n",
     "is_executing": false
    }
   }
  },
  {
   "cell_type": "markdown",
   "metadata": {
    "id": "DFK6_MPJloNn",
    "colab_type": "text"
   },
   "source": [
    "### Datasets\n"
   ]
  },
  {
   "cell_type": "code",
   "metadata": {
    "pycharm": {
     "is_executing": false,
     "name": "#%%\n"
    },
    "id": "2NyqHvKfloNp",
    "colab_type": "code",
    "outputId": "3eae7d1a-823f-421b-8852-42b37175ac85",
    "colab": {
     "base_uri": "https://localhost:8080/",
     "height": 156
    }
   },
   "source": [
    "df = pd.read_csv('../data/anime.csv')\n",
    "df.head()\n",
    "RawData = df.copy()"
   ],
   "execution_count": 7,
   "outputs": []
  },
  {
   "cell_type": "markdown",
   "source": [
    "## Checking the structure of the columns"
   ],
   "metadata": {
    "collapsed": false,
    "pycharm": {
     "name": "#%% md\n"
    }
   }
  },
  {
   "cell_type": "markdown",
   "source": [
    "### Visualizing the number of colums and features' names associated to the dataset"
   ],
   "metadata": {
    "collapsed": false,
    "pycharm": {
     "name": "#%% md\n"
    }
   }
  },
  {
   "cell_type": "code",
   "execution_count": 8,
   "outputs": [
    {
     "data": {
      "text/plain": "Index(['anime_id', 'name', 'genre', 'type', 'episodes', 'rating', 'members'], dtype='object')"
     },
     "metadata": {},
     "output_type": "execute_result",
     "execution_count": 8
    }
   ],
   "source": [
    "RawData.columns"
   ],
   "metadata": {
    "collapsed": false,
    "pycharm": {
     "name": "#%%\n",
     "is_executing": false
    }
   }
  },
  {
   "cell_type": "code",
   "metadata": {
    "pycharm": {
     "is_executing": false,
     "name": "#%%\n"
    },
    "id": "zAqayAemloN0",
    "colab_type": "code",
    "outputId": "a300538a-6c90-4453-e6e3-aa759a972bb1",
    "colab": {
     "base_uri": "https://localhost:8080/",
     "height": 225
    }
   },
   "source": [
    "print(\"Dimensions of DataFrame: {}\".format(RawData.shape))"
   ],
   "execution_count": 9,
   "outputs": [
    {
     "name": "stdout",
     "text": [
      "Dimensions of DataFrame: (12294, 7)\n"
     ],
     "output_type": "stream"
    }
   ]
  },
  {
   "cell_type": "markdown",
   "source": [
    "### The Dataset counts on 12'294 rows, grouped in 7 columns."
   ],
   "metadata": {
    "collapsed": false,
    "pycharm": {
     "name": "#%% md\n"
    }
   }
  },
  {
   "cell_type": "markdown",
   "metadata": {
    "id": "4YGdCn71loOF",
    "colab_type": "text"
   },
   "source": [
    "### Obtaining a sample of the associated data "
   ]
  },
  {
   "cell_type": "code",
   "execution_count": 10,
   "outputs": [
    {
     "data": {
      "text/plain": "      anime_id                                  name  \\\n6794     32879               Norn9: Norn+Nonet Recap   \n9542     26107                           Miitsuketa!   \n2531     11841  Qin Shiming Yue Zhi: Ye Jin Tianming   \n4261     15125                               Teekyuu   \n1413     27631                             God Eater   \n\n                                          genre     type episodes  rating  \\\n6794         Adventure, Fantasy, Josei, Romance  Special        1    5.93   \n9542                                Drama, Kids      OVA        1    7.67   \n2531  Action, Fantasy, Historical, Martial Arts       TV       18    7.24   \n4261            Comedy, School, Shounen, Sports       TV       12    6.77   \n1413          Action, Fantasy, Military, Sci-Fi       TV       13    7.55   \n\n      members  \n6794     2109  \n9542       48  \n2531      366  \n4261    30291  \n1413   192433  ",
      "text/html": "<div>\n<style scoped>\n    .dataframe tbody tr th:only-of-type {\n        vertical-align: middle;\n    }\n\n    .dataframe tbody tr th {\n        vertical-align: top;\n    }\n\n    .dataframe thead th {\n        text-align: right;\n    }\n</style>\n<table border=\"1\" class=\"dataframe\">\n  <thead>\n    <tr style=\"text-align: right;\">\n      <th></th>\n      <th>anime_id</th>\n      <th>name</th>\n      <th>genre</th>\n      <th>type</th>\n      <th>episodes</th>\n      <th>rating</th>\n      <th>members</th>\n    </tr>\n  </thead>\n  <tbody>\n    <tr>\n      <th>6794</th>\n      <td>32879</td>\n      <td>Norn9: Norn+Nonet Recap</td>\n      <td>Adventure, Fantasy, Josei, Romance</td>\n      <td>Special</td>\n      <td>1</td>\n      <td>5.93</td>\n      <td>2109</td>\n    </tr>\n    <tr>\n      <th>9542</th>\n      <td>26107</td>\n      <td>Miitsuketa!</td>\n      <td>Drama, Kids</td>\n      <td>OVA</td>\n      <td>1</td>\n      <td>7.67</td>\n      <td>48</td>\n    </tr>\n    <tr>\n      <th>2531</th>\n      <td>11841</td>\n      <td>Qin Shiming Yue Zhi: Ye Jin Tianming</td>\n      <td>Action, Fantasy, Historical, Martial Arts</td>\n      <td>TV</td>\n      <td>18</td>\n      <td>7.24</td>\n      <td>366</td>\n    </tr>\n    <tr>\n      <th>4261</th>\n      <td>15125</td>\n      <td>Teekyuu</td>\n      <td>Comedy, School, Shounen, Sports</td>\n      <td>TV</td>\n      <td>12</td>\n      <td>6.77</td>\n      <td>30291</td>\n    </tr>\n    <tr>\n      <th>1413</th>\n      <td>27631</td>\n      <td>God Eater</td>\n      <td>Action, Fantasy, Military, Sci-Fi</td>\n      <td>TV</td>\n      <td>13</td>\n      <td>7.55</td>\n      <td>192433</td>\n    </tr>\n  </tbody>\n</table>\n</div>"
     },
     "metadata": {},
     "output_type": "execute_result",
     "execution_count": 10
    }
   ],
   "source": [
    "RawData.sample(5)"
   ],
   "metadata": {
    "collapsed": false,
    "pycharm": {
     "name": "#%%\n",
     "is_executing": false
    }
   }
  },
  {
   "cell_type": "markdown",
   "metadata": {
    "id": "RwCn0Be7Abeb",
    "colab_type": "text"
   },
   "source": [
    "### It is appreciated the nature of the columns (Categorical and Numerical)."
   ]
  },
  {
   "cell_type": "markdown",
   "source": [
    "## Descriptive statistics summary of the variable of the dataset features "
   ],
   "metadata": {
    "collapsed": false,
    "pycharm": {
     "name": "#%% md\n"
    }
   }
  },
  {
   "cell_type": "code",
   "metadata": {
    "pycharm": {
     "name": "#%%\n",
     "is_executing": false
    },
    "id": "7clKXTyBloOR",
    "colab_type": "code",
    "outputId": "8384ebd8-edcf-4b2e-958b-b8bb99675fea",
    "colab": {
     "base_uri": "https://localhost:8080/",
     "height": 300
    }
   },
   "source": [
    "print(RawData.dtypes)"
   ],
   "execution_count": 11,
   "outputs": [
    {
     "name": "stdout",
     "text": [
      "anime_id      int64\nname         object\ngenre        object\ntype         object\nepisodes     object\nrating      float64\nmembers       int64\ndtype: object\n"
     ],
     "output_type": "stream"
    }
   ]
  },
  {
   "cell_type": "markdown",
   "source": [
    "### Number of unique values per feature"
   ],
   "metadata": {
    "collapsed": false,
    "pycharm": {
     "name": "#%% md\n"
    }
   }
  },
  {
   "cell_type": "code",
   "metadata": {
    "id": "CAIa9ZQJzAiz",
    "colab_type": "code",
    "colab": {
     "base_uri": "https://localhost:8080/",
     "height": 34
    },
    "outputId": "e9741522-7e56-4460-9cb6-88270d7b112b",
    "pycharm": {
     "is_executing": false
    }
   },
   "source": [
    "RawData.nunique()"
   ],
   "execution_count": 12,
   "outputs": [
    {
     "data": {
      "text/plain": "anime_id    12294\nname        12292\ngenre        3264\ntype            6\nepisodes      187\nrating        598\nmembers      6706\ndtype: int64"
     },
     "metadata": {},
     "output_type": "execute_result",
     "execution_count": 12
    }
   ]
  },
  {
   "cell_type": "markdown",
   "source": [
    "### Number of total values per feature "
   ],
   "metadata": {
    "collapsed": false,
    "pycharm": {
     "name": "#%% md\n"
    }
   }
  },
  {
   "cell_type": "code",
   "execution_count": 13,
   "outputs": [
    {
     "name": "stdout",
     "text": [
      "<class 'pandas.core.frame.DataFrame'>\nRangeIndex: 12294 entries, 0 to 12293\nData columns (total 7 columns):\nanime_id    12294 non-null int64\nname        12294 non-null object\ngenre       12232 non-null object\ntype        12269 non-null object\nepisodes    12294 non-null object\nrating      12064 non-null float64\nmembers     12294 non-null int64\ndtypes: float64(1), int64(2), object(4)\nmemory usage: 672.4+ KB\n"
     ],
     "output_type": "stream"
    }
   ],
   "source": [
    "RawData.info()"
   ],
   "metadata": {
    "collapsed": false,
    "pycharm": {
     "name": "#%%\n",
     "is_executing": false
    }
   }
  },
  {
   "cell_type": "markdown",
   "source": [
    "#### When complete, every feature should contain a maximum of 12'294 of data. However, it can be seeing that some features doesn't reach that value. It indicates the pressence of missing values."
   ],
   "metadata": {
    "collapsed": false,
    "pycharm": {
     "name": "#%% md\n"
    }
   }
  },
  {
   "cell_type": "markdown",
   "source": [
    "## Exploring the missing values"
   ],
   "metadata": {
    "collapsed": false,
    "pycharm": {
     "name": "#%% md\n"
    }
   }
  },
  {
   "cell_type": "code",
   "metadata": {
    "pycharm": {
     "is_executing": false,
     "name": "#%%\n"
    },
    "id": "Ux5UQrgOloOw",
    "colab_type": "code",
    "outputId": "451e4b15-275a-4f4f-d035-d09e49d3dbfc",
    "colab": {
     "base_uri": "https://localhost:8080/",
     "height": 104
    }
   },
   "source": [
    "missing = RawData.isnull().sum()\n",
    "missing = missing[missing > 0]\n",
    "missing.sort_values(inplace=True)\n",
    "missing.plot.bar().set_title(\"Missing Values by Feature\")\n",
    "missing.plot.bar().set_xlabel('Dataset Features')\n",
    "missing.plot.bar().set_ylabel('Missing Values')\n",
    "missing.head()"
   ],
   "execution_count": 14,
   "outputs": [
    {
     "data": {
      "text/plain": "type       25\ngenre      62\nrating    230\ndtype: int64"
     },
     "metadata": {},
     "output_type": "execute_result",
     "execution_count": 14
    },
    {
     "data": {
      "text/plain": "<Figure size 432x288 with 1 Axes>",
      "image/png": "[encoded data removed]"
     },
     "metadata": {
      "needs_background": "light"
     },
     "output_type": "display_data"
    }
   ]
  },
  {
   "cell_type": "markdown",
   "source": [
    "#### The category with most missing values is found in 'rating' followed by 'gender' and 'type' respectively."
   ],
   "metadata": {
    "collapsed": false,
    "pycharm": {
     "name": "#%% md\n"
    }
   }
  },
  {
   "cell_type": "markdown",
   "source": [
    "## Exploring the whole dataset statistically."
   ],
   "metadata": {
    "collapsed": false,
    "pycharm": {
     "name": "#%% md\n"
    }
   }
  },
  {
   "cell_type": "code",
   "metadata": {
    "id": "EVIYOgy_zb3u",
    "colab_type": "code",
    "colab": {
     "base_uri": "https://localhost:8080/",
     "height": 347
    },
    "outputId": "7308482e-dcaf-4bea-8cc1-d2bd3bb72342",
    "pycharm": {
     "is_executing": false
    }
   },
   "source": [
    "RawData.describe()"
   ],
   "execution_count": 15,
   "outputs": [
    {
     "data": {
      "text/plain": "           anime_id        rating       members\ncount  12294.000000  12064.000000  1.229400e+04\nmean   14058.221653      6.473902  1.807134e+04\nstd    11455.294701      1.026746  5.482068e+04\nmin        1.000000      1.670000  5.000000e+00\n25%     3484.250000      5.880000  2.250000e+02\n50%    10260.500000      6.570000  1.550000e+03\n75%    24794.500000      7.180000  9.437000e+03\nmax    34527.000000     10.000000  1.013917e+06",
      "text/html": "<div>\n<style scoped>\n    .dataframe tbody tr th:only-of-type {\n        vertical-align: middle;\n    }\n\n    .dataframe tbody tr th {\n        vertical-align: top;\n    }\n\n    .dataframe thead th {\n        text-align: right;\n    }\n</style>\n<table border=\"1\" class=\"dataframe\">\n  <thead>\n    <tr style=\"text-align: right;\">\n      <th></th>\n      <th>anime_id</th>\n      <th>rating</th>\n      <th>members</th>\n    </tr>\n  </thead>\n  <tbody>\n    <tr>\n      <th>count</th>\n      <td>12294.000000</td>\n      <td>12064.000000</td>\n      <td>1.229400e+04</td>\n    </tr>\n    <tr>\n      <th>mean</th>\n      <td>14058.221653</td>\n      <td>6.473902</td>\n      <td>1.807134e+04</td>\n    </tr>\n    <tr>\n      <th>std</th>\n      <td>11455.294701</td>\n      <td>1.026746</td>\n      <td>5.482068e+04</td>\n    </tr>\n    <tr>\n      <th>min</th>\n      <td>1.000000</td>\n      <td>1.670000</td>\n      <td>5.000000e+00</td>\n    </tr>\n    <tr>\n      <th>25%</th>\n      <td>3484.250000</td>\n      <td>5.880000</td>\n      <td>2.250000e+02</td>\n    </tr>\n    <tr>\n      <th>50%</th>\n      <td>10260.500000</td>\n      <td>6.570000</td>\n      <td>1.550000e+03</td>\n    </tr>\n    <tr>\n      <th>75%</th>\n      <td>24794.500000</td>\n      <td>7.180000</td>\n      <td>9.437000e+03</td>\n    </tr>\n    <tr>\n      <th>max</th>\n      <td>34527.000000</td>\n      <td>10.000000</td>\n      <td>1.013917e+06</td>\n    </tr>\n  </tbody>\n</table>\n</div>"
     },
     "metadata": {},
     "output_type": "execute_result",
     "execution_count": 15
    }
   ]
  },
  {
   "cell_type": "code",
   "execution_count": 16,
   "outputs": [
    {
     "data": {
      "text/plain": "count    12294.000000\nmean     14058.221653\nstd      11455.294701\nmin          1.000000\n25%       3484.250000\n50%      10260.500000\n75%      24794.500000\nmax      34527.000000\nName: anime_id, dtype: float64"
     },
     "metadata": {},
     "output_type": "execute_result",
     "execution_count": 16
    }
   ],
   "source": [
    "RawData['anime_id'].describe()"
   ],
   "metadata": {
    "collapsed": false,
    "pycharm": {
     "name": "#%%\n",
     "is_executing": false
    }
   }
  },
  {
   "cell_type": "code",
   "metadata": {
    "id": "fMtnVdRuzgx9",
    "colab_type": "code",
    "colab": {
     "base_uri": "https://localhost:8080/",
     "height": 1000
    },
    "outputId": "624e4c27-1f4c-4b35-8bfa-a19f01c4d953",
    "pycharm": {
     "is_executing": false
    }
   },
   "source": [
    "RawData['anime_id'].unique()"
   ],
   "execution_count": 17,
   "outputs": [
    {
     "data": {
      "text/plain": "array([32281,  5114, 28977, ...,  5621,  6133, 26081])"
     },
     "metadata": {},
     "output_type": "execute_result",
     "execution_count": 17
    }
   ]
  },
  {
   "cell_type": "code",
   "metadata": {
    "pycharm": {
     "is_executing": false,
     "name": "#%%\n"
    },
    "id": "beLSokmNloPI",
    "colab_type": "code",
    "outputId": "4af19f52-d65f-455e-880a-9b3a9013f154",
    "colab": {
     "base_uri": "https://localhost:8080/",
     "height": 173
    }
   },
   "source": [
    "RawData['name'].describe()"
   ],
   "execution_count": 18,
   "outputs": [
    {
     "data": {
      "text/plain": "count                       12294\nunique                      12292\ntop       Shi Wan Ge Leng Xiaohua\nfreq                            2\nName: name, dtype: object"
     },
     "metadata": {},
     "output_type": "execute_result",
     "execution_count": 18
    }
   ]
  },
  {
   "cell_type": "code",
   "metadata": {
    "id": "ZPmqISvkzlzg",
    "colab_type": "code",
    "colab": {
     "base_uri": "https://localhost:8080/",
     "height": 34
    },
    "outputId": "86c91815-6c96-4023-b911-24beda4044f1",
    "pycharm": {
     "is_executing": false
    }
   },
   "source": [
    "RawData['name'].unique()"
   ],
   "execution_count": 19,
   "outputs": [
    {
     "data": {
      "text/plain": "array(['Kimi no Na wa.', 'Fullmetal Alchemist: Brotherhood', 'Gintama°',\n       ..., 'Violence Gekiga David no Hoshi',\n       'Violence Gekiga Shin David no Hoshi: Inma Densetsu',\n       'Yasuji no Pornorama: Yacchimae!!'], dtype=object)"
     },
     "metadata": {},
     "output_type": "execute_result",
     "execution_count": 19
    }
   ]
  },
  {
   "cell_type": "code",
   "execution_count": 20,
   "outputs": [
    {
     "data": {
      "text/plain": "count      12232\nunique      3264\ntop       Hentai\nfreq         823\nName: genre, dtype: object"
     },
     "metadata": {},
     "output_type": "execute_result",
     "execution_count": 20
    }
   ],
   "source": [
    "RawData['genre'].describe()"
   ],
   "metadata": {
    "collapsed": false,
    "pycharm": {
     "name": "#%%\n",
     "is_executing": false
    }
   }
  },
  {
   "cell_type": "code",
   "metadata": {
    "pycharm": {
     "is_executing": false,
     "name": "#%%\n"
    },
    "colab_type": "code",
    "id": "Li6vHyde3BHQ",
    "colab": {}
   },
   "source": [
    "RawData['genre'].unique()"
   ],
   "execution_count": 21,
   "outputs": [
    {
     "data": {
      "text/plain": "array(['Drama, Romance, School, Supernatural',\n       'Action, Adventure, Drama, Fantasy, Magic, Military, Shounen',\n       'Action, Comedy, Historical, Parody, Samurai, Sci-Fi, Shounen',\n       ..., 'Hentai, Sports', 'Drama, Romance, School, Yuri',\n       'Hentai, Slice of Life'], dtype=object)"
     },
     "metadata": {},
     "output_type": "execute_result",
     "execution_count": 21
    }
   ]
  },
  {
   "cell_type": "code",
   "metadata": {
    "pycharm": {
     "is_executing": false,
     "name": "#%%\n"
    },
    "colab_type": "code",
    "id": "bV4FM01o3AND",
    "colab": {
     "base_uri": "https://localhost:8080/",
     "height": 173
    },
    "outputId": "22ff3769-a89e-4231-ad25-510c1fdbd6f6"
   },
   "source": [
    "RawData['type'].describe()"
   ],
   "execution_count": 22,
   "outputs": [
    {
     "data": {
      "text/plain": "count     12269\nunique        6\ntop          TV\nfreq       3787\nName: type, dtype: object"
     },
     "metadata": {},
     "output_type": "execute_result",
     "execution_count": 22
    }
   ]
  },
  {
   "cell_type": "code",
   "execution_count": 23,
   "outputs": [
    {
     "data": {
      "text/plain": "array(['Movie', 'TV', 'OVA', 'Special', 'Music', 'ONA', nan], dtype=object)"
     },
     "metadata": {},
     "output_type": "execute_result",
     "execution_count": 23
    }
   ],
   "source": [
    "RawData['type'].unique()"
   ],
   "metadata": {
    "collapsed": false,
    "pycharm": {
     "name": "#%%\n",
     "is_executing": false
    }
   }
  },
  {
   "cell_type": "code",
   "execution_count": 24,
   "outputs": [
    {
     "data": {
      "text/plain": "count     12294\nunique      187\ntop           1\nfreq       5677\nName: episodes, dtype: object"
     },
     "metadata": {},
     "output_type": "execute_result",
     "execution_count": 24
    }
   ],
   "source": [
    "RawData['episodes'].describe()"
   ],
   "metadata": {
    "collapsed": false,
    "pycharm": {
     "name": "#%%\n",
     "is_executing": false
    }
   }
  },
  {
   "cell_type": "code",
   "metadata": {
    "pycharm": {
     "is_executing": false,
     "name": "#%%\n"
    },
    "id": "8HYUc7y7loPn",
    "colab_type": "code",
    "outputId": "220399bf-b5f3-47da-e8c1-1517281ae9ab",
    "colab": {
     "base_uri": "https://localhost:8080/",
     "height": 173
    }
   },
   "source": [
    "RawData['episodes'].unique()"
   ],
   "execution_count": 25,
   "outputs": [
    {
     "data": {
      "text/plain": "array(['1', '64', '51', '24', '10', '148', '110', '13', '201', '25', '22',\n       '75', '4', '26', '12', '27', '43', '74', '37', '2', '11', '99',\n       'Unknown', '39', '101', '47', '50', '62', '33', '112', '23', '3',\n       '94', '6', '8', '14', '7', '40', '15', '203', '77', '291', '120',\n       '102', '96', '38', '79', '175', '103', '70', '153', '45', '5',\n       '21', '63', '52', '28', '145', '36', '69', '60', '178', '114',\n       '35', '61', '34', '109', '20', '9', '49', '366', '97', '48', '78',\n       '358', '155', '104', '113', '54', '167', '161', '42', '142', '31',\n       '373', '220', '46', '195', '17', '1787', '73', '147', '127', '16',\n       '19', '98', '150', '76', '53', '124', '29', '115', '224', '44',\n       '58', '93', '154', '92', '67', '172', '86', '30', '276', '59',\n       '72', '330', '41', '105', '128', '137', '56', '55', '65', '243',\n       '193', '18', '191', '180', '91', '192', '66', '182', '32', '164',\n       '100', '296', '694', '95', '68', '117', '151', '130', '87', '170',\n       '119', '84', '108', '156', '140', '331', '305', '300', '510',\n       '200', '88', '1471', '526', '143', '726', '136', '1818', '237',\n       '1428', '365', '163', '283', '71', '260', '199', '225', '312',\n       '240', '1306', '1565', '773', '1274', '90', '475', '263', '83',\n       '85', '1006', '80', '162', '132', '141', '125'], dtype=object)"
     },
     "metadata": {},
     "output_type": "execute_result",
     "execution_count": 25
    }
   ]
  },
  {
   "cell_type": "code",
   "execution_count": 26,
   "outputs": [
    {
     "data": {
      "text/plain": "count    12064.000000\nmean         6.473902\nstd          1.026746\nmin          1.670000\n25%          5.880000\n50%          6.570000\n75%          7.180000\nmax         10.000000\nName: rating, dtype: float64"
     },
     "metadata": {},
     "output_type": "execute_result",
     "execution_count": 26
    }
   ],
   "source": [
    "RawData['rating'].describe()"
   ],
   "metadata": {
    "collapsed": false,
    "pycharm": {
     "name": "#%%\n",
     "is_executing": false
    }
   }
  },
  {
   "cell_type": "code",
   "metadata": {
    "pycharm": {
     "is_executing": false,
     "name": "#%%\n"
    },
    "id": "UQeCx96ploP-",
    "colab_type": "code",
    "outputId": "14a6e81a-3660-4d3b-f7a1-a81d33216479",
    "colab": {
     "base_uri": "https://localhost:8080/",
     "height": 283
    }
   },
   "source": [
    "RawData['rating'].unique()"
   ],
   "execution_count": 27,
   "outputs": [
    {
     "data": {
      "text/plain": "array([ 9.37,  9.26,  9.25,  9.17,  9.16,  9.15,  9.13,  9.11,  9.1 ,\n        9.06,  9.05,  9.04,  8.98,  8.93,  8.92,  8.88,  8.84,  8.83,\n        8.82,  8.81,  8.8 ,  8.78,  8.77,  8.76,  8.75,  8.74,  8.73,\n        8.72,  8.71,  8.69,  8.68,  8.67,  8.66,  8.65,  8.64,  8.62,\n        8.61,  8.6 ,  8.59,  8.58,  8.57,  8.56,  8.55,  8.54,  8.53,\n        8.52,  8.51,  8.5 ,  8.49,  8.48,  8.47,  8.46,  8.45,  8.44,\n        8.43,  8.42,  8.41,  8.4 ,  8.39,  8.38,  8.37,  8.36,  8.35,\n        8.34,  8.33,  8.32,  8.31,  8.3 ,  8.29,  8.28,  8.27,  8.26,\n        8.25,  8.24,  8.23,  8.22,  8.21,  8.2 ,  8.19,  8.18,  8.17,\n        8.16,  8.15,  8.14,  8.13,  8.12,  8.11,  8.1 ,  8.09,  8.08,\n        8.07,  8.06,  8.05,  8.04,  8.03,  8.02,  8.01,  8.  ,  7.99,\n        7.98,  7.97,  7.96,  7.95,  7.94,  7.93,  7.92,  7.91,  7.9 ,\n        7.89,  7.88,  7.87,  7.86,  7.85,  7.84,  7.83,  7.82,  7.81,\n        7.8 ,  7.79,  7.78,  7.77,  7.76,  7.75,  7.74,  7.73,  7.72,\n        7.71,  7.7 ,  7.69,  7.68,  7.67,  7.66,  7.65,  7.64,  7.63,\n        7.62,  7.61,  7.6 ,  7.59,  7.58,  7.57,  7.56,  7.55,  7.54,\n        7.53,  7.52,  7.51,  7.5 ,  7.49,  7.48,  7.47,  7.46,  7.45,\n        7.44,  7.43,  7.42,  7.41,  7.4 ,  7.39,  7.38,  7.37,  7.36,\n        7.35,  7.34,  7.33,  7.32,  7.31,  7.3 ,  7.29,  7.28,  7.27,\n        7.25,  7.26,  7.24,  7.23,  7.22,  7.21,  7.2 ,  7.19,  7.18,\n        7.17,  7.16,  7.14,  7.15,  7.13,  7.12,  7.11,  7.1 ,  7.09,\n        7.08,  7.07,  7.06,  7.05,  7.04,  7.03,  7.02,  7.01,  7.  ,\n        6.99,  6.98,  6.97,  6.96,  6.95,  6.94,  6.93,  6.92,  6.91,\n        6.9 ,  6.89,  6.88,  6.87,  6.86,  6.85,  6.84,  6.83,  6.82,\n        6.81,  6.8 ,  6.79,  6.78,  6.75,  6.77,  6.76,  6.74,  6.73,\n        6.72,  6.71,  6.7 ,  6.69,  6.68,  6.67,  6.66,  6.65,  6.64,\n        6.63,  6.62,  6.61,  6.6 ,  6.59,  6.58,  6.57,  6.56,  6.55,\n        6.54,  6.53,  6.52,  6.51,  6.47,  6.5 ,  6.49,  6.48,  6.46,\n        6.45,  6.42,  6.44,  6.43,  6.39,  6.41,  6.4 ,  6.38,  6.37,\n        6.35,  6.36,  6.34,  6.33,  6.32,  6.31,  6.3 ,  6.29,  6.28,\n        6.27,  6.26,  6.25,  6.22,  6.24,  6.23,  6.21,  6.2 ,  6.19,\n        6.18,  6.17,  6.16,  6.15,  6.14,  6.13,  6.12,  6.1 ,  6.11,\n        6.09,  6.08,  6.06,  6.07,  6.05,  6.04,  6.03,  6.01,  6.02,\n        6.  ,  5.99,  5.98,  5.97,  5.96,  5.95,  5.94,  5.93,  5.92,\n        5.91,  5.89,  5.9 ,  5.88,  5.87,  5.86,  5.85,  5.84,  5.83,\n        5.82,  5.81,  5.8 ,  5.79,  5.78,  5.77,  5.76,  5.75,  5.74,\n        5.73,  5.72,  5.7 ,  5.71,  5.69,  5.68,  5.67,  5.66,  5.65,\n        5.64,  5.63,  5.62,  5.61,  5.6 ,  5.59,  5.58,  5.57,  5.56,\n        5.55,  5.53,  5.54,  5.52,  5.51,  5.5 ,  5.49,  5.48,  5.46,\n        5.47,  5.45,  5.44,  5.43,  5.42,  5.41,  5.4 ,  5.39,  5.38,\n        5.37,  5.36,  5.35,  5.34,  5.33,  5.32,  5.31,  5.3 ,  5.29,\n        5.28,  5.27,  5.26,  5.24,  5.25,  5.23,  5.22,  5.21,  5.2 ,\n        5.19,  5.14,  5.18,  5.17,  5.16,  5.15,  5.13,  5.11,  5.12,\n        5.1 ,  5.09,  5.07,  5.08,  5.06,  5.05,  5.04,  5.03,  5.02,\n        5.01,  5.  ,  4.99,  4.98,  4.97,  4.96,  4.95,  4.94,  4.93,\n        4.92,  4.91,  4.9 ,  4.89,  4.88,  4.84,  4.87,  4.86,  4.85,\n        4.83,  4.82,  4.81,  4.8 ,  4.79,  4.78,  4.77,  4.76,  4.75,\n        4.74,  4.73,  4.72,  4.71,  4.7 ,  4.69,  4.68,  4.66,  4.67,\n        4.65,  4.64,  4.63,  4.62,  4.6 ,  4.59,  4.58,  4.57,  4.56,\n        4.55,  4.54,  4.53,  4.52,  4.49,  4.5 ,  4.48,  4.46,  4.45,\n        4.44,  4.43,  4.42,  4.4 ,  4.39,  4.38,  4.36,  4.35,  4.34,\n        4.32,  4.31,  4.3 ,  4.28,  4.27,  4.26,  4.25,  4.24,  4.23,\n        4.22,  4.21,  4.19,  4.17,  4.16,  4.15,  4.11,  4.08,  4.04,\n        4.03,  4.02,  4.  ,  3.99,  3.98,  3.96,  3.91,  3.9 ,  3.88,\n        3.87,  3.86,  3.84,  3.83,  3.82,  3.8 ,  3.78,  3.76,  3.75,\n        3.74,  3.73,  3.71,  3.7 ,  3.68,  3.65,  3.63,  3.62,  3.6 ,\n        3.58,  3.59,  3.56,  3.47,  3.46,  3.41,  3.36,  3.33,  3.32,\n        3.27,  2.95,  2.93,  2.78,  2.67,  2.37,  2.14,  2.  ,  4.06,\n        4.18,  4.09,  3.67,  3.  ,  4.33,  3.89,  4.2 ,  3.61,  4.13,\n        3.11,  2.58,  4.29,  3.43,  3.57,  4.05,  4.51,  3.4 ,  3.79,\n        3.81,  3.92,  3.48,  3.38,  3.95,  4.61,  3.34,  3.02,  2.69,\n        3.5 ,  3.97,  3.85,   nan,  3.77,  3.53,  9.33,  4.14,  4.12,\n        3.2 ,  3.93,  3.52,  2.55,  9.  ,  2.97,  4.1 ,  3.39,  3.17,\n        9.5 ,  3.25,  2.8 ,  2.91,  2.75,  4.41,  3.72,  3.94,  1.67,\n        4.37,  3.69,  3.26,  3.49,  2.49,  2.84,  4.07,  3.35,  3.54,\n        3.21,  3.42,  9.6 ,  3.28, 10.  ,  3.51,  3.29,  2.72,  3.64,\n        2.98,  3.44,  1.92,  2.86,  3.14])"
     },
     "metadata": {},
     "output_type": "execute_result",
     "execution_count": 27
    }
   ]
  },
  {
   "cell_type": "code",
   "execution_count": 28,
   "outputs": [
    {
     "data": {
      "text/plain": "count    1.229400e+04\nmean     1.807134e+04\nstd      5.482068e+04\nmin      5.000000e+00\n25%      2.250000e+02\n50%      1.550000e+03\n75%      9.437000e+03\nmax      1.013917e+06\nName: members, dtype: float64"
     },
     "metadata": {},
     "output_type": "execute_result",
     "execution_count": 28
    }
   ],
   "source": [
    "RawData['members'].describe()"
   ],
   "metadata": {
    "collapsed": false,
    "pycharm": {
     "name": "#%%\n",
     "is_executing": false
    }
   }
  },
  {
   "cell_type": "code",
   "metadata": {
    "pycharm": {
     "is_executing": false,
     "name": "#%%\n"
    },
    "id": "guzTqNymloQH",
    "colab_type": "code",
    "outputId": "9618fe70-c763-408b-b44a-841d96e94265",
    "colab": {
     "base_uri": "https://localhost:8080/",
     "height": 173
    }
   },
   "source": [
    "RawData['members'].unique()"
   ],
   "execution_count": 29,
   "outputs": [
    {
     "data": {
      "text/plain": "array([200630, 793665, 114262, ...,  27411,  57355,    652])"
     },
     "metadata": {},
     "output_type": "execute_result",
     "execution_count": 29
    }
   ]
  },
  {
   "cell_type": "markdown",
   "source": [
    "## Dropping the rows with missing data ('Na')"
   ],
   "metadata": {
    "collapsed": false,
    "pycharm": {
     "name": "#%% md\n"
    }
   }
  },
  {
   "cell_type": "code",
   "metadata": {
    "pycharm": {
     "is_executing": false,
     "name": "#%%\n"
    },
    "id": "vRh8pcPYloQb",
    "colab_type": "code",
    "outputId": "7129a922-25f1-46c4-edcc-d6d84a6e3971",
    "colab": {
     "base_uri": "https://localhost:8080/",
     "height": 283
    }
   },
   "source": [
    "df = df.dropna()"
   ],
   "execution_count": 30,
   "outputs": []
  },
  {
   "cell_type": "code",
   "execution_count": 31,
   "outputs": [
    {
     "data": {
      "text/plain": "count    12017.000000\nmean         6.478264\nstd          1.023857\nmin          1.670000\n25%          5.890000\n50%          6.570000\n75%          7.180000\nmax         10.000000\nName: rating, dtype: float64"
     },
     "metadata": {},
     "output_type": "execute_result",
     "execution_count": 31
    }
   ],
   "source": [
    "df['rating'].describe()"
   ],
   "metadata": {
    "collapsed": false,
    "pycharm": {
     "name": "#%%\n",
     "is_executing": false
    }
   }
  },
  {
   "cell_type": "markdown",
   "source": [
    "## Exploring the Numerical Features"
   ],
   "metadata": {
    "collapsed": false,
    "pycharm": {
     "name": "#%% md\n"
    }
   }
  },
  {
   "cell_type": "markdown",
   "source": [
    "### Feature: **rating**"
   ],
   "metadata": {
    "collapsed": false,
    "pycharm": {
     "name": "#%% md\n"
    }
   }
  },
  {
   "cell_type": "code",
   "metadata": {
    "pycharm": {
     "is_executing": false,
     "name": "#%%\n"
    },
    "id": "KpX9aoL3loQp",
    "colab_type": "code",
    "colab": {}
   },
   "source": [
    "RawData['rating'].describe()"
   ],
   "execution_count": 32,
   "outputs": [
    {
     "data": {
      "text/plain": "count    12064.000000\nmean         6.473902\nstd          1.026746\nmin          1.670000\n25%          5.880000\n50%          6.570000\n75%          7.180000\nmax         10.000000\nName: rating, dtype: float64"
     },
     "metadata": {},
     "output_type": "execute_result",
     "execution_count": 32
    }
   ]
  },
  {
   "cell_type": "code",
   "metadata": {
    "pycharm": {
     "is_executing": false,
     "name": "#%%\n"
    },
    "id": "6QL-GFhOloQu",
    "colab_type": "code",
    "outputId": "2ccd02e1-f93d-4107-de34-b23fcf496476",
    "colab": {
     "base_uri": "https://localhost:8080/",
     "height": 347
    }
   },
   "source": [
    "sns.distplot(df['rating']);"
   ],
   "execution_count": 33,
   "outputs": [
    {
     "data": {
      "text/plain": "<Figure size 432x288 with 1 Axes>",
      "image/png": "[encoded data removed]"
     },
     "metadata": {
      "needs_background": "light"
     },
     "output_type": "display_data"
    }
   ]
  },
  {
   "cell_type": "code",
   "execution_count": 34,
   "outputs": [
    {
     "data": {
      "text/plain": "<Figure size 432x288 with 1 Axes>",
      "image/png": "[encoded data removed]"
     },
     "metadata": {
      "needs_background": "light"
     },
     "output_type": "display_data"
    }
   ],
   "source": [
    "bplot = sns.boxplot(x='rating', \n",
    "                 data=df, \n",
    "                 width=0.5,\n",
    "                 palette=\"colorblind\")"
   ],
   "metadata": {
    "collapsed": false,
    "pycharm": {
     "name": "#%%\n",
     "is_executing": false
    }
   }
  },
  {
   "cell_type": "markdown",
   "source": [
    "### Feature: **members**"
   ],
   "metadata": {
    "collapsed": false,
    "pycharm": {
     "name": "#%% md\n"
    }
   }
  },
  {
   "cell_type": "code",
   "metadata": {
    "pycharm": {
     "is_executing": false,
     "name": "#%%\n"
    },
    "id": "Ty6p-AP8loQ3",
    "colab_type": "code",
    "outputId": "cfe628ca-b908-45cf-dc8e-92ea619b6237",
    "colab": {
     "base_uri": "https://localhost:8080/",
     "height": 283
    }
   },
   "source": [
    "df['members'].describe()"
   ],
   "execution_count": 35,
   "outputs": [
    {
     "data": {
      "text/plain": "count    1.201700e+04\nmean     1.834888e+04\nstd      5.537250e+04\nmin      1.200000e+01\n25%      2.250000e+02\n50%      1.552000e+03\n75%      9.588000e+03\nmax      1.013917e+06\nName: members, dtype: float64"
     },
     "metadata": {},
     "output_type": "execute_result",
     "execution_count": 35
    }
   ]
  },
  {
   "cell_type": "code",
   "execution_count": 36,
   "outputs": [
    {
     "data": {
      "text/plain": "<Figure size 432x288 with 1 Axes>",
      "image/png": "[encoded data removed]"
     },
     "metadata": {
      "needs_background": "light"
     },
     "output_type": "display_data"
    }
   ],
   "source": [
    "sns.distplot(df['members']);"
   ],
   "metadata": {
    "collapsed": false,
    "pycharm": {
     "name": "#%%\n",
     "is_executing": false
    }
   }
  },
  {
   "cell_type": "code",
   "execution_count": 37,
   "outputs": [
    {
     "data": {
      "text/plain": "<Figure size 432x288 with 1 Axes>",
      "image/png": "[encoded data removed]"
     },
     "metadata": {
      "needs_background": "light"
     },
     "output_type": "display_data"
    }
   ],
   "source": [
    "bplot = sns.boxplot(x='members', \n",
    "                 data=df, \n",
    "                 width=0.5,\n",
    "                 palette=\"colorblind\")"
   ],
   "metadata": {
    "collapsed": false,
    "pycharm": {
     "name": "#%%\n",
     "is_executing": false
    }
   }
  },
  {
   "cell_type": "markdown",
   "source": [
    "### Feature: **episodes**"
   ],
   "metadata": {
    "collapsed": false,
    "pycharm": {
     "name": "#%% md\n"
    }
   }
  },
  {
   "cell_type": "code",
   "metadata": {
    "pycharm": {
     "is_executing": false,
     "name": "#%%\n"
    },
    "id": "CjAJZ-5wloRF",
    "colab_type": "code",
    "outputId": "e7b29452-e079-41b9-e4d2-73b08b44ae23",
    "colab": {
     "base_uri": "https://localhost:8080/",
     "height": 34
    }
   },
   "source": [
    "df['episodes'].describe()"
   ],
   "execution_count": 38,
   "outputs": [
    {
     "data": {
      "text/plain": "count     12017\nunique      187\ntop           1\nfreq       5571\nName: episodes, dtype: object"
     },
     "metadata": {},
     "output_type": "execute_result",
     "execution_count": 38
    }
   ]
  },
  {
   "cell_type": "markdown",
   "source": [
    "### The Numerical feature 'episodes' is declared as an object and also, contains Categorical data which is required to  be removed from the rows in the dataset."
   ],
   "metadata": {
    "collapsed": false,
    "pycharm": {
     "name": "#%% md\n"
    }
   }
  },
  {
   "cell_type": "code",
   "execution_count": 39,
   "outputs": [],
   "source": [
    "df = df[df['episodes']!='Unknown']"
   ],
   "metadata": {
    "collapsed": false,
    "pycharm": {
     "name": "#%%\n",
     "is_executing": false
    }
   }
  },
  {
   "cell_type": "code",
   "execution_count": 40,
   "outputs": [
    {
     "data": {
      "text/plain": "array(['1', '64', '51', '24', '10', '148', '110', '13', '201', '25', '22',\n       '75', '4', '26', '12', '27', '43', '74', '37', '2', '11', '99',\n       '39', '101', '47', '50', '62', '33', '112', '23', '3', '94', '6',\n       '8', '14', '7', '40', '15', '203', '77', '291', '120', '102', '96',\n       '38', '79', '175', '103', '70', '153', '45', '5', '21', '63', '52',\n       '28', '145', '36', '69', '60', '178', '114', '35', '61', '34',\n       '109', '20', '9', '49', '366', '97', '48', '78', '358', '155',\n       '104', '113', '54', '167', '161', '42', '142', '31', '373', '220',\n       '46', '195', '17', '1787', '73', '147', '127', '16', '19', '98',\n       '150', '76', '53', '124', '29', '115', '224', '44', '58', '93',\n       '154', '92', '67', '172', '86', '30', '276', '59', '72', '330',\n       '41', '105', '128', '137', '56', '55', '65', '243', '193', '18',\n       '191', '180', '91', '192', '66', '182', '32', '164', '100', '296',\n       '694', '95', '68', '117', '151', '130', '87', '170', '119', '84',\n       '108', '156', '140', '331', '305', '300', '510', '200', '88',\n       '1471', '526', '143', '726', '136', '1818', '237', '1428', '365',\n       '163', '283', '71', '260', '199', '225', '312', '240', '1306',\n       '1565', '773', '1274', '90', '475', '263', '83', '85', '1006',\n       '80', '162', '132', '141', '125'], dtype=object)"
     },
     "metadata": {},
     "output_type": "execute_result",
     "execution_count": 40
    }
   ],
   "source": [
    "df['episodes'].unique()"
   ],
   "metadata": {
    "collapsed": false,
    "pycharm": {
     "name": "#%%\n",
     "is_executing": false
    }
   }
  },
  {
   "cell_type": "markdown",
   "source": [
    "### Now, the feature can be converted from object (Categorical) to int (Numerical), and explored.\n",
    "\n",
    "https://stackoverflow.com/questions/48094854/python-convert-object-to-float"
   ],
   "metadata": {
    "collapsed": false,
    "pycharm": {
     "name": "#%% md\n"
    }
   }
  },
  {
   "cell_type": "code",
   "execution_count": 41,
   "outputs": [],
   "source": [
    "df['episodes'] = df.episodes.astype(int)"
   ],
   "metadata": {
    "collapsed": false,
    "pycharm": {
     "name": "#%%\n",
     "is_executing": false
    }
   }
  },
  {
   "cell_type": "code",
   "execution_count": 42,
   "outputs": [
    {
     "data": {
      "text/plain": "<Figure size 432x288 with 1 Axes>",
      "image/png": "[encoded data removed]"
     },
     "metadata": {
      "needs_background": "light"
     },
     "output_type": "display_data"
    }
   ],
   "source": [
    "sns.distplot(df['episodes']);"
   ],
   "metadata": {
    "collapsed": false,
    "pycharm": {
     "name": "#%%\n",
     "is_executing": false
    }
   }
  },
  {
   "cell_type": "code",
   "execution_count": 43,
   "outputs": [
    {
     "data": {
      "text/plain": "<Figure size 432x288 with 1 Axes>",
      "image/png": "[encoded data removed]"
     },
     "metadata": {
      "needs_background": "light"
     },
     "output_type": "display_data"
    }
   ],
   "source": [
    "bplot = sns.boxplot(x='episodes', \n",
    "                 data=df, \n",
    "                 width=0.5,\n",
    "                 palette=\"colorblind\")"
   ],
   "metadata": {
    "collapsed": false,
    "pycharm": {
     "name": "#%%\n",
     "is_executing": false
    }
   }
  },
  {
   "cell_type": "markdown",
   "source": [
    "### Besides, the Numerical Features statistical behavior is observed."
   ],
   "metadata": {
    "collapsed": false,
    "pycharm": {
     "name": "#%% md\n"
    }
   }
  },
  {
   "cell_type": "code",
   "execution_count": 44,
   "outputs": [
    {
     "name": "stdout",
     "text": [
      "Skewness Episodes: 23.277143\n"
     ],
     "output_type": "stream"
    }
   ],
   "source": [
    "print(\"Skewness Episodes: %f\" % df['episodes'].skew())"
   ],
   "metadata": {
    "collapsed": false,
    "pycharm": {
     "name": "#%%\n",
     "is_executing": false
    }
   }
  },
  {
   "cell_type": "code",
   "execution_count": 45,
   "outputs": [
    {
     "name": "stdout",
     "text": [
      "Skewness Rating: -0.538142\n"
     ],
     "output_type": "stream"
    }
   ],
   "source": [
    "print(\"Skewness Rating: %f\" % df['rating'].skew())"
   ],
   "metadata": {
    "collapsed": false,
    "pycharm": {
     "name": "#%%\n",
     "is_executing": false
    }
   }
  },
  {
   "cell_type": "code",
   "execution_count": 46,
   "outputs": [
    {
     "name": "stdout",
     "text": [
      "Skewness Members: 6.588423\n"
     ],
     "output_type": "stream"
    }
   ],
   "source": [
    "print(\"Skewness Members: %f\" % df['members'].skew())"
   ],
   "metadata": {
    "collapsed": false,
    "pycharm": {
     "name": "#%%\n",
     "is_executing": false
    }
   }
  },
  {
   "cell_type": "markdown",
   "source": [
    "### Negative values for the skewness indicate data that are skewed left. Possitive values mean the opposite. By skewed left, we mean that the left tail is long relative to the right tail. \n",
    "\n",
    "### When exploring rating, the value is relatively close to zero, the distribution is almost symetrical ( < |0.5|).\n",
    "\n",
    "### Features: episodes and members show an important amount of positive skewness."
   ],
   "metadata": {
    "collapsed": false,
    "pycharm": {
     "name": "#%% md\n"
    }
   }
  },
  {
   "cell_type": "code",
   "execution_count": 47,
   "outputs": [
    {
     "name": "stdout",
     "text": [
      "Kurtosis Episodes: 726.254496\n"
     ],
     "output_type": "stream"
    }
   ],
   "source": [
    "print(\"Kurtosis Episodes: %f\" % df['episodes'].kurt())"
   ],
   "metadata": {
    "collapsed": false,
    "pycharm": {
     "name": "#%%\n",
     "is_executing": false
    }
   }
  },
  {
   "cell_type": "code",
   "metadata": {
    "pycharm": {
     "name": "#%%\n",
     "is_executing": false
    },
    "id": "LWB8wHqeloRy",
    "colab_type": "code",
    "outputId": "b9cc5aaf-d858-406f-96a0-c28b0b7115c0",
    "colab": {
     "base_uri": "https://localhost:8080/",
     "height": 206
    }
   },
   "source": [
    "print(\"Kurtosis Rating: %f\" % df['rating'].kurt())"
   ],
   "execution_count": 48,
   "outputs": [
    {
     "name": "stdout",
     "text": [
      "Kurtosis Rating: 0.505835\n"
     ],
     "output_type": "stream"
    }
   ]
  },
  {
   "cell_type": "code",
   "execution_count": 49,
   "outputs": [
    {
     "name": "stdout",
     "text": [
      "Kurtosis Members: 61.400628\n"
     ],
     "output_type": "stream"
    }
   ],
   "source": [
    "print(\"Kurtosis Members: %f\" % df['members'].kurt())"
   ],
   "metadata": {
    "collapsed": false,
    "pycharm": {
     "name": "#%%\n",
     "is_executing": false
    }
   }
  },
  {
   "cell_type": "markdown",
   "source": [
    "### Kurtosis is a measure of whether the distribution is too peaked (a very narrow distribution with most of the responses in the center.\n",
    "\n",
    "### It means the effect of the tails on the whole distribution contribution.\n",
    "\n",
    "### Again, rating shows a value relatively close to zero, which means that the statistical behavior of this feture seems a balanced Gauss bell.\n",
    "\n",
    "### Features: episodes and members show a significative amount of kurtosis. "
   ],
   "metadata": {
    "collapsed": false,
    "pycharm": {
     "name": "#%% md\n"
    }
   }
  },
  {
   "cell_type": "code",
   "execution_count": 50,
   "outputs": [
    {
     "name": "stdout",
     "text": [
      "Dimensions of DataFrame: (11830, 7)\n"
     ],
     "output_type": "stream"
    }
   ],
   "source": [
    "print(\"Dimensions of DataFrame: {}\".format(df.shape))\n"
   ],
   "metadata": {
    "collapsed": false,
    "pycharm": {
     "name": "#%%\n",
     "is_executing": false
    }
   }
  },
  {
   "cell_type": "markdown",
   "source": [
    "## Removing the Outliers."
   ],
   "metadata": {
    "collapsed": false,
    "pycharm": {
     "name": "#%% md\n"
    }
   }
  },
  {
   "cell_type": "markdown",
   "metadata": {
    "id": "r9Ao-uoefJlT",
    "colab_type": "text"
   },
   "source": [
    "### Due to the previous observation of the respective boxplots, it can be seen the pressence of outliers on every Numerical feature. In the following lines of codes, they can be count to decide its effects in the distribution."
   ]
  },
  {
   "cell_type": "markdown",
   "source": [
    "### We will use Z-score function defined in scipy library to detect the outliers.The Z-score states that the dataset is transformed in a matrix which values more than three standard deviations represent outliers. \n",
    "\n",
    "https://towardsdatascience.com/ways-to-detect-and-remove-the-outliers-404d16608dba"
   ],
   "metadata": {
    "collapsed": false,
    "pycharm": {
     "name": "#%% md\n"
    }
   }
  },
  {
   "cell_type": "code",
   "execution_count": 51,
   "outputs": [
    {
     "name": "stdout",
     "text": [
      "[[ 0.24390475  2.83130101  3.28918118]\n [ 1.09381288  2.7233631  13.99975827]\n [ 0.81777591  2.71355056  1.72932194]\n ...\n [ 0.18020391  1.57452817  0.33036483]\n [ 0.24390475  1.4764028   0.3311595 ]\n [ 0.24390475  1.00540102  0.3317555 ]]\n"
     ],
     "output_type": "stream"
    }
   ],
   "source": [
    "from scipy import stats\n",
    "import numpy as np\n",
    "df = df.drop(columns=['anime_id','name','genre','type'])\n",
    "z = np.abs(stats.zscore(df))\n",
    "print(z)"
   ],
   "metadata": {
    "collapsed": false,
    "pycharm": {
     "name": "#%%\n",
     "is_executing": false
    }
   }
  },
  {
   "cell_type": "markdown",
   "source": [
    "### Using this line of code, the outliers of the whole dataset are removed as a whole (taking into account every Numerical feature in respect to the others)."
   ],
   "metadata": {
    "collapsed": false,
    "pycharm": {
     "name": "#%% md\n"
    }
   }
  },
  {
   "cell_type": "code",
   "execution_count": 52,
   "outputs": [
    {
     "data": {
      "text/plain": "   episodes  rating  members\n2        51    9.25   114262\n4        51    9.16   151266\n5        10    9.15    93351\n7       110    9.11    80679\n8         1    9.10    72534",
      "text/html": "<div>\n<style scoped>\n    .dataframe tbody tr th:only-of-type {\n        vertical-align: middle;\n    }\n\n    .dataframe tbody tr th {\n        vertical-align: top;\n    }\n\n    .dataframe thead th {\n        text-align: right;\n    }\n</style>\n<table border=\"1\" class=\"dataframe\">\n  <thead>\n    <tr style=\"text-align: right;\">\n      <th></th>\n      <th>episodes</th>\n      <th>rating</th>\n      <th>members</th>\n    </tr>\n  </thead>\n  <tbody>\n    <tr>\n      <th>2</th>\n      <td>51</td>\n      <td>9.25</td>\n      <td>114262</td>\n    </tr>\n    <tr>\n      <th>4</th>\n      <td>51</td>\n      <td>9.16</td>\n      <td>151266</td>\n    </tr>\n    <tr>\n      <th>5</th>\n      <td>10</td>\n      <td>9.15</td>\n      <td>93351</td>\n    </tr>\n    <tr>\n      <th>7</th>\n      <td>110</td>\n      <td>9.11</td>\n      <td>80679</td>\n    </tr>\n    <tr>\n      <th>8</th>\n      <td>1</td>\n      <td>9.10</td>\n      <td>72534</td>\n    </tr>\n  </tbody>\n</table>\n</div>"
     },
     "metadata": {},
     "output_type": "execute_result",
     "execution_count": 52
    }
   ],
   "source": [
    "df = df[(z < 3).all(axis=1)]\n",
    "df.head()"
   ],
   "metadata": {
    "collapsed": false,
    "pycharm": {
     "name": "#%%\n",
     "is_executing": false
    }
   }
  },
  {
   "cell_type": "markdown",
   "metadata": {
    "id": "lpMXJezZh7Jz",
    "colab_type": "text"
   },
   "source": [
    "### As a result, the new Dataset only loses few rows since the previous operation performed (-3.25%)"
   ]
  },
  {
   "cell_type": "code",
   "metadata": {
    "pycharm": {
     "is_executing": false,
     "name": "#%%\n"
    },
    "id": "IuTHt1oXloSV",
    "colab_type": "code",
    "outputId": "0814c5eb-c06e-464e-b7f0-ac6ad4becf9c",
    "colab": {
     "base_uri": "https://localhost:8080/",
     "height": 206
    }
   },
   "source": [
    "# Add a new column rating class \n",
    "df['Class']=1 #df['rating']\n",
    "df.sample(5)"
   ],
   "execution_count": 53,
   "outputs": [
    {
     "data": {
      "text/plain": "       episodes  rating  members  Class\n9096         31    7.00       98      1\n892           1    7.78     4499      1\n7201          2    5.64      653      1\n12010         3    5.73     1138      1\n11508         1    6.50     2438      1",
      "text/html": "<div>\n<style scoped>\n    .dataframe tbody tr th:only-of-type {\n        vertical-align: middle;\n    }\n\n    .dataframe tbody tr th {\n        vertical-align: top;\n    }\n\n    .dataframe thead th {\n        text-align: right;\n    }\n</style>\n<table border=\"1\" class=\"dataframe\">\n  <thead>\n    <tr style=\"text-align: right;\">\n      <th></th>\n      <th>episodes</th>\n      <th>rating</th>\n      <th>members</th>\n      <th>Class</th>\n    </tr>\n  </thead>\n  <tbody>\n    <tr>\n      <th>9096</th>\n      <td>31</td>\n      <td>7.00</td>\n      <td>98</td>\n      <td>1</td>\n    </tr>\n    <tr>\n      <th>892</th>\n      <td>1</td>\n      <td>7.78</td>\n      <td>4499</td>\n      <td>1</td>\n    </tr>\n    <tr>\n      <th>7201</th>\n      <td>2</td>\n      <td>5.64</td>\n      <td>653</td>\n      <td>1</td>\n    </tr>\n    <tr>\n      <th>12010</th>\n      <td>3</td>\n      <td>5.73</td>\n      <td>1138</td>\n      <td>1</td>\n    </tr>\n    <tr>\n      <th>11508</th>\n      <td>1</td>\n      <td>6.50</td>\n      <td>2438</td>\n      <td>1</td>\n    </tr>\n  </tbody>\n</table>\n</div>"
     },
     "metadata": {},
     "output_type": "execute_result",
     "execution_count": 53
    }
   ]
  },
  {
   "cell_type": "code",
   "metadata": {
    "pycharm": {
     "is_executing": false,
     "name": "#%%\n"
    },
    "id": "x5iF0MQZloSa",
    "colab_type": "code",
    "colab": {}
   },
   "source": [
    "# 1: High\n",
    "# or 0: Low based on rating\n",
    "df.loc[df['rating'] >= df['rating'].mean(), 'Class'] = 1\n",
    "df.loc[df['rating'] < df['rating'].mean(), 'Class'] = 0"
   ],
   "execution_count": 54,
   "outputs": []
  },
  {
   "cell_type": "code",
   "metadata": {
    "pycharm": {
     "is_executing": false,
     "name": "#%%\n"
    },
    "id": "eI1vhcv9loSe",
    "colab_type": "code",
    "outputId": "71a3aa16-8265-4dcc-e8d2-48a845c97a73",
    "colab": {
     "base_uri": "https://localhost:8080/",
     "height": 206
    }
   },
   "source": [
    "df.sample(5)"
   ],
   "execution_count": 55,
   "outputs": [
    {
     "data": {
      "text/plain": "      episodes  rating  members  Class\n7686         1    5.14      445      0\n3751        39    6.90     1184      1\n8363        39    6.79      168      1\n2667        26    7.20     2297      1\n5648        51    6.39     3229      0",
      "text/html": "<div>\n<style scoped>\n    .dataframe tbody tr th:only-of-type {\n        vertical-align: middle;\n    }\n\n    .dataframe tbody tr th {\n        vertical-align: top;\n    }\n\n    .dataframe thead th {\n        text-align: right;\n    }\n</style>\n<table border=\"1\" class=\"dataframe\">\n  <thead>\n    <tr style=\"text-align: right;\">\n      <th></th>\n      <th>episodes</th>\n      <th>rating</th>\n      <th>members</th>\n      <th>Class</th>\n    </tr>\n  </thead>\n  <tbody>\n    <tr>\n      <th>7686</th>\n      <td>1</td>\n      <td>5.14</td>\n      <td>445</td>\n      <td>0</td>\n    </tr>\n    <tr>\n      <th>3751</th>\n      <td>39</td>\n      <td>6.90</td>\n      <td>1184</td>\n      <td>1</td>\n    </tr>\n    <tr>\n      <th>8363</th>\n      <td>39</td>\n      <td>6.79</td>\n      <td>168</td>\n      <td>1</td>\n    </tr>\n    <tr>\n      <th>2667</th>\n      <td>26</td>\n      <td>7.20</td>\n      <td>2297</td>\n      <td>1</td>\n    </tr>\n    <tr>\n      <th>5648</th>\n      <td>51</td>\n      <td>6.39</td>\n      <td>3229</td>\n      <td>0</td>\n    </tr>\n  </tbody>\n</table>\n</div>"
     },
     "metadata": {},
     "output_type": "execute_result",
     "execution_count": 55
    }
   ]
  },
  {
   "cell_type": "code",
   "metadata": {
    "pycharm": {
     "is_executing": false,
     "name": "#%%\n"
    },
    "id": "4NKeG2n3loSi",
    "colab_type": "code",
    "outputId": "de86da71-4802-4975-da9f-9c07b01bef53",
    "colab": {
     "base_uri": "https://localhost:8080/",
     "height": 173
    }
   },
   "source": [
    "print(df.dtypes)"
   ],
   "execution_count": 56,
   "outputs": [
    {
     "name": "stdout",
     "text": [
      "episodes      int64\nrating      float64\nmembers       int64\nClass         int64\ndtype: object\n"
     ],
     "output_type": "stream"
    }
   ]
  },
  {
   "cell_type": "markdown",
   "metadata": {
    "id": "kxvoq1w_ffN3",
    "colab_type": "text"
   },
   "source": [
    "### Split up the dataset into inputs (X) and target (y)\n",
    "\n",
    "### Drop the Categorical features as well as the class label (rating)"
   ]
  },
  {
   "cell_type": "code",
   "metadata": {
    "pycharm": {
     "is_executing": false,
     "name": "#%% \n"
    },
    "id": "TkzqjsDuloSn",
    "colab_type": "code",
    "colab": {}
   },
   "source": [
    "#X = df.drop(columns=['anime_id','name','genre','type','rating','Class'])\n",
    "X = df.drop(columns=['rating','Class'])"
   ],
   "execution_count": 57,
   "outputs": []
  },
  {
   "cell_type": "code",
   "metadata": {
    "pycharm": {
     "is_executing": false,
     "name": "#%%\n"
    },
    "id": "_qX49w_JloSq",
    "colab_type": "code",
    "outputId": "ff8c3aed-7226-4a56-c121-a949262b20de",
    "colab": {
     "base_uri": "https://localhost:8080/",
     "height": 206
    }
   },
   "source": [
    "X.head()"
   ],
   "execution_count": 58,
   "outputs": [
    {
     "data": {
      "text/plain": "   episodes  members\n2        51   114262\n4        51   151266\n5        10    93351\n7       110    80679\n8         1    72534",
      "text/html": "<div>\n<style scoped>\n    .dataframe tbody tr th:only-of-type {\n        vertical-align: middle;\n    }\n\n    .dataframe tbody tr th {\n        vertical-align: top;\n    }\n\n    .dataframe thead th {\n        text-align: right;\n    }\n</style>\n<table border=\"1\" class=\"dataframe\">\n  <thead>\n    <tr style=\"text-align: right;\">\n      <th></th>\n      <th>episodes</th>\n      <th>members</th>\n    </tr>\n  </thead>\n  <tbody>\n    <tr>\n      <th>2</th>\n      <td>51</td>\n      <td>114262</td>\n    </tr>\n    <tr>\n      <th>4</th>\n      <td>51</td>\n      <td>151266</td>\n    </tr>\n    <tr>\n      <th>5</th>\n      <td>10</td>\n      <td>93351</td>\n    </tr>\n    <tr>\n      <th>7</th>\n      <td>110</td>\n      <td>80679</td>\n    </tr>\n    <tr>\n      <th>8</th>\n      <td>1</td>\n      <td>72534</td>\n    </tr>\n  </tbody>\n</table>\n</div>"
     },
     "metadata": {},
     "output_type": "execute_result",
     "execution_count": 58
    }
   ]
  },
  {
   "cell_type": "markdown",
   "metadata": {
    "id": "mfXNCWdPfwvp",
    "colab_type": "text"
   },
   "source": [
    "## Normalization"
   ]
  },
  {
   "cell_type": "markdown",
   "metadata": {
    "id": "Sk3KoOx2il3P",
    "colab_type": "text"
   },
   "source": [
    "### kNN and almost any classification algorithm is very sensitive to values ranges due to the distance based, so it is required to normalize the numerical features. "
   ]
  },
  {
   "cell_type": "markdown",
   "metadata": {
    "id": "4PX4s_g0jAxJ",
    "colab_type": "text"
   },
   "source": [
    "### For the possitive nature of the values related to the features in real life, it makes sense to use mim-max normalization. "
   ]
  },
  {
   "cell_type": "code",
   "metadata": {
    "pycharm": {
     "is_executing": false,
     "name": "#%%\n"
    },
    "id": "tirnWOUkloSv",
    "colab_type": "code",
    "outputId": "38f4b227-329d-4822-9347-ca4f188f562b",
    "colab": {
     "base_uri": "https://localhost:8080/",
     "height": 206
    }
   },
   "source": [
    "#from sklearn import preprocessing\n",
    "\n",
    "#x = df.values #returns a numpy array\n",
    "#min_max_scaler = preprocessing.MinMaxScaler()\n",
    "#x_scaled = min_max_scaler.fit_transform(x)\n",
    "#df = pandas.DataFrame(x_scaled)\n",
    "\n",
    "#https://stackoverflow.com/questions/26414913/normalize-columns-of-pandas-data-frame\n",
    "#X=(X-X.mean())/X.std()\n",
    "X=(X-X.min())/(X.max()-X.min())\n",
    "X.head()"
   ],
   "execution_count": 59,
   "outputs": [
    {
     "data": {
      "text/plain": "   episodes   members\n2  0.328947  0.619187\n4  0.328947  0.819742\n5  0.059211  0.505853\n7  0.717105  0.437173\n8  0.000000  0.393029",
      "text/html": "<div>\n<style scoped>\n    .dataframe tbody tr th:only-of-type {\n        vertical-align: middle;\n    }\n\n    .dataframe tbody tr th {\n        vertical-align: top;\n    }\n\n    .dataframe thead th {\n        text-align: right;\n    }\n</style>\n<table border=\"1\" class=\"dataframe\">\n  <thead>\n    <tr style=\"text-align: right;\">\n      <th></th>\n      <th>episodes</th>\n      <th>members</th>\n    </tr>\n  </thead>\n  <tbody>\n    <tr>\n      <th>2</th>\n      <td>0.328947</td>\n      <td>0.619187</td>\n    </tr>\n    <tr>\n      <th>4</th>\n      <td>0.328947</td>\n      <td>0.819742</td>\n    </tr>\n    <tr>\n      <th>5</th>\n      <td>0.059211</td>\n      <td>0.505853</td>\n    </tr>\n    <tr>\n      <th>7</th>\n      <td>0.717105</td>\n      <td>0.437173</td>\n    </tr>\n    <tr>\n      <th>8</th>\n      <td>0.000000</td>\n      <td>0.393029</td>\n    </tr>\n  </tbody>\n</table>\n</div>"
     },
     "metadata": {},
     "output_type": "execute_result",
     "execution_count": 59
    }
   ]
  },
  {
   "cell_type": "markdown",
   "metadata": {
    "id": "y0RRJHsejhTQ",
    "colab_type": "text"
   },
   "source": [
    "### Separate the target values (class associated)"
   ]
  },
  {
   "cell_type": "code",
   "metadata": {
    "pycharm": {
     "is_executing": false,
     "name": "#%%\n"
    },
    "id": "y1kYK8cJloSz",
    "colab_type": "code",
    "colab": {}
   },
   "source": [
    "y = df['Class']"
   ],
   "execution_count": 60,
   "outputs": []
  },
  {
   "cell_type": "markdown",
   "metadata": {
    "id": "5je1TlQCjxxi",
    "colab_type": "text"
   },
   "source": [
    "### Inspect the target values nature"
   ]
  },
  {
   "cell_type": "code",
   "metadata": {
    "pycharm": {
     "is_executing": false,
     "name": "#%%\n"
    },
    "id": "gVOpV5iHloS0",
    "colab_type": "code",
    "outputId": "e18622ac-ee82-4aee-a039-24911a76a919",
    "colab": {
     "base_uri": "https://localhost:8080/",
     "height": 449
    }
   },
   "source": [
    "df['Class'].hist(bins=3,figsize=(9,7),grid=False)"
   ],
   "execution_count": 61,
   "outputs": [
    {
     "data": {
      "text/plain": "<matplotlib.axes._subplots.AxesSubplot at 0x7fab2c0c20f0>"
     },
     "metadata": {},
     "output_type": "execute_result",
     "execution_count": 61
    },
    {
     "data": {
      "text/plain": "<Figure size 648x504 with 1 Axes>",
      "image/png": "[encoded data removed]"
     },
     "metadata": {
      "needs_background": "light"
     },
     "output_type": "display_data"
    }
   ]
  },
  {
   "cell_type": "code",
   "metadata": {
    "pycharm": {
     "is_executing": false,
     "name": "#%%\n"
    },
    "id": "XoGOW0ccloS2",
    "colab_type": "code",
    "outputId": "beae24f1-5974-4580-aa11-38fd1d17e139",
    "colab": {
     "base_uri": "https://localhost:8080/",
     "height": 121
    }
   },
   "source": [
    "y.sample(5)"
   ],
   "execution_count": 62,
   "outputs": [
    {
     "data": {
      "text/plain": "3786     1\n10006    0\n6388     0\n7590     0\n8023     0\nName: Class, dtype: int64"
     },
     "metadata": {},
     "output_type": "execute_result",
     "execution_count": 62
    }
   ]
  },
  {
   "cell_type": "code",
   "metadata": {
    "pycharm": {
     "is_executing": false,
     "name": "#%%\n"
    },
    "id": "5s8GOLkDloS6",
    "colab_type": "code",
    "outputId": "1fab2c06-adf6-4c76-e3b1-b2c884e8e43a",
    "colab": {
     "base_uri": "https://localhost:8080/",
     "height": 173
    }
   },
   "source": [
    "y.describe()"
   ],
   "execution_count": 63,
   "outputs": [
    {
     "data": {
      "text/plain": "count    11446.000000\nmean         0.540538\nstd          0.498376\nmin          0.000000\n25%          0.000000\n50%          1.000000\n75%          1.000000\nmax          1.000000\nName: Class, dtype: float64"
     },
     "metadata": {},
     "output_type": "execute_result",
     "execution_count": 63
    }
   ]
  },
  {
   "cell_type": "markdown",
   "metadata": {
    "pycharm": {
     "name": "#%% md\n"
    },
    "id": "djmbd_FrloS9",
    "colab_type": "text"
   },
   "source": [
    "##Split the dataset into train and test data"
   ]
  },
  {
   "cell_type": "code",
   "metadata": {
    "pycharm": {
     "is_executing": false,
     "name": "#%%\n"
    },
    "id": "qnfO6bjmloS9",
    "colab_type": "code",
    "colab": {}
   },
   "source": [
    "from sklearn.model_selection import train_test_split"
   ],
   "execution_count": 64,
   "outputs": []
  },
  {
   "cell_type": "code",
   "metadata": {
    "pycharm": {
     "is_executing": false,
     "name": "#%%\n"
    },
    "id": "Q3hkFpVFloS_",
    "colab_type": "code",
    "colab": {}
   },
   "source": [
    "#split dataset into train and test data\n",
    "X_train, X_test, y_train, y_test = train_test_split(X, y, test_size=0.2, random_state=1, stratify=y)"
   ],
   "execution_count": 65,
   "outputs": []
  },
  {
   "cell_type": "markdown",
   "metadata": {
    "id": "-qrFDxOpnhch",
    "colab_type": "text"
   },
   "source": [
    "#### This means that 20% of all the data will be used for testing, which leaves 80% of the data as training data for the model to learn from. Setting ‘random_state’ to 1 ensures that we get the same split each time so we can reproduce our results.\n",
    "\n",
    "#### Setting ‘stratify’ to y makes our training split represent the proportion of each value in the y variable. For example, in our dataset, if 25% of ratings are high and 75% are low, setting ‘stratify’ to y will ensure that the random split has 25% of ratings will be high and 75% will be low. But in or case, the split point (mean of y) is close to 50%."
   ]
  },
  {
   "cell_type": "markdown",
   "metadata": {
    "pycharm": {
     "name": "#%% md\n"
    },
    "id": "bLdwFdG7loTM",
    "colab_type": "text"
   },
   "source": [
    "## Building and training the model"
   ]
  },
  {
   "cell_type": "markdown",
   "metadata": {
    "id": "H4HrDe_m7OYk",
    "colab_type": "code",
    "colab": {},
    "pycharm": {
     "is_executing": false,
     "name": "#%% md\n"
    }
   },
   "source": [
    "#### Clean and Transform Data"
   ]
  },
  {
   "cell_type": "code",
   "execution_count": 66,
   "outputs": [],
   "source": [
    "Cleaned_Data = myCleanAndTransformData(RawData)\n",
    "Y_Data = Cleaned_Data['Class']\n",
    "X_Data = Cleaned_Data.drop(columns=['Class'])"
   ],
   "metadata": {
    "collapsed": false,
    "pycharm": {
     "name": "#%%\n",
     "is_executing": false
    }
   }
  },
  {
   "cell_type": "markdown",
   "metadata": {
    "pycharm": {
     "is_executing": false,
     "name": "#%% md\n"
    },
    "id": "wowUz1RDloTQ",
    "colab_type": "code",
    "outputId": "d4fc6def-aac1-4fdb-a6da-e42bc7eda9b8",
    "colab": {
     "base_uri": "https://localhost:8080/",
     "height": 69
    }
   },
   "source": [
    "#### Normalize  Data"
   ]
  },
  {
   "cell_type": "code",
   "execution_count": 67,
   "outputs": [],
   "source": [
    "Normalized_Data = myNormalize(X_Data)"
   ],
   "metadata": {
    "collapsed": false,
    "pycharm": {
     "name": "#%%\n",
     "is_executing": false
    }
   }
  },
  {
   "cell_type": "markdown",
   "metadata": {
    "pycharm": {
     "is_executing": false,
     "name": "#%% md\n"
    },
    "id": "yySrT7uhloTU",
    "colab_type": "code",
    "outputId": "8be6037c-6f1d-425e-cce0-eca4716dae56",
    "colab": {
     "base_uri": "https://localhost:8080/",
     "height": 34
    }
   },
   "source": [
    "#### PCA"
   ]
  },
  {
   "cell_type": "code",
   "execution_count": 68,
   "outputs": [
    {
     "data": {
      "text/plain": "         0         1         2         3         4         5         6   \\\n0 -0.311566  0.786508 -0.420821  0.005236 -0.078664 -0.049645 -0.062636   \n1 -0.284842  0.763991 -0.412009 -0.010872 -0.110067 -0.087028 -0.096769   \n2 -0.284838  0.767910 -0.395570 -0.007614 -0.091869 -0.059765 -0.062085   \n3 -0.291600  0.777175 -0.408316  0.000301 -0.080828 -0.049799 -0.056889   \n4  0.732145 -0.153155 -0.102203 -0.458230  0.816867  0.046173  0.015773   \n\n         7         8         9   ...        30        31        32        33  \\\n0  0.007171 -0.075349 -0.030938  ... -0.011714 -0.014519  0.009418 -0.010509   \n1  0.054629 -0.179466 -0.045545  ... -0.007195 -0.013013  0.006303 -0.011366   \n2  0.036505 -0.086830 -0.024721  ... -0.009438 -0.014719  0.006515 -0.012743   \n3  0.019144 -0.070776 -0.027970  ... -0.012221 -0.015418  0.007570 -0.011313   \n4 -0.064780  0.014353 -0.005003  ...  0.007011 -0.013215  0.019790 -0.014619   \n\n         34        35        36        37        38        39  \n0 -0.008268 -0.004441  0.005016 -0.013924 -0.006877 -0.007706  \n1 -0.008342 -0.001658  0.008166 -0.013391 -0.008518 -0.008376  \n2 -0.009970 -0.005603  0.006313 -0.015353 -0.013110 -0.008292  \n3 -0.009431 -0.008051  0.004075 -0.014942 -0.012072 -0.010171  \n4 -0.007255  0.025853  0.024249 -0.021688 -0.001597  0.048742  \n\n[5 rows x 40 columns]",
      "text/html": "<div>\n<style scoped>\n    .dataframe tbody tr th:only-of-type {\n        vertical-align: middle;\n    }\n\n    .dataframe tbody tr th {\n        vertical-align: top;\n    }\n\n    .dataframe thead th {\n        text-align: right;\n    }\n</style>\n<table border=\"1\" class=\"dataframe\">\n  <thead>\n    <tr style=\"text-align: right;\">\n      <th></th>\n      <th>0</th>\n      <th>1</th>\n      <th>2</th>\n      <th>3</th>\n      <th>4</th>\n      <th>5</th>\n      <th>6</th>\n      <th>7</th>\n      <th>8</th>\n      <th>9</th>\n      <th>...</th>\n      <th>30</th>\n      <th>31</th>\n      <th>32</th>\n      <th>33</th>\n      <th>34</th>\n      <th>35</th>\n      <th>36</th>\n      <th>37</th>\n      <th>38</th>\n      <th>39</th>\n    </tr>\n  </thead>\n  <tbody>\n    <tr>\n      <th>0</th>\n      <td>-0.311566</td>\n      <td>0.786508</td>\n      <td>-0.420821</td>\n      <td>0.005236</td>\n      <td>-0.078664</td>\n      <td>-0.049645</td>\n      <td>-0.062636</td>\n      <td>0.007171</td>\n      <td>-0.075349</td>\n      <td>-0.030938</td>\n      <td>...</td>\n      <td>-0.011714</td>\n      <td>-0.014519</td>\n      <td>0.009418</td>\n      <td>-0.010509</td>\n      <td>-0.008268</td>\n      <td>-0.004441</td>\n      <td>0.005016</td>\n      <td>-0.013924</td>\n      <td>-0.006877</td>\n      <td>-0.007706</td>\n    </tr>\n    <tr>\n      <th>1</th>\n      <td>-0.284842</td>\n      <td>0.763991</td>\n      <td>-0.412009</td>\n      <td>-0.010872</td>\n      <td>-0.110067</td>\n      <td>-0.087028</td>\n      <td>-0.096769</td>\n      <td>0.054629</td>\n      <td>-0.179466</td>\n      <td>-0.045545</td>\n      <td>...</td>\n      <td>-0.007195</td>\n      <td>-0.013013</td>\n      <td>0.006303</td>\n      <td>-0.011366</td>\n      <td>-0.008342</td>\n      <td>-0.001658</td>\n      <td>0.008166</td>\n      <td>-0.013391</td>\n      <td>-0.008518</td>\n      <td>-0.008376</td>\n    </tr>\n    <tr>\n      <th>2</th>\n      <td>-0.284838</td>\n      <td>0.767910</td>\n      <td>-0.395570</td>\n      <td>-0.007614</td>\n      <td>-0.091869</td>\n      <td>-0.059765</td>\n      <td>-0.062085</td>\n      <td>0.036505</td>\n      <td>-0.086830</td>\n      <td>-0.024721</td>\n      <td>...</td>\n      <td>-0.009438</td>\n      <td>-0.014719</td>\n      <td>0.006515</td>\n      <td>-0.012743</td>\n      <td>-0.009970</td>\n      <td>-0.005603</td>\n      <td>0.006313</td>\n      <td>-0.015353</td>\n      <td>-0.013110</td>\n      <td>-0.008292</td>\n    </tr>\n    <tr>\n      <th>3</th>\n      <td>-0.291600</td>\n      <td>0.777175</td>\n      <td>-0.408316</td>\n      <td>0.000301</td>\n      <td>-0.080828</td>\n      <td>-0.049799</td>\n      <td>-0.056889</td>\n      <td>0.019144</td>\n      <td>-0.070776</td>\n      <td>-0.027970</td>\n      <td>...</td>\n      <td>-0.012221</td>\n      <td>-0.015418</td>\n      <td>0.007570</td>\n      <td>-0.011313</td>\n      <td>-0.009431</td>\n      <td>-0.008051</td>\n      <td>0.004075</td>\n      <td>-0.014942</td>\n      <td>-0.012072</td>\n      <td>-0.010171</td>\n    </tr>\n    <tr>\n      <th>4</th>\n      <td>0.732145</td>\n      <td>-0.153155</td>\n      <td>-0.102203</td>\n      <td>-0.458230</td>\n      <td>0.816867</td>\n      <td>0.046173</td>\n      <td>0.015773</td>\n      <td>-0.064780</td>\n      <td>0.014353</td>\n      <td>-0.005003</td>\n      <td>...</td>\n      <td>0.007011</td>\n      <td>-0.013215</td>\n      <td>0.019790</td>\n      <td>-0.014619</td>\n      <td>-0.007255</td>\n      <td>0.025853</td>\n      <td>0.024249</td>\n      <td>-0.021688</td>\n      <td>-0.001597</td>\n      <td>0.048742</td>\n    </tr>\n  </tbody>\n</table>\n<p>5 rows × 40 columns</p>\n</div>"
     },
     "metadata": {},
     "output_type": "execute_result",
     "execution_count": 68
    }
   ],
   "source": [
    "n_components=40\n",
    "PCA_Data = myPCA(Normalized_Data,n_components)\n",
    "PCA_Data.head()\n",
    "\n"
   ],
   "metadata": {
    "collapsed": false,
    "pycharm": {
     "name": "#%%\n",
     "is_executing": false
    }
   }
  },
  {
   "cell_type": "markdown",
   "metadata": {
    "pycharm": {
     "is_executing": false,
     "name": "#%% md\n"
    },
    "id": "os3cGfMsloTX",
    "colab_type": "code",
    "outputId": "93125ee5-7813-48f1-a191-cee090300c19",
    "colab": {
     "base_uri": "https://localhost:8080/",
     "height": 34
    }
   },
   "source": [
    "####----------------------------------------------------------------\n",
    "#### Split  PCA_Data\n",
    "####----------------------------------------------------------------"
   ]
  },
  {
   "cell_type": "code",
   "execution_count": 69,
   "outputs": [],
   "source": [
    "X_train, X_test, y_train, y_test  = mySplitData(PCA_Data,Y_Data,0.33,42)\n",
    "X = X_train #PCA_Data\n",
    "y = y_train"
   ],
   "metadata": {
    "collapsed": false,
    "pycharm": {
     "name": "#%%\n",
     "is_executing": false
    }
   }
  },
  {
   "cell_type": "code",
   "execution_count": 70,
   "outputs": [],
   "source": [
    "from sklearn.neighbors import KNeighborsClassifier# Create KNN classifier"
   ],
   "metadata": {
    "collapsed": false,
    "pycharm": {
     "name": "#%%\n",
     "is_executing": false
    }
   }
  },
  {
   "cell_type": "code",
   "metadata": {
    "pycharm": {
     "is_executing": false,
     "name": "#%%\n"
    },
    "id": "Mr2AORsXloTa",
    "colab_type": "code",
    "colab": {}
   },
   "source": [
    "knn = KNeighborsClassifier(n_neighbors = 3)# Fit the classifier to the data\n",
    "knn.fit(X_train,y_train)"
   ],
   "execution_count": 71,
   "outputs": [
    {
     "data": {
      "text/plain": "KNeighborsClassifier(algorithm='auto', leaf_size=30, metric='minkowski',\n                     metric_params=None, n_jobs=None, n_neighbors=3, p=2,\n                     weights='uniform')"
     },
     "metadata": {},
     "output_type": "execute_result",
     "execution_count": 71
    }
   ]
  },
  {
   "cell_type": "markdown",
   "metadata": {
    "pycharm": {
     "is_executing": false,
     "name": "#%% md\n"
    },
    "id": "LYco_i5bloTf",
    "colab_type": "code",
    "colab": {}
   },
   "source": [
    "## Testing the model"
   ]
  },
  {
   "cell_type": "code",
   "execution_count": 72,
   "outputs": [
    {
     "data": {
      "text/plain": "array([1, 1, 1, 0, 1])"
     },
     "metadata": {},
     "output_type": "execute_result",
     "execution_count": 72
    }
   ],
   "source": [
    "#show first 5 model predictions on the test data\n",
    "knn.predict(X_test)[0:5]"
   ],
   "metadata": {
    "collapsed": false,
    "pycharm": {
     "name": "#%%\n",
     "is_executing": false
    }
   }
  },
  {
   "cell_type": "markdown",
   "metadata": {
    "pycharm": {
     "is_executing": false,
     "name": "#%% md\n"
    },
    "id": "X9sCz4P7loTg",
    "colab_type": "code",
    "outputId": "4d52c450-fb5e-4e20-ebf4-80456b45b60c",
    "colab": {
     "base_uri": "https://localhost:8080/",
     "height": 52
    }
   },
   "source": [
    "### We can see that the model predicted ‘high rating’ for the first 3 and 5th animes in the test set and ‘low rating' for the 4th anime."
   ]
  },
  {
   "cell_type": "markdown",
   "source": [
    "## Check accuracy of our model on the test data"
   ],
   "metadata": {
    "collapsed": false,
    "pycharm": {
     "name": "#%% md\n"
    }
   }
  },
  {
   "cell_type": "code",
   "execution_count": 73,
   "outputs": [
    {
     "data": {
      "text/plain": "0.7821296376000688"
     },
     "metadata": {},
     "output_type": "execute_result",
     "execution_count": 73
    }
   ],
   "source": [
    "knn.score(X_test, y_test)"
   ],
   "metadata": {
    "collapsed": false,
    "pycharm": {
     "name": "#%%\n",
     "is_executing": false
    }
   }
  },
  {
   "cell_type": "markdown",
   "metadata": {
    "id": "qVwzGgmmqbvj",
    "colab_type": "text"
   },
   "source": [
    "### Our model has an accuracy of approximately 78.16%. Which gives us a good start, but we will see how we can increase model performance following the steps below."
   ]
  },
  {
   "cell_type": "markdown",
   "metadata": {
    "pycharm": {
     "is_executing": false,
     "name": "#%% md\n"
    },
    "id": "hXqUEi7mloTk",
    "colab_type": "code",
    "colab": {}
   },
   "source": [
    "## k-Fold Cross-Validation"
   ]
  },
  {
   "cell_type": "code",
   "execution_count": 74,
   "outputs": [],
   "source": [
    "from sklearn.model_selection import cross_val_score\n",
    "import numpy as np #create a new KNN model"
   ],
   "metadata": {
    "collapsed": false,
    "pycharm": {
     "name": "#%%\n",
     "is_executing": false
    }
   }
  },
  {
   "cell_type": "code",
   "execution_count": 75,
   "outputs": [],
   "source": [
    "knn_cv = KNeighborsClassifier(n_neighbors=3) #train model with cv of 5 "
   ],
   "metadata": {
    "collapsed": false,
    "pycharm": {
     "name": "#%%\n",
     "is_executing": false
    }
   }
  },
  {
   "cell_type": "markdown",
   "metadata": {
    "pycharm": {
     "is_executing": false,
     "name": "#%% md\n"
    },
    "id": "kiNp4Y4tloTp",
    "colab_type": "code",
    "colab": {}
   },
   "source": [
    "## CV score (accuracy) and the average of them"
   ]
  },
  {
   "cell_type": "code",
   "execution_count": 76,
   "outputs": [
    {
     "name": "stdout",
     "text": [
      "[0.77575244 0.77718889 0.78248887 0.77290076 0.78053435]\ncv_scores mean:0.7777730626532555\n"
     ],
     "output_type": "stream"
    }
   ],
   "source": [
    "cv_scores = cross_val_score(knn_cv, X, y, cv=5) #print each cv score (accuracy) and average them\n",
    "print(cv_scores)\n",
    "print('cv_scores mean:{}'.format(np.mean(cv_scores)))"
   ],
   "metadata": {
    "collapsed": false,
    "pycharm": {
     "name": "#%%\n",
     "is_executing": false
    }
   }
  },
  {
   "cell_type": "markdown",
   "metadata": {
    "id": "Rah2Fdy_lEkw",
    "colab_type": "text"
   },
   "source": [
    "### Using cross-validation, our mean score is about 77.77%. This is a more accurate representation of how our model will perform on **unseen data** than our earlier testing using the holdout method."
   ]
  },
  {
   "cell_type": "markdown",
   "metadata": {
    "id": "Uf8LPts9qujM",
    "colab_type": "text"
   },
   "source": [
    "## Hypertuning model parameters using GridSearchCV"
   ]
  },
  {
   "cell_type": "markdown",
   "metadata": {
    "pycharm": {
     "is_executing": false,
     "name": "#%% md\n"
    },
    "id": "79DQ_u98loTu",
    "colab_type": "code",
    "outputId": "ef9b9c24-5778-42d5-bb25-00a164c9491a",
    "colab": {
     "base_uri": "https://localhost:8080/",
     "height": 34
    }
   },
   "source": [
    "### Hypertuning parameters is when you go through a process to find the optimal parameters for your model to improve accuracy. In our case, we will use GridSearchCV to find the optimal value for ‘n_neighbors’."
   ]
  },
  {
   "cell_type": "code",
   "execution_count": 77,
   "outputs": [],
   "source": [
    "from sklearn.model_selection import GridSearchCV"
   ],
   "metadata": {
    "collapsed": false,
    "pycharm": {
     "name": "#%%\n",
     "is_executing": false
    }
   }
  },
  {
   "cell_type": "code",
   "execution_count": 78,
   "outputs": [],
   "source": [
    "#create new a knn model\n",
    "knn2 = KNeighborsClassifier()"
   ],
   "metadata": {
    "collapsed": false,
    "pycharm": {
     "name": "#%%\n",
     "is_executing": false
    }
   }
  },
  {
   "cell_type": "code",
   "execution_count": 79,
   "outputs": [],
   "source": [
    "#create a dictionary of all values we want to test for n_neighbors\n",
    "param_grid = {'n_neighbors': np.arange(1, 40)}"
   ],
   "metadata": {
    "collapsed": false,
    "pycharm": {
     "name": "#%%\n",
     "is_executing": false
    }
   }
  },
  {
   "cell_type": "code",
   "execution_count": 80,
   "outputs": [],
   "source": [
    "#use gridsearch to test all values for n_neighbors\n",
    "knn_gscv = GridSearchCV(knn2, param_grid, cv=5)"
   ],
   "metadata": {
    "collapsed": false,
    "pycharm": {
     "name": "#%%\n",
     "is_executing": false
    }
   }
  },
  {
   "cell_type": "code",
   "execution_count": 81,
   "outputs": [
    {
     "data": {
      "text/plain": "GridSearchCV(cv=5, error_score='raise-deprecating',\n             estimator=KNeighborsClassifier(algorithm='auto', leaf_size=30,\n                                            metric='minkowski',\n                                            metric_params=None, n_jobs=None,\n                                            n_neighbors=5, p=2,\n                                            weights='uniform'),\n             iid='warn', n_jobs=None,\n             param_grid={'n_neighbors': array([ 1,  2,  3,  4,  5,  6,  7,  8,  9, 10, 11, 12, 13, 14, 15, 16, 17,\n       18, 19, 20, 21, 22, 23, 24, 25, 26, 27, 28, 29, 30, 31, 32, 33, 34,\n       35, 36, 37, 38, 39])},\n             pre_dispatch='2*n_jobs', refit=True, return_train_score=False,\n             scoring=None, verbose=0)"
     },
     "metadata": {},
     "output_type": "execute_result",
     "execution_count": 81
    }
   ],
   "source": [
    "#fit model to data\n",
    "knn_gscv.fit(X, y)"
   ],
   "metadata": {
    "collapsed": false,
    "pycharm": {
     "name": "#%%\n",
     "is_executing": false
    }
   }
  },
  {
   "cell_type": "markdown",
   "metadata": {
    "pycharm": {
     "name": "#%% md\n",
     "is_executing": false
    },
    "id": "V1ljBRL8loT0",
    "colab_type": "code",
    "outputId": "8a5be0a8-e218-4c3c-8088-4371b14ee598",
    "colab": {
     "base_uri": "https://localhost:8080/",
     "height": 175
    }
   },
   "source": [
    "## Check top performing n_neighbors value"
   ]
  },
  {
   "cell_type": "markdown",
   "metadata": {
    "id": "_M71CPWfslos",
    "colab_type": "text",
    "pycharm": {
     "name": "#%% md\n"
    }
   },
   "source": [
    "### After training, we can check which of our values for ‘n_neighbors’ that we tested performed the best. To do this, we will call ‘best_params_’ on our model."
   ]
  },
  {
   "cell_type": "code",
   "execution_count": 82,
   "outputs": [
    {
     "data": {
      "text/plain": "{'n_neighbors': 9}"
     },
     "metadata": {},
     "output_type": "execute_result",
     "execution_count": 82
    }
   ],
   "source": [
    "knn_gscv.best_params_"
   ],
   "metadata": {
    "collapsed": false,
    "pycharm": {
     "name": "#%%\n",
     "is_executing": false
    }
   }
  },
  {
   "cell_type": "markdown",
   "metadata": {
    "pycharm": {
     "name": "#%% md\n",
     "is_executing": false
    },
    "id": "4OwoLbLMloT3",
    "colab_type": "code",
    "outputId": "4d8bff9e-4b31-468c-8655-600fef7d07da",
    "colab": {
     "base_uri": "https://localhost:8080/",
     "height": 173
    }
   },
   "source": [
    "### As we can see, 9 is the optimal value for ‘n_neighbors’. \n",
    "\n",
    "### We can use the ‘best_score_’ function to check the accuracy of our model when ‘n_neighbors’ is 9.\n",
    "\n",
    "### ‘best_score_’ outputs the mean accuracy of the scores obtained through cross-validation."
   ]
  },
  {
   "cell_type": "markdown",
   "metadata": {
    "id": "wXyMVfrKmQOH",
    "colab_type": "text",
    "pycharm": {
     "name": "#%% md\n"
    }
   },
   "source": [
    "## Check mean score for the top performing value of n_neighbors"
   ]
  },
  {
   "cell_type": "code",
   "execution_count": 83,
   "outputs": [
    {
     "data": {
      "text/plain": "0.7915959972862958"
     },
     "metadata": {},
     "output_type": "execute_result",
     "execution_count": 83
    }
   ],
   "source": [
    "knn_gscv.best_score_"
   ],
   "metadata": {
    "collapsed": false,
    "pycharm": {
     "name": "#%%\n",
     "is_executing": false
    }
   }
  },
  {
   "cell_type": "markdown",
   "metadata": {
    "collapsed": false,
    "pycharm": {
     "name": "#%% md\n"
    },
    "id": "1v7m7IiKloT6",
    "colab_type": "text"
   },
   "source": [
    "### Our model now, gives us an accuracy of 79.18% to be able to predict when new data is used."
   ]
  },
  {
   "cell_type": "markdown",
   "metadata": {
    "pycharm": {
     "name": "#%% md\n",
     "is_executing": false
    },
    "id": "Hrw0GhIvloT7",
    "colab_type": "code",
    "outputId": "2e695493-9974-4a55-e006-210ff14f3e6a",
    "colab": {
     "base_uri": "https://localhost:8080/",
     "height": 295
    }
   },
   "source": [
    "## Confusion Matrix (get the predictions using the classifier which was fitted above)"
   ]
  },
  {
   "cell_type": "code",
   "execution_count": 84,
   "outputs": [
    {
     "data": {
      "text/plain": "Predicted     0     1    All\nTrue                        \n0          2823  1282   4105\n1          1249  6263   7512\nAll        4072  7545  11617",
      "text/html": "<div>\n<style scoped>\n    .dataframe tbody tr th:only-of-type {\n        vertical-align: middle;\n    }\n\n    .dataframe tbody tr th {\n        vertical-align: top;\n    }\n\n    .dataframe thead th {\n        text-align: right;\n    }\n</style>\n<table border=\"1\" class=\"dataframe\">\n  <thead>\n    <tr style=\"text-align: right;\">\n      <th>Predicted</th>\n      <th>0</th>\n      <th>1</th>\n      <th>All</th>\n    </tr>\n    <tr>\n      <th>True</th>\n      <th></th>\n      <th></th>\n      <th></th>\n    </tr>\n  </thead>\n  <tbody>\n    <tr>\n      <th>0</th>\n      <td>2823</td>\n      <td>1282</td>\n      <td>4105</td>\n    </tr>\n    <tr>\n      <th>1</th>\n      <td>1249</td>\n      <td>6263</td>\n      <td>7512</td>\n    </tr>\n    <tr>\n      <th>All</th>\n      <td>4072</td>\n      <td>7545</td>\n      <td>11617</td>\n    </tr>\n  </tbody>\n</table>\n</div>"
     },
     "metadata": {},
     "output_type": "execute_result",
     "execution_count": 84
    }
   ],
   "source": [
    "#https://www.kaggle.com/amolbhivarkar/knn-for-classification-using-scikit-learn\n",
    "\n",
    "#import confusion_matrix\n",
    "from sklearn.metrics import confusion_matrix\n",
    "#let us get the predictions using the classifier we had fit above\n",
    "y_pred = knn.predict(X_test)\n",
    "pd.crosstab(y_test, y_pred, rownames=['True'], colnames=['Predicted'], margins=True)"
   ],
   "metadata": {
    "collapsed": false,
    "pycharm": {
     "name": "#%%\n",
     "is_executing": false
    }
   }
  },
  {
   "cell_type": "markdown",
   "metadata": {
    "id": "YxXto5yHt1Qb",
    "colab_type": "text",
    "pycharm": {
     "name": "#%% md\n"
    }
   },
   "source": [
    "### The confusion matrix describes the performance of a classification model (or \"classifier\") on a set of test data for which the true values are known.\n",
    "\n",
    "### For, it can be appreciated that the rate of True Positives is 82.91%. It means, that the porbability of classifying a False Positive (missclassify) is about 17%"
   ]
  },
  {
   "cell_type": "markdown",
   "metadata": {
    "id": "rM6_zpAjum7k",
    "colab_type": "text",
    "pycharm": {
     "name": "#%% md\n"
    }
   },
   "source": [
    "## Classification report"
   ]
  },
  {
   "cell_type": "code",
   "execution_count": 85,
   "outputs": [
    {
     "name": "stdout",
     "text": [
      "              precision    recall  f1-score   support\n\n           0       0.69      0.69      0.69      4105\n           1       0.83      0.83      0.83      7512\n\n    accuracy                           0.78     11617\n   macro avg       0.76      0.76      0.76     11617\nweighted avg       0.78      0.78      0.78     11617\n\n"
     ],
     "output_type": "stream"
    }
   ],
   "source": [
    "#import classification_report\n",
    "from sklearn.metrics import classification_report\n",
    "print(classification_report(y_test,y_pred))\n"
   ],
   "metadata": {
    "collapsed": false,
    "pycharm": {
     "name": "#%%\n",
     "is_executing": false
    }
   }
  },
  {
   "cell_type": "markdown",
   "source": [
    "### The classification report shows a representation of the main classification metrics (precision, recall, f1-score, support) on a per-class basis. \n",
    "\n",
    "### This gives a deeper intuition of the classifier behavior over global accuracy which can mask functional weaknesses in one class of a multiclass problem. \n",
    "\n",
    "### For the model, the visual classification reports that it has stronger classification metrics which are balanced.\n",
    "\n"
   ],
   "metadata": {
    "collapsed": false,
    "pycharm": {
     "name": "#%% md\n"
    }
   }
  },
  {
   "cell_type": "markdown",
   "source": [
    "## ROC (Receiver Operating Characteristic) curve"
   ],
   "metadata": {
    "collapsed": false,
    "pycharm": {
     "name": "#%% md\n"
    }
   }
  },
  {
   "cell_type": "markdown",
   "metadata": {
    "collapsed": false,
    "pycharm": {
     "name": "#%% md\n"
    },
    "id": "F-4U0e6IloUE",
    "colab_type": "text"
   },
   "source": [
    "https://www.kaggle.com/amolbhivarkar/knn-for-classification-using-scikit-learn\n"
   ]
  },
  {
   "cell_type": "code",
   "execution_count": 86,
   "outputs": [
    {
     "data": {
      "text/plain": "<Figure size 432x288 with 1 Axes>",
      "image/png": "[encoded data removed]"
     },
     "metadata": {
      "needs_background": "light"
     },
     "output_type": "display_data"
    }
   ],
   "source": [
    "y_pred_proba = knn.predict_proba(X_test)[:,1]\n",
    "from sklearn.metrics import roc_curve\n",
    "fpr, tpr, thresholds = roc_curve(y_test, y_pred_proba)\n",
    "plt.plot([0,1],[0,1],'r--')\n",
    "plt.plot(fpr,tpr, label='Knn, AUC: 0.82')\n",
    "plt.legend()\n",
    "plt.xlabel('False Positive Rate')\n",
    "plt.ylabel('True Positive Rate')\n",
    "plt.title('Knn(n_neighbors=9) ROC curve')\n",
    "plt.show()"
   ],
   "metadata": {
    "collapsed": false,
    "pycharm": {
     "name": "#%%\n",
     "is_executing": false
    }
   }
  },
  {
   "cell_type": "code",
   "execution_count": 87,
   "outputs": [
    {
     "data": {
      "text/plain": "0.8244852734204242"
     },
     "metadata": {},
     "output_type": "execute_result",
     "execution_count": 87
    }
   ],
   "source": [
    "#Area under ROC curve\n",
    "from sklearn.metrics import roc_auc_score\n",
    "roc_auc_score(y_test,y_pred_proba)"
   ],
   "metadata": {
    "collapsed": false,
    "pycharm": {
     "name": "#%%\n",
     "is_executing": false
    }
   }
  },
  {
   "cell_type": "markdown",
   "metadata": {
    "id": "xmjv_ytiimDu",
    "colab_type": "text",
    "pycharm": {
     "name": "#%% md\n"
    }
   },
   "source": [
    "### The ROC curve demonstrates several things:\n",
    "\n",
    "### 1) It shows the tradeoff between sensitivity and specificity (any increase in sensitivity will be accompanied by a decrease in specificity).\n",
    "\n",
    "### 2) The closer the curve follows the left-hand border and then the top border of the ROC space, the more accurate the test.\n",
    "\n",
    "### 3)The closer the curve comes to the 45-degree diagonal of the ROC space, the less accurate the test.\n",
    "\n",
    "### 4) The area under the curve is a measure of test accuracy. For our model, it represents 78.47%"
   ]
  },
  {
   "cell_type": "markdown",
   "metadata": {
    "id": "K3YqqwZ9iwLF",
    "colab_type": "code",
    "colab": {},
    "pycharm": {
     "is_executing": false,
     "name": "#%% md\n"
    }
   },
   "source": [
    "## Complexity Curve / Validation Curve"
   ]
  },
  {
   "cell_type": "code",
   "execution_count": 100,
   "outputs": [
    {
     "data": {
      "text/plain": "<Figure size 432x288 with 1 Axes>",
      "image/png": "[encoded data removed]"
     },
     "metadata": {
      "needs_background": "light"
     },
     "output_type": "display_data"
    }
   ],
   "source": [
    "#import KNeighborsClassifier\n",
    "from sklearn.neighbors import KNeighborsClassifier\n",
    "\n",
    "#Setup arrays to store training and test accuracies\n",
    "neighbors = np.arange(1,40)\n",
    "train_accuracy =np.empty(len(neighbors))\n",
    "test_accuracy = np.empty(len(neighbors))\n",
    "\n",
    "for i,k in enumerate(neighbors):\n",
    "    #Setup a knn classifier with k neighbors\n",
    "    knn = KNeighborsClassifier(n_neighbors=k)\n",
    "    \n",
    "    #Fit the model\n",
    "    knn.fit(X_train, y_train)\n",
    "    \n",
    "    #Compute accuracy on the training set\n",
    "    train_accuracy[i] = knn.score(X_train, y_train)\n",
    "    \n",
    "    #Compute accuracy on the test set\n",
    "    test_accuracy[i] = knn.score(X_test, y_test) \n",
    "\n",
    "#Generate plot\n",
    "plt.title('k-NN Varying number of neighbors/Complexity Curve/Validation Curve')\n",
    "plt.plot(neighbors, test_accuracy, label='Testing Accuracy/Cross-validation score')\n",
    "plt.plot(neighbors, train_accuracy, label='Training accuracy/Training score')\n",
    "plt.legend()\n",
    "plt.xlabel('Number of neighbors')\n",
    "plt.ylabel('Accuracy')\n",
    "plt.show()"
   ],
   "metadata": {
    "collapsed": false,
    "pycharm": {
     "name": "#%%\n",
     "is_executing": false
    }
   }
  },
  {
   "cell_type": "markdown",
   "source": [
    "### We can observe above that we get maximum testing accuracy for k=9. \n",
    "\n",
    "### So, the KNeighborsClassifier with number of neighbors as 9, offers the best tunning for the model to generate accuracy predictions.\n",
    "\n",
    "### We can see in the resulting visualization that a with number of neighbors less than 9 severely underfits the model on this data set because the training score and testing score climb together in this parameter range, and because of the high variability of cross validation on the test scores.\n",
    "\n",
    "###  After k=9, the training and test scores converge, this is because from this value on, the model is beginning to overfit the training data, providing no generalizability to the model. \n",
    "\n",
    "### However, because the cross validation score does not necessarily decrease, the model is not suffering from high error due to variance."
   ],
   "metadata": {
    "collapsed": false,
    "pycharm": {
     "name": "#%% md\n"
    }
   }
  },
  {
   "cell_type": "markdown",
   "source": [
    "## Learning Curve"
   ],
   "metadata": {
    "collapsed": false,
    "pycharm": {
     "name": "#%% md\n"
    }
   }
  },
  {
   "cell_type": "code",
   "execution_count": 98,
   "outputs": [
    {
     "data": {
      "text/plain": "<Figure size 432x288 with 1 Axes>",
      "image/png": "[encoded data removed]"
     },
     "metadata": {
      "needs_background": "light"
     },
     "output_type": "display_data"
    }
   ],
   "source": [
    "#https://chrisalbon.com/machine_learning/model_evaluation/plot_the_learning_curve/\n",
    "# Create CV training and test scores for various training set sizes\n",
    "from sklearn.model_selection import learning_curve\n",
    "\n",
    "train_sizes, train_scores, test_scores = learning_curve(KNeighborsClassifier(), \n",
    "                                                        X, \n",
    "                                                        y,\n",
    "                                                        # Number of folds in cross-validation\n",
    "                                                        cv=10,\n",
    "                                                        # Evaluation metric\n",
    "                                                        scoring='accuracy',\n",
    "                                                        # Use all computer cores\n",
    "                                                        n_jobs=-1, \n",
    "                                                        # 50 different sizes of the training set\n",
    "                                                        train_sizes=np.linspace(0.01, 1.0, 50))\n",
    "\n",
    "# Create means and standard deviations of training set scores\n",
    "train_mean = np.mean(train_scores, axis=1)\n",
    "train_std = np.std(train_scores, axis=1)\n",
    "\n",
    "# Create means and standard deviations of test set scores\n",
    "test_mean = np.mean(test_scores, axis=1)\n",
    "test_std = np.std(test_scores, axis=1)\n",
    "\n",
    "# Draw lines\n",
    "plt.plot(train_sizes, train_mean, '--', color=\"blue\",  label=\"Training score\")\n",
    "plt.plot(train_sizes, test_mean, color=\"red\", label=\"Cross-validation score\")\n",
    "\n",
    "# Draw bands\n",
    "plt.fill_between(train_sizes, train_mean - train_std, train_mean + train_std, color=\"#7fbfbf\")\n",
    "plt.fill_between(train_sizes, test_mean - test_std, test_mean + test_std, color=\"#DDDDDD\")\n",
    "\n",
    "# Create plot\n",
    "plt.title(\"Learning Curve\")\n",
    "plt.xlabel(\"Training Set Size\"), plt.ylabel(\"Accuracy Score\"), plt.legend(loc=\"best\")\n",
    "plt.tight_layout()\n",
    "plt.show()\n"
   ],
   "metadata": {
    "collapsed": false,
    "pycharm": {
     "name": "#%%\n",
     "is_executing": false
    }
   }
  },
  {
   "cell_type": "markdown",
   "source": [
    "### A learning curve shows the relationship of the training score vs the cross validated test score for an estimator with a varying number of training samples. This visualization is typically used two show two things:\n",
    "\n",
    "### - How much the estimator benefits from more data (e.g. do we have “enough data” or will the estimator get better if used in an online fashion).\n",
    "\n",
    "### - If the estimator is more sensitive to error due to variance vs. error due to bias.\n",
    "\n",
    "### Due to the training and cross validation scores converge together as more data is added, then ***the model will probably not benefit from more data addition***. It means that is can ***produce the same predictions only with a dataset with a minimum dimension of 6'000 rows of data***. \n",
    "\n",
    "### It is important to mention that, the curves are plotted with the mean scores, however variability during cross-validation is shown with the shaded areas that represent a standard deviation above and below the mean for all cross-validations. \n",
    "\n",
    "### Moreover, if the model suffers from error due to bias, then there will likely be more variability around the training score curve. If the model suffers from error due to variance, then there will be more variability around the cross validated score."
   ],
   "metadata": {
    "collapsed": false,
    "pycharm": {
     "name": "#%% md\n"
    }
   }
  },
  {
   "cell_type": "markdown",
   "source": [
    "## Exporting the model (Flask)"
   ],
   "metadata": {
    "collapsed": false,
    "pycharm": {
     "name": "#%% md\n"
    }
   }
  },
  {
   "cell_type": "code",
   "execution_count": 99,
   "outputs": [],
   "source": [
    "#from sklearn.externals import joblib\n",
    "#joblib.dump(clf, 'my_knn_model.pkl', compress=9)\n",
    "\n",
    "#from sklearn.externals import joblib\n",
    "#model_clone = joblib.load('my_knn_model.pkl')\n",
    "#y_pred_dt = model_clone.predict_proba(X_test)[:, 1]\n",
    "#y_pred_dt"
   ],
   "metadata": {
    "collapsed": false,
    "pycharm": {
     "name": "#%%\n",
     "is_executing": false
    }
   }
  },
  {
   "cell_type": "markdown",
   "source": [
    "### Exporting a lazy learner model as kNN, requires the whole dataset to be exported as well to Flask, so it is impractical to do so. (It requires to reply the whole process in Flask to be able to predict) "
   ],
   "metadata": {
    "collapsed": false,
    "pycharm": {
     "name": "#%% md\n"
    }
   }
  }
 ]
}