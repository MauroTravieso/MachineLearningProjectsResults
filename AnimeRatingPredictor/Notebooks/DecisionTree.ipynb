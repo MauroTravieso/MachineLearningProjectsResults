{
 "cells": [
  {
   "cell_type": "markdown",
   "metadata": {
    "collapsed": true,
    "pycharm": {
     "name": "#%% md\n"
    }
   },
   "source": [
    "<div class=\"alert alert-block alert-info\">\n",
    "<ul>\n",
    "<li>Course: Machine Learning</li>\n",
    "<li>Project: 01</li>\n",
    "<li>Team members</li>\n",
    "<li>Mauro Travieso Pena</li>\n",
    "<li>Quoc Huy Luong</li>\n",
    "<li>Ngoc Bao Tran</li>\n",
    "<ul>\n",
    "</div>\n",
    "\n"
   ]
  },
  {
   "cell_type": "markdown",
   "metadata": {},
   "source": [
    "# Classification with Decision Tree"
   ]
  },
  {
   "cell_type": "markdown",
   "metadata": {},
   "source": [
    "<div class=\"alert alert-block alert-info\">\n",
    "In this experiment, we use decision tree to classify the anmie dataset.\n",
    "<ol>\n",
    "<li>Clean and Transform Data</li>\n",
    "<li>Split Training/Testing dataset</li>\n",
    "<li>Run the model with 3 kind of data: Original data, Normalized data and PCA data</li>\n",
    "<li>Turning the model based on the learning curve and validation curve\n",
    "<ol><b>Learning Curve</b>\n",
    "<li>Using scikit-learn method\n",
    "#https://scikit-learn.org/stable/modules/learning_curve.html</li>\n",
    "<li>Our method (we did it, because we want to know how learning curve method works)</li>\n",
    "</ol>\n",
    "<ol><b>Validation Curve</b>\n",
    "<li>Using scikit-learn method\n",
    "https://scikit-learn.org/stable/modules/generated/sklearn.model_selection.validation_curve.html#sklearn.model_selection.validation_curve\n",
    "<li>Our method (we did it, because we want to know how Validation curve method works)</li>\n",
    "</ol>\n",
    "</li>\n",
    "<li>Grid search CV</li>\n",
    "<li>Final Evaluation</li>\n",
    "</ol> \n",
    "</div>\n"
   ]
  },
  {
   "cell_type": "markdown",
   "metadata": {},
   "source": [
    "# Import Libraries "
   ]
  },
  {
   "cell_type": "code",
   "execution_count": 1,
   "metadata": {
    "pycharm": {
     "name": "#%%\n"
    }
   },
   "outputs": [
    {
     "name": "stdout",
     "output_type": "stream",
     "text": [
      "importing Jupyter notebook from functions.ipynb\n",
      "importing Jupyter notebook from myPlot.ipynb\n"
     ]
    }
   ],
   "source": [
    "import pandas as pd\n",
    "import numpy as np\n",
    "import random as rnd\n",
    "import seaborn as sns\n",
    "import matplotlib.pyplot as plt\n",
    "%matplotlib inline\n",
    "\n",
    "import import_ipynb \n",
    "import functions as myLib\n",
    "import myPlot as myPlotLib\n",
    "\n"
   ]
  },
  {
   "cell_type": "markdown",
   "metadata": {},
   "source": [
    "# Load data from files"
   ]
  },
  {
   "cell_type": "code",
   "execution_count": 2,
   "metadata": {
    "pycharm": {
     "name": "#%%\n"
    }
   },
   "outputs": [],
   "source": [
    "RawData = pd.read_csv('../data/anime.csv')\n"
   ]
  },
  {
   "cell_type": "markdown",
   "metadata": {},
   "source": [
    "#### Clean and Transform Data"
   ]
  },
  {
   "cell_type": "code",
   "execution_count": 3,
   "metadata": {
    "pycharm": {
     "name": "#%%\n"
    }
   },
   "outputs": [],
   "source": [
    "Cleaned_Data = myLib.myCleanAndTransformData(RawData)\n",
    "Y_Data = Cleaned_Data['Class']\n",
    "X_Data = Cleaned_Data.drop(columns=['Class'])\n"
   ]
  },
  {
   "cell_type": "markdown",
   "metadata": {},
   "source": [
    "#### Normalize  Data"
   ]
  },
  {
   "cell_type": "code",
   "execution_count": 4,
   "metadata": {
    "pycharm": {
     "name": "#%%\n"
    }
   },
   "outputs": [],
   "source": [
    "Normalized_Data = myLib.myNormalize(X_Data)"
   ]
  },
  {
   "cell_type": "markdown",
   "metadata": {},
   "source": [
    "#### PCA"
   ]
  },
  {
   "cell_type": "code",
   "execution_count": 5,
   "metadata": {
    "pycharm": {
     "name": "#%%\n"
    }
   },
   "outputs": [
    {
     "data": {
      "text/html": [
       "<div>\n",
       "<style scoped>\n",
       "    .dataframe tbody tr th:only-of-type {\n",
       "        vertical-align: middle;\n",
       "    }\n",
       "\n",
       "    .dataframe tbody tr th {\n",
       "        vertical-align: top;\n",
       "    }\n",
       "\n",
       "    .dataframe thead th {\n",
       "        text-align: right;\n",
       "    }\n",
       "</style>\n",
       "<table border=\"1\" class=\"dataframe\">\n",
       "  <thead>\n",
       "    <tr style=\"text-align: right;\">\n",
       "      <th></th>\n",
       "      <th>0</th>\n",
       "      <th>1</th>\n",
       "      <th>2</th>\n",
       "      <th>3</th>\n",
       "      <th>4</th>\n",
       "      <th>5</th>\n",
       "      <th>6</th>\n",
       "      <th>7</th>\n",
       "      <th>8</th>\n",
       "      <th>9</th>\n",
       "      <th>...</th>\n",
       "      <th>30</th>\n",
       "      <th>31</th>\n",
       "      <th>32</th>\n",
       "      <th>33</th>\n",
       "      <th>34</th>\n",
       "      <th>35</th>\n",
       "      <th>36</th>\n",
       "      <th>37</th>\n",
       "      <th>38</th>\n",
       "      <th>39</th>\n",
       "    </tr>\n",
       "  </thead>\n",
       "  <tbody>\n",
       "    <tr>\n",
       "      <th>0</th>\n",
       "      <td>-0.311391</td>\n",
       "      <td>0.786561</td>\n",
       "      <td>-0.420790</td>\n",
       "      <td>0.005234</td>\n",
       "      <td>-0.078663</td>\n",
       "      <td>-0.049646</td>\n",
       "      <td>-0.062640</td>\n",
       "      <td>0.007159</td>\n",
       "      <td>-0.075350</td>\n",
       "      <td>-0.030939</td>\n",
       "      <td>...</td>\n",
       "      <td>-0.011728</td>\n",
       "      <td>-0.014541</td>\n",
       "      <td>0.009385</td>\n",
       "      <td>-0.010536</td>\n",
       "      <td>-0.008256</td>\n",
       "      <td>-0.004200</td>\n",
       "      <td>0.005373</td>\n",
       "      <td>-0.013778</td>\n",
       "      <td>-0.006237</td>\n",
       "      <td>-0.008713</td>\n",
       "    </tr>\n",
       "    <tr>\n",
       "      <th>1</th>\n",
       "      <td>-0.284662</td>\n",
       "      <td>0.764035</td>\n",
       "      <td>-0.411982</td>\n",
       "      <td>-0.010872</td>\n",
       "      <td>-0.110067</td>\n",
       "      <td>-0.087035</td>\n",
       "      <td>-0.096786</td>\n",
       "      <td>0.054585</td>\n",
       "      <td>-0.179466</td>\n",
       "      <td>-0.045549</td>\n",
       "      <td>...</td>\n",
       "      <td>-0.007204</td>\n",
       "      <td>-0.013037</td>\n",
       "      <td>0.006279</td>\n",
       "      <td>-0.011394</td>\n",
       "      <td>-0.008336</td>\n",
       "      <td>-0.001433</td>\n",
       "      <td>0.008481</td>\n",
       "      <td>-0.013290</td>\n",
       "      <td>-0.007967</td>\n",
       "      <td>-0.009144</td>\n",
       "    </tr>\n",
       "    <tr>\n",
       "      <th>2</th>\n",
       "      <td>-0.284659</td>\n",
       "      <td>0.767955</td>\n",
       "      <td>-0.395541</td>\n",
       "      <td>-0.007615</td>\n",
       "      <td>-0.091869</td>\n",
       "      <td>-0.059768</td>\n",
       "      <td>-0.062093</td>\n",
       "      <td>0.036484</td>\n",
       "      <td>-0.086830</td>\n",
       "      <td>-0.024722</td>\n",
       "      <td>...</td>\n",
       "      <td>-0.009448</td>\n",
       "      <td>-0.014743</td>\n",
       "      <td>0.006490</td>\n",
       "      <td>-0.012768</td>\n",
       "      <td>-0.009965</td>\n",
       "      <td>-0.005390</td>\n",
       "      <td>0.006614</td>\n",
       "      <td>-0.015253</td>\n",
       "      <td>-0.012579</td>\n",
       "      <td>-0.009056</td>\n",
       "    </tr>\n",
       "    <tr>\n",
       "      <th>3</th>\n",
       "      <td>-0.291422</td>\n",
       "      <td>0.777222</td>\n",
       "      <td>-0.408286</td>\n",
       "      <td>0.000300</td>\n",
       "      <td>-0.080828</td>\n",
       "      <td>-0.049801</td>\n",
       "      <td>-0.056895</td>\n",
       "      <td>0.019128</td>\n",
       "      <td>-0.070776</td>\n",
       "      <td>-0.027971</td>\n",
       "      <td>...</td>\n",
       "      <td>-0.012228</td>\n",
       "      <td>-0.015440</td>\n",
       "      <td>0.007549</td>\n",
       "      <td>-0.011337</td>\n",
       "      <td>-0.009423</td>\n",
       "      <td>-0.007861</td>\n",
       "      <td>0.004354</td>\n",
       "      <td>-0.014841</td>\n",
       "      <td>-0.011565</td>\n",
       "      <td>-0.010910</td>\n",
       "    </tr>\n",
       "    <tr>\n",
       "      <th>4</th>\n",
       "      <td>0.731807</td>\n",
       "      <td>-0.153182</td>\n",
       "      <td>-0.102195</td>\n",
       "      <td>-0.458238</td>\n",
       "      <td>0.816874</td>\n",
       "      <td>0.046188</td>\n",
       "      <td>0.015792</td>\n",
       "      <td>-0.064744</td>\n",
       "      <td>0.014353</td>\n",
       "      <td>-0.005002</td>\n",
       "      <td>...</td>\n",
       "      <td>0.006958</td>\n",
       "      <td>-0.013313</td>\n",
       "      <td>0.019676</td>\n",
       "      <td>-0.014778</td>\n",
       "      <td>-0.007201</td>\n",
       "      <td>0.026962</td>\n",
       "      <td>0.025856</td>\n",
       "      <td>-0.021114</td>\n",
       "      <td>0.000782</td>\n",
       "      <td>0.043708</td>\n",
       "    </tr>\n",
       "  </tbody>\n",
       "</table>\n",
       "<p>5 rows × 40 columns</p>\n",
       "</div>"
      ],
      "text/plain": [
       "         0         1         2         3         4         5         6   \\\n",
       "0 -0.311391  0.786561 -0.420790  0.005234 -0.078663 -0.049646 -0.062640   \n",
       "1 -0.284662  0.764035 -0.411982 -0.010872 -0.110067 -0.087035 -0.096786   \n",
       "2 -0.284659  0.767955 -0.395541 -0.007615 -0.091869 -0.059768 -0.062093   \n",
       "3 -0.291422  0.777222 -0.408286  0.000300 -0.080828 -0.049801 -0.056895   \n",
       "4  0.731807 -0.153182 -0.102195 -0.458238  0.816874  0.046188  0.015792   \n",
       "\n",
       "         7         8         9   ...        30        31        32        33  \\\n",
       "0  0.007159 -0.075350 -0.030939  ... -0.011728 -0.014541  0.009385 -0.010536   \n",
       "1  0.054585 -0.179466 -0.045549  ... -0.007204 -0.013037  0.006279 -0.011394   \n",
       "2  0.036484 -0.086830 -0.024722  ... -0.009448 -0.014743  0.006490 -0.012768   \n",
       "3  0.019128 -0.070776 -0.027971  ... -0.012228 -0.015440  0.007549 -0.011337   \n",
       "4 -0.064744  0.014353 -0.005002  ...  0.006958 -0.013313  0.019676 -0.014778   \n",
       "\n",
       "         34        35        36        37        38        39  \n",
       "0 -0.008256 -0.004200  0.005373 -0.013778 -0.006237 -0.008713  \n",
       "1 -0.008336 -0.001433  0.008481 -0.013290 -0.007967 -0.009144  \n",
       "2 -0.009965 -0.005390  0.006614 -0.015253 -0.012579 -0.009056  \n",
       "3 -0.009423 -0.007861  0.004354 -0.014841 -0.011565 -0.010910  \n",
       "4 -0.007201  0.026962  0.025856 -0.021114  0.000782  0.043708  \n",
       "\n",
       "[5 rows x 40 columns]"
      ]
     },
     "execution_count": 5,
     "metadata": {},
     "output_type": "execute_result"
    }
   ],
   "source": [
    "n_components=40\n",
    "PCA_Data = myLib.myPCA(Normalized_Data,n_components)\n",
    "PCA_Data.head()\n"
   ]
  },
  {
   "cell_type": "markdown",
   "metadata": {
    "pycharm": {
     "name": "#%% md\n"
    }
   },
   "source": [
    "####----------------------------------------------------------------\n",
    "# Decision Tree Classification \n",
    "####----------------------------------------------------------------"
   ]
  },
  {
   "cell_type": "code",
   "execution_count": 6,
   "metadata": {
    "pycharm": {
     "name": "#%%\n"
    }
   },
   "outputs": [
    {
     "data": {
      "text/plain": [
       "0    1\n",
       "1    1\n",
       "2    1\n",
       "3    1\n",
       "4    1\n",
       "Name: Class, dtype: int64"
      ]
     },
     "execution_count": 6,
     "metadata": {},
     "output_type": "execute_result"
    }
   ],
   "source": [
    "Y_Data.head()"
   ]
  },
  {
   "cell_type": "code",
   "execution_count": 7,
   "metadata": {
    "pycharm": {
     "name": "#%%\n"
    }
   },
   "outputs": [
    {
     "data": {
      "text/html": [
       "<div>\n",
       "<style scoped>\n",
       "    .dataframe tbody tr th:only-of-type {\n",
       "        vertical-align: middle;\n",
       "    }\n",
       "\n",
       "    .dataframe tbody tr th {\n",
       "        vertical-align: top;\n",
       "    }\n",
       "\n",
       "    .dataframe thead th {\n",
       "        text-align: right;\n",
       "    }\n",
       "</style>\n",
       "<table border=\"1\" class=\"dataframe\">\n",
       "  <thead>\n",
       "    <tr style=\"text-align: right;\">\n",
       "      <th></th>\n",
       "      <th>members</th>\n",
       "      <th>type_Movie</th>\n",
       "      <th>type_Music</th>\n",
       "      <th>type_ONA</th>\n",
       "      <th>type_OVA</th>\n",
       "      <th>type_Special</th>\n",
       "      <th>type_TV</th>\n",
       "      <th>genre_ Adventure</th>\n",
       "      <th>genre_ Cars</th>\n",
       "      <th>genre_ Comedy</th>\n",
       "      <th>...</th>\n",
       "      <th>genre_Shoujo</th>\n",
       "      <th>genre_Shounen</th>\n",
       "      <th>genre_Slice of Life</th>\n",
       "      <th>genre_Space</th>\n",
       "      <th>genre_Sports</th>\n",
       "      <th>genre_Super Power</th>\n",
       "      <th>genre_Supernatural</th>\n",
       "      <th>genre_Thriller</th>\n",
       "      <th>genre_Vampire</th>\n",
       "      <th>genre_Yaoi</th>\n",
       "    </tr>\n",
       "  </thead>\n",
       "  <tbody>\n",
       "    <tr>\n",
       "      <th>0</th>\n",
       "      <td>200630</td>\n",
       "      <td>1</td>\n",
       "      <td>0</td>\n",
       "      <td>0</td>\n",
       "      <td>0</td>\n",
       "      <td>0</td>\n",
       "      <td>0</td>\n",
       "      <td>0</td>\n",
       "      <td>0</td>\n",
       "      <td>0</td>\n",
       "      <td>...</td>\n",
       "      <td>0</td>\n",
       "      <td>0</td>\n",
       "      <td>0</td>\n",
       "      <td>0</td>\n",
       "      <td>0</td>\n",
       "      <td>0</td>\n",
       "      <td>0</td>\n",
       "      <td>0</td>\n",
       "      <td>0</td>\n",
       "      <td>0</td>\n",
       "    </tr>\n",
       "    <tr>\n",
       "      <th>1</th>\n",
       "      <td>200630</td>\n",
       "      <td>1</td>\n",
       "      <td>0</td>\n",
       "      <td>0</td>\n",
       "      <td>0</td>\n",
       "      <td>0</td>\n",
       "      <td>0</td>\n",
       "      <td>0</td>\n",
       "      <td>0</td>\n",
       "      <td>0</td>\n",
       "      <td>...</td>\n",
       "      <td>0</td>\n",
       "      <td>0</td>\n",
       "      <td>0</td>\n",
       "      <td>0</td>\n",
       "      <td>0</td>\n",
       "      <td>0</td>\n",
       "      <td>0</td>\n",
       "      <td>0</td>\n",
       "      <td>0</td>\n",
       "      <td>0</td>\n",
       "    </tr>\n",
       "    <tr>\n",
       "      <th>2</th>\n",
       "      <td>200630</td>\n",
       "      <td>1</td>\n",
       "      <td>0</td>\n",
       "      <td>0</td>\n",
       "      <td>0</td>\n",
       "      <td>0</td>\n",
       "      <td>0</td>\n",
       "      <td>0</td>\n",
       "      <td>0</td>\n",
       "      <td>0</td>\n",
       "      <td>...</td>\n",
       "      <td>0</td>\n",
       "      <td>0</td>\n",
       "      <td>0</td>\n",
       "      <td>0</td>\n",
       "      <td>0</td>\n",
       "      <td>0</td>\n",
       "      <td>0</td>\n",
       "      <td>0</td>\n",
       "      <td>0</td>\n",
       "      <td>0</td>\n",
       "    </tr>\n",
       "    <tr>\n",
       "      <th>3</th>\n",
       "      <td>200630</td>\n",
       "      <td>1</td>\n",
       "      <td>0</td>\n",
       "      <td>0</td>\n",
       "      <td>0</td>\n",
       "      <td>0</td>\n",
       "      <td>0</td>\n",
       "      <td>0</td>\n",
       "      <td>0</td>\n",
       "      <td>0</td>\n",
       "      <td>...</td>\n",
       "      <td>0</td>\n",
       "      <td>0</td>\n",
       "      <td>0</td>\n",
       "      <td>0</td>\n",
       "      <td>0</td>\n",
       "      <td>0</td>\n",
       "      <td>0</td>\n",
       "      <td>0</td>\n",
       "      <td>0</td>\n",
       "      <td>0</td>\n",
       "    </tr>\n",
       "    <tr>\n",
       "      <th>4</th>\n",
       "      <td>793665</td>\n",
       "      <td>0</td>\n",
       "      <td>0</td>\n",
       "      <td>0</td>\n",
       "      <td>0</td>\n",
       "      <td>0</td>\n",
       "      <td>1</td>\n",
       "      <td>0</td>\n",
       "      <td>0</td>\n",
       "      <td>0</td>\n",
       "      <td>...</td>\n",
       "      <td>0</td>\n",
       "      <td>0</td>\n",
       "      <td>0</td>\n",
       "      <td>0</td>\n",
       "      <td>0</td>\n",
       "      <td>0</td>\n",
       "      <td>0</td>\n",
       "      <td>0</td>\n",
       "      <td>0</td>\n",
       "      <td>0</td>\n",
       "    </tr>\n",
       "  </tbody>\n",
       "</table>\n",
       "<p>5 rows × 89 columns</p>\n",
       "</div>"
      ],
      "text/plain": [
       "   members  type_Movie  type_Music  type_ONA  type_OVA  type_Special  type_TV  \\\n",
       "0   200630           1           0         0         0             0        0   \n",
       "1   200630           1           0         0         0             0        0   \n",
       "2   200630           1           0         0         0             0        0   \n",
       "3   200630           1           0         0         0             0        0   \n",
       "4   793665           0           0         0         0             0        1   \n",
       "\n",
       "   genre_ Adventure  genre_ Cars  genre_ Comedy  ...  genre_Shoujo  \\\n",
       "0                 0            0              0  ...             0   \n",
       "1                 0            0              0  ...             0   \n",
       "2                 0            0              0  ...             0   \n",
       "3                 0            0              0  ...             0   \n",
       "4                 0            0              0  ...             0   \n",
       "\n",
       "   genre_Shounen  genre_Slice of Life  genre_Space  genre_Sports  \\\n",
       "0              0                    0            0             0   \n",
       "1              0                    0            0             0   \n",
       "2              0                    0            0             0   \n",
       "3              0                    0            0             0   \n",
       "4              0                    0            0             0   \n",
       "\n",
       "   genre_Super Power  genre_Supernatural  genre_Thriller  genre_Vampire  \\\n",
       "0                  0                   0               0              0   \n",
       "1                  0                   0               0              0   \n",
       "2                  0                   0               0              0   \n",
       "3                  0                   0               0              0   \n",
       "4                  0                   0               0              0   \n",
       "\n",
       "   genre_Yaoi  \n",
       "0           0  \n",
       "1           0  \n",
       "2           0  \n",
       "3           0  \n",
       "4           0  \n",
       "\n",
       "[5 rows x 89 columns]"
      ]
     },
     "execution_count": 7,
     "metadata": {},
     "output_type": "execute_result"
    }
   ],
   "source": [
    "X_Data.head()"
   ]
  },
  {
   "cell_type": "code",
   "execution_count": 8,
   "metadata": {
    "pycharm": {
     "name": "#%%\n"
    }
   },
   "outputs": [
    {
     "data": {
      "text/html": [
       "<div>\n",
       "<style scoped>\n",
       "    .dataframe tbody tr th:only-of-type {\n",
       "        vertical-align: middle;\n",
       "    }\n",
       "\n",
       "    .dataframe tbody tr th {\n",
       "        vertical-align: top;\n",
       "    }\n",
       "\n",
       "    .dataframe thead th {\n",
       "        text-align: right;\n",
       "    }\n",
       "</style>\n",
       "<table border=\"1\" class=\"dataframe\">\n",
       "  <thead>\n",
       "    <tr style=\"text-align: right;\">\n",
       "      <th></th>\n",
       "      <th>0</th>\n",
       "      <th>1</th>\n",
       "      <th>2</th>\n",
       "      <th>3</th>\n",
       "      <th>4</th>\n",
       "      <th>5</th>\n",
       "      <th>6</th>\n",
       "      <th>7</th>\n",
       "      <th>8</th>\n",
       "      <th>9</th>\n",
       "      <th>...</th>\n",
       "      <th>79</th>\n",
       "      <th>80</th>\n",
       "      <th>81</th>\n",
       "      <th>82</th>\n",
       "      <th>83</th>\n",
       "      <th>84</th>\n",
       "      <th>85</th>\n",
       "      <th>86</th>\n",
       "      <th>87</th>\n",
       "      <th>88</th>\n",
       "    </tr>\n",
       "  </thead>\n",
       "  <tbody>\n",
       "    <tr>\n",
       "      <th>0</th>\n",
       "      <td>0.197867</td>\n",
       "      <td>1.0</td>\n",
       "      <td>0.0</td>\n",
       "      <td>0.0</td>\n",
       "      <td>0.0</td>\n",
       "      <td>0.0</td>\n",
       "      <td>0.0</td>\n",
       "      <td>0.0</td>\n",
       "      <td>0.0</td>\n",
       "      <td>0.0</td>\n",
       "      <td>...</td>\n",
       "      <td>0.0</td>\n",
       "      <td>0.0</td>\n",
       "      <td>0.0</td>\n",
       "      <td>0.0</td>\n",
       "      <td>0.0</td>\n",
       "      <td>0.0</td>\n",
       "      <td>0.0</td>\n",
       "      <td>0.0</td>\n",
       "      <td>0.0</td>\n",
       "      <td>0.0</td>\n",
       "    </tr>\n",
       "    <tr>\n",
       "      <th>1</th>\n",
       "      <td>0.197867</td>\n",
       "      <td>1.0</td>\n",
       "      <td>0.0</td>\n",
       "      <td>0.0</td>\n",
       "      <td>0.0</td>\n",
       "      <td>0.0</td>\n",
       "      <td>0.0</td>\n",
       "      <td>0.0</td>\n",
       "      <td>0.0</td>\n",
       "      <td>0.0</td>\n",
       "      <td>...</td>\n",
       "      <td>0.0</td>\n",
       "      <td>0.0</td>\n",
       "      <td>0.0</td>\n",
       "      <td>0.0</td>\n",
       "      <td>0.0</td>\n",
       "      <td>0.0</td>\n",
       "      <td>0.0</td>\n",
       "      <td>0.0</td>\n",
       "      <td>0.0</td>\n",
       "      <td>0.0</td>\n",
       "    </tr>\n",
       "    <tr>\n",
       "      <th>2</th>\n",
       "      <td>0.197867</td>\n",
       "      <td>1.0</td>\n",
       "      <td>0.0</td>\n",
       "      <td>0.0</td>\n",
       "      <td>0.0</td>\n",
       "      <td>0.0</td>\n",
       "      <td>0.0</td>\n",
       "      <td>0.0</td>\n",
       "      <td>0.0</td>\n",
       "      <td>0.0</td>\n",
       "      <td>...</td>\n",
       "      <td>0.0</td>\n",
       "      <td>0.0</td>\n",
       "      <td>0.0</td>\n",
       "      <td>0.0</td>\n",
       "      <td>0.0</td>\n",
       "      <td>0.0</td>\n",
       "      <td>0.0</td>\n",
       "      <td>0.0</td>\n",
       "      <td>0.0</td>\n",
       "      <td>0.0</td>\n",
       "    </tr>\n",
       "    <tr>\n",
       "      <th>3</th>\n",
       "      <td>0.197867</td>\n",
       "      <td>1.0</td>\n",
       "      <td>0.0</td>\n",
       "      <td>0.0</td>\n",
       "      <td>0.0</td>\n",
       "      <td>0.0</td>\n",
       "      <td>0.0</td>\n",
       "      <td>0.0</td>\n",
       "      <td>0.0</td>\n",
       "      <td>0.0</td>\n",
       "      <td>...</td>\n",
       "      <td>0.0</td>\n",
       "      <td>0.0</td>\n",
       "      <td>0.0</td>\n",
       "      <td>0.0</td>\n",
       "      <td>0.0</td>\n",
       "      <td>0.0</td>\n",
       "      <td>0.0</td>\n",
       "      <td>0.0</td>\n",
       "      <td>0.0</td>\n",
       "      <td>0.0</td>\n",
       "    </tr>\n",
       "    <tr>\n",
       "      <th>4</th>\n",
       "      <td>0.782769</td>\n",
       "      <td>0.0</td>\n",
       "      <td>0.0</td>\n",
       "      <td>0.0</td>\n",
       "      <td>0.0</td>\n",
       "      <td>0.0</td>\n",
       "      <td>1.0</td>\n",
       "      <td>0.0</td>\n",
       "      <td>0.0</td>\n",
       "      <td>0.0</td>\n",
       "      <td>...</td>\n",
       "      <td>0.0</td>\n",
       "      <td>0.0</td>\n",
       "      <td>0.0</td>\n",
       "      <td>0.0</td>\n",
       "      <td>0.0</td>\n",
       "      <td>0.0</td>\n",
       "      <td>0.0</td>\n",
       "      <td>0.0</td>\n",
       "      <td>0.0</td>\n",
       "      <td>0.0</td>\n",
       "    </tr>\n",
       "  </tbody>\n",
       "</table>\n",
       "<p>5 rows × 89 columns</p>\n",
       "</div>"
      ],
      "text/plain": [
       "         0    1    2    3    4    5    6    7    8    9   ...   79   80   81  \\\n",
       "0  0.197867  1.0  0.0  0.0  0.0  0.0  0.0  0.0  0.0  0.0  ...  0.0  0.0  0.0   \n",
       "1  0.197867  1.0  0.0  0.0  0.0  0.0  0.0  0.0  0.0  0.0  ...  0.0  0.0  0.0   \n",
       "2  0.197867  1.0  0.0  0.0  0.0  0.0  0.0  0.0  0.0  0.0  ...  0.0  0.0  0.0   \n",
       "3  0.197867  1.0  0.0  0.0  0.0  0.0  0.0  0.0  0.0  0.0  ...  0.0  0.0  0.0   \n",
       "4  0.782769  0.0  0.0  0.0  0.0  0.0  1.0  0.0  0.0  0.0  ...  0.0  0.0  0.0   \n",
       "\n",
       "    82   83   84   85   86   87   88  \n",
       "0  0.0  0.0  0.0  0.0  0.0  0.0  0.0  \n",
       "1  0.0  0.0  0.0  0.0  0.0  0.0  0.0  \n",
       "2  0.0  0.0  0.0  0.0  0.0  0.0  0.0  \n",
       "3  0.0  0.0  0.0  0.0  0.0  0.0  0.0  \n",
       "4  0.0  0.0  0.0  0.0  0.0  0.0  0.0  \n",
       "\n",
       "[5 rows x 89 columns]"
      ]
     },
     "execution_count": 8,
     "metadata": {},
     "output_type": "execute_result"
    }
   ],
   "source": [
    "Normalized_Data.head()"
   ]
  },
  {
   "cell_type": "code",
   "execution_count": 9,
   "metadata": {
    "pycharm": {
     "name": "#%%\n"
    }
   },
   "outputs": [
    {
     "data": {
      "text/html": [
       "<div>\n",
       "<style scoped>\n",
       "    .dataframe tbody tr th:only-of-type {\n",
       "        vertical-align: middle;\n",
       "    }\n",
       "\n",
       "    .dataframe tbody tr th {\n",
       "        vertical-align: top;\n",
       "    }\n",
       "\n",
       "    .dataframe thead th {\n",
       "        text-align: right;\n",
       "    }\n",
       "</style>\n",
       "<table border=\"1\" class=\"dataframe\">\n",
       "  <thead>\n",
       "    <tr style=\"text-align: right;\">\n",
       "      <th></th>\n",
       "      <th>0</th>\n",
       "      <th>1</th>\n",
       "      <th>2</th>\n",
       "      <th>3</th>\n",
       "      <th>4</th>\n",
       "      <th>5</th>\n",
       "      <th>6</th>\n",
       "      <th>7</th>\n",
       "      <th>8</th>\n",
       "      <th>9</th>\n",
       "      <th>...</th>\n",
       "      <th>30</th>\n",
       "      <th>31</th>\n",
       "      <th>32</th>\n",
       "      <th>33</th>\n",
       "      <th>34</th>\n",
       "      <th>35</th>\n",
       "      <th>36</th>\n",
       "      <th>37</th>\n",
       "      <th>38</th>\n",
       "      <th>39</th>\n",
       "    </tr>\n",
       "  </thead>\n",
       "  <tbody>\n",
       "    <tr>\n",
       "      <th>0</th>\n",
       "      <td>-0.311391</td>\n",
       "      <td>0.786561</td>\n",
       "      <td>-0.420790</td>\n",
       "      <td>0.005234</td>\n",
       "      <td>-0.078663</td>\n",
       "      <td>-0.049646</td>\n",
       "      <td>-0.062640</td>\n",
       "      <td>0.007159</td>\n",
       "      <td>-0.075350</td>\n",
       "      <td>-0.030939</td>\n",
       "      <td>...</td>\n",
       "      <td>-0.011728</td>\n",
       "      <td>-0.014541</td>\n",
       "      <td>0.009385</td>\n",
       "      <td>-0.010536</td>\n",
       "      <td>-0.008256</td>\n",
       "      <td>-0.004200</td>\n",
       "      <td>0.005373</td>\n",
       "      <td>-0.013778</td>\n",
       "      <td>-0.006237</td>\n",
       "      <td>-0.008713</td>\n",
       "    </tr>\n",
       "    <tr>\n",
       "      <th>1</th>\n",
       "      <td>-0.284662</td>\n",
       "      <td>0.764035</td>\n",
       "      <td>-0.411982</td>\n",
       "      <td>-0.010872</td>\n",
       "      <td>-0.110067</td>\n",
       "      <td>-0.087035</td>\n",
       "      <td>-0.096786</td>\n",
       "      <td>0.054585</td>\n",
       "      <td>-0.179466</td>\n",
       "      <td>-0.045549</td>\n",
       "      <td>...</td>\n",
       "      <td>-0.007204</td>\n",
       "      <td>-0.013037</td>\n",
       "      <td>0.006279</td>\n",
       "      <td>-0.011394</td>\n",
       "      <td>-0.008336</td>\n",
       "      <td>-0.001433</td>\n",
       "      <td>0.008481</td>\n",
       "      <td>-0.013290</td>\n",
       "      <td>-0.007967</td>\n",
       "      <td>-0.009144</td>\n",
       "    </tr>\n",
       "    <tr>\n",
       "      <th>2</th>\n",
       "      <td>-0.284659</td>\n",
       "      <td>0.767955</td>\n",
       "      <td>-0.395541</td>\n",
       "      <td>-0.007615</td>\n",
       "      <td>-0.091869</td>\n",
       "      <td>-0.059768</td>\n",
       "      <td>-0.062093</td>\n",
       "      <td>0.036484</td>\n",
       "      <td>-0.086830</td>\n",
       "      <td>-0.024722</td>\n",
       "      <td>...</td>\n",
       "      <td>-0.009448</td>\n",
       "      <td>-0.014743</td>\n",
       "      <td>0.006490</td>\n",
       "      <td>-0.012768</td>\n",
       "      <td>-0.009965</td>\n",
       "      <td>-0.005390</td>\n",
       "      <td>0.006614</td>\n",
       "      <td>-0.015253</td>\n",
       "      <td>-0.012579</td>\n",
       "      <td>-0.009056</td>\n",
       "    </tr>\n",
       "    <tr>\n",
       "      <th>3</th>\n",
       "      <td>-0.291422</td>\n",
       "      <td>0.777222</td>\n",
       "      <td>-0.408286</td>\n",
       "      <td>0.000300</td>\n",
       "      <td>-0.080828</td>\n",
       "      <td>-0.049801</td>\n",
       "      <td>-0.056895</td>\n",
       "      <td>0.019128</td>\n",
       "      <td>-0.070776</td>\n",
       "      <td>-0.027971</td>\n",
       "      <td>...</td>\n",
       "      <td>-0.012228</td>\n",
       "      <td>-0.015440</td>\n",
       "      <td>0.007549</td>\n",
       "      <td>-0.011337</td>\n",
       "      <td>-0.009423</td>\n",
       "      <td>-0.007861</td>\n",
       "      <td>0.004354</td>\n",
       "      <td>-0.014841</td>\n",
       "      <td>-0.011565</td>\n",
       "      <td>-0.010910</td>\n",
       "    </tr>\n",
       "    <tr>\n",
       "      <th>4</th>\n",
       "      <td>0.731807</td>\n",
       "      <td>-0.153182</td>\n",
       "      <td>-0.102195</td>\n",
       "      <td>-0.458238</td>\n",
       "      <td>0.816874</td>\n",
       "      <td>0.046188</td>\n",
       "      <td>0.015792</td>\n",
       "      <td>-0.064744</td>\n",
       "      <td>0.014353</td>\n",
       "      <td>-0.005002</td>\n",
       "      <td>...</td>\n",
       "      <td>0.006958</td>\n",
       "      <td>-0.013313</td>\n",
       "      <td>0.019676</td>\n",
       "      <td>-0.014778</td>\n",
       "      <td>-0.007201</td>\n",
       "      <td>0.026962</td>\n",
       "      <td>0.025856</td>\n",
       "      <td>-0.021114</td>\n",
       "      <td>0.000782</td>\n",
       "      <td>0.043708</td>\n",
       "    </tr>\n",
       "  </tbody>\n",
       "</table>\n",
       "<p>5 rows × 40 columns</p>\n",
       "</div>"
      ],
      "text/plain": [
       "         0         1         2         3         4         5         6   \\\n",
       "0 -0.311391  0.786561 -0.420790  0.005234 -0.078663 -0.049646 -0.062640   \n",
       "1 -0.284662  0.764035 -0.411982 -0.010872 -0.110067 -0.087035 -0.096786   \n",
       "2 -0.284659  0.767955 -0.395541 -0.007615 -0.091869 -0.059768 -0.062093   \n",
       "3 -0.291422  0.777222 -0.408286  0.000300 -0.080828 -0.049801 -0.056895   \n",
       "4  0.731807 -0.153182 -0.102195 -0.458238  0.816874  0.046188  0.015792   \n",
       "\n",
       "         7         8         9   ...        30        31        32        33  \\\n",
       "0  0.007159 -0.075350 -0.030939  ... -0.011728 -0.014541  0.009385 -0.010536   \n",
       "1  0.054585 -0.179466 -0.045549  ... -0.007204 -0.013037  0.006279 -0.011394   \n",
       "2  0.036484 -0.086830 -0.024722  ... -0.009448 -0.014743  0.006490 -0.012768   \n",
       "3  0.019128 -0.070776 -0.027971  ... -0.012228 -0.015440  0.007549 -0.011337   \n",
       "4 -0.064744  0.014353 -0.005002  ...  0.006958 -0.013313  0.019676 -0.014778   \n",
       "\n",
       "         34        35        36        37        38        39  \n",
       "0 -0.008256 -0.004200  0.005373 -0.013778 -0.006237 -0.008713  \n",
       "1 -0.008336 -0.001433  0.008481 -0.013290 -0.007967 -0.009144  \n",
       "2 -0.009965 -0.005390  0.006614 -0.015253 -0.012579 -0.009056  \n",
       "3 -0.009423 -0.007861  0.004354 -0.014841 -0.011565 -0.010910  \n",
       "4 -0.007201  0.026962  0.025856 -0.021114  0.000782  0.043708  \n",
       "\n",
       "[5 rows x 40 columns]"
      ]
     },
     "execution_count": 9,
     "metadata": {},
     "output_type": "execute_result"
    }
   ],
   "source": [
    "PCA_Data.head()\n"
   ]
  },
  {
   "cell_type": "markdown",
   "metadata": {},
   "source": [
    "####----------------------------------------------------------------\n",
    "#### Split Original Data\n",
    "####----------------------------------------------------------------"
   ]
  },
  {
   "cell_type": "code",
   "execution_count": 10,
   "metadata": {
    "pycharm": {
     "name": "#%%\n"
    }
   },
   "outputs": [
    {
     "data": {
      "text/html": [
       "<div>\n",
       "<style scoped>\n",
       "    .dataframe tbody tr th:only-of-type {\n",
       "        vertical-align: middle;\n",
       "    }\n",
       "\n",
       "    .dataframe tbody tr th {\n",
       "        vertical-align: top;\n",
       "    }\n",
       "\n",
       "    .dataframe thead th {\n",
       "        text-align: right;\n",
       "    }\n",
       "</style>\n",
       "<table border=\"1\" class=\"dataframe\">\n",
       "  <thead>\n",
       "    <tr style=\"text-align: right;\">\n",
       "      <th></th>\n",
       "      <th>members</th>\n",
       "      <th>type_Movie</th>\n",
       "      <th>type_Music</th>\n",
       "      <th>type_ONA</th>\n",
       "      <th>type_OVA</th>\n",
       "      <th>type_Special</th>\n",
       "      <th>type_TV</th>\n",
       "      <th>genre_ Adventure</th>\n",
       "      <th>genre_ Cars</th>\n",
       "      <th>genre_ Comedy</th>\n",
       "      <th>...</th>\n",
       "      <th>genre_Shoujo</th>\n",
       "      <th>genre_Shounen</th>\n",
       "      <th>genre_Slice of Life</th>\n",
       "      <th>genre_Space</th>\n",
       "      <th>genre_Sports</th>\n",
       "      <th>genre_Super Power</th>\n",
       "      <th>genre_Supernatural</th>\n",
       "      <th>genre_Thriller</th>\n",
       "      <th>genre_Vampire</th>\n",
       "      <th>genre_Yaoi</th>\n",
       "    </tr>\n",
       "  </thead>\n",
       "  <tbody>\n",
       "    <tr>\n",
       "      <th>32729</th>\n",
       "      <td>132</td>\n",
       "      <td>0</td>\n",
       "      <td>0</td>\n",
       "      <td>0</td>\n",
       "      <td>0</td>\n",
       "      <td>1</td>\n",
       "      <td>0</td>\n",
       "      <td>0</td>\n",
       "      <td>0</td>\n",
       "      <td>0</td>\n",
       "      <td>...</td>\n",
       "      <td>0</td>\n",
       "      <td>0</td>\n",
       "      <td>0</td>\n",
       "      <td>0</td>\n",
       "      <td>0</td>\n",
       "      <td>0</td>\n",
       "      <td>0</td>\n",
       "      <td>0</td>\n",
       "      <td>0</td>\n",
       "      <td>0</td>\n",
       "    </tr>\n",
       "    <tr>\n",
       "      <th>24946</th>\n",
       "      <td>7051</td>\n",
       "      <td>0</td>\n",
       "      <td>0</td>\n",
       "      <td>0</td>\n",
       "      <td>1</td>\n",
       "      <td>0</td>\n",
       "      <td>0</td>\n",
       "      <td>0</td>\n",
       "      <td>0</td>\n",
       "      <td>0</td>\n",
       "      <td>...</td>\n",
       "      <td>0</td>\n",
       "      <td>0</td>\n",
       "      <td>0</td>\n",
       "      <td>0</td>\n",
       "      <td>0</td>\n",
       "      <td>0</td>\n",
       "      <td>0</td>\n",
       "      <td>0</td>\n",
       "      <td>0</td>\n",
       "      <td>0</td>\n",
       "    </tr>\n",
       "    <tr>\n",
       "      <th>8676</th>\n",
       "      <td>65896</td>\n",
       "      <td>0</td>\n",
       "      <td>0</td>\n",
       "      <td>0</td>\n",
       "      <td>0</td>\n",
       "      <td>0</td>\n",
       "      <td>1</td>\n",
       "      <td>0</td>\n",
       "      <td>0</td>\n",
       "      <td>0</td>\n",
       "      <td>...</td>\n",
       "      <td>0</td>\n",
       "      <td>0</td>\n",
       "      <td>0</td>\n",
       "      <td>0</td>\n",
       "      <td>0</td>\n",
       "      <td>0</td>\n",
       "      <td>0</td>\n",
       "      <td>0</td>\n",
       "      <td>0</td>\n",
       "      <td>0</td>\n",
       "    </tr>\n",
       "    <tr>\n",
       "      <th>13244</th>\n",
       "      <td>67936</td>\n",
       "      <td>0</td>\n",
       "      <td>0</td>\n",
       "      <td>0</td>\n",
       "      <td>0</td>\n",
       "      <td>0</td>\n",
       "      <td>1</td>\n",
       "      <td>0</td>\n",
       "      <td>0</td>\n",
       "      <td>0</td>\n",
       "      <td>...</td>\n",
       "      <td>0</td>\n",
       "      <td>0</td>\n",
       "      <td>0</td>\n",
       "      <td>0</td>\n",
       "      <td>0</td>\n",
       "      <td>0</td>\n",
       "      <td>0</td>\n",
       "      <td>0</td>\n",
       "      <td>0</td>\n",
       "      <td>0</td>\n",
       "    </tr>\n",
       "    <tr>\n",
       "      <th>29384</th>\n",
       "      <td>49</td>\n",
       "      <td>0</td>\n",
       "      <td>0</td>\n",
       "      <td>0</td>\n",
       "      <td>0</td>\n",
       "      <td>0</td>\n",
       "      <td>1</td>\n",
       "      <td>0</td>\n",
       "      <td>0</td>\n",
       "      <td>0</td>\n",
       "      <td>...</td>\n",
       "      <td>0</td>\n",
       "      <td>0</td>\n",
       "      <td>0</td>\n",
       "      <td>0</td>\n",
       "      <td>0</td>\n",
       "      <td>0</td>\n",
       "      <td>0</td>\n",
       "      <td>0</td>\n",
       "      <td>0</td>\n",
       "      <td>0</td>\n",
       "    </tr>\n",
       "  </tbody>\n",
       "</table>\n",
       "<p>5 rows × 89 columns</p>\n",
       "</div>"
      ],
      "text/plain": [
       "       members  type_Movie  type_Music  type_ONA  type_OVA  type_Special  \\\n",
       "32729      132           0           0         0         0             1   \n",
       "24946     7051           0           0         0         1             0   \n",
       "8676     65896           0           0         0         0             0   \n",
       "13244    67936           0           0         0         0             0   \n",
       "29384       49           0           0         0         0             0   \n",
       "\n",
       "       type_TV  genre_ Adventure  genre_ Cars  genre_ Comedy  ...  \\\n",
       "32729        0                 0            0              0  ...   \n",
       "24946        0                 0            0              0  ...   \n",
       "8676         1                 0            0              0  ...   \n",
       "13244        1                 0            0              0  ...   \n",
       "29384        1                 0            0              0  ...   \n",
       "\n",
       "       genre_Shoujo  genre_Shounen  genre_Slice of Life  genre_Space  \\\n",
       "32729             0              0                    0            0   \n",
       "24946             0              0                    0            0   \n",
       "8676              0              0                    0            0   \n",
       "13244             0              0                    0            0   \n",
       "29384             0              0                    0            0   \n",
       "\n",
       "       genre_Sports  genre_Super Power  genre_Supernatural  genre_Thriller  \\\n",
       "32729             0                  0                   0               0   \n",
       "24946             0                  0                   0               0   \n",
       "8676              0                  0                   0               0   \n",
       "13244             0                  0                   0               0   \n",
       "29384             0                  0                   0               0   \n",
       "\n",
       "       genre_Vampire  genre_Yaoi  \n",
       "32729              0           0  \n",
       "24946              0           0  \n",
       "8676               0           0  \n",
       "13244              0           0  \n",
       "29384              0           0  \n",
       "\n",
       "[5 rows x 89 columns]"
      ]
     },
     "execution_count": 10,
     "metadata": {},
     "output_type": "execute_result"
    }
   ],
   "source": [
    "X_train, X_test, y_train, y_test  = myLib.mySplitData(X_Data,Y_Data,0.33,42)\n",
    "\n",
    "X_train.head()"
   ]
  },
  {
   "cell_type": "code",
   "execution_count": 11,
   "metadata": {
    "pycharm": {
     "name": "#%%\n"
    }
   },
   "outputs": [
    {
     "data": {
      "text/html": [
       "<div>\n",
       "<style scoped>\n",
       "    .dataframe tbody tr th:only-of-type {\n",
       "        vertical-align: middle;\n",
       "    }\n",
       "\n",
       "    .dataframe tbody tr th {\n",
       "        vertical-align: top;\n",
       "    }\n",
       "\n",
       "    .dataframe thead th {\n",
       "        text-align: right;\n",
       "    }\n",
       "</style>\n",
       "<table border=\"1\" class=\"dataframe\">\n",
       "  <thead>\n",
       "    <tr style=\"text-align: right;\">\n",
       "      <th></th>\n",
       "      <th>members</th>\n",
       "      <th>type_Movie</th>\n",
       "      <th>type_Music</th>\n",
       "      <th>type_ONA</th>\n",
       "      <th>type_OVA</th>\n",
       "      <th>type_Special</th>\n",
       "      <th>type_TV</th>\n",
       "      <th>genre_ Adventure</th>\n",
       "      <th>genre_ Cars</th>\n",
       "      <th>genre_ Comedy</th>\n",
       "      <th>...</th>\n",
       "      <th>genre_Shoujo</th>\n",
       "      <th>genre_Shounen</th>\n",
       "      <th>genre_Slice of Life</th>\n",
       "      <th>genre_Space</th>\n",
       "      <th>genre_Sports</th>\n",
       "      <th>genre_Super Power</th>\n",
       "      <th>genre_Supernatural</th>\n",
       "      <th>genre_Thriller</th>\n",
       "      <th>genre_Vampire</th>\n",
       "      <th>genre_Yaoi</th>\n",
       "    </tr>\n",
       "  </thead>\n",
       "  <tbody>\n",
       "    <tr>\n",
       "      <th>22373</th>\n",
       "      <td>3331</td>\n",
       "      <td>0</td>\n",
       "      <td>0</td>\n",
       "      <td>1</td>\n",
       "      <td>0</td>\n",
       "      <td>0</td>\n",
       "      <td>0</td>\n",
       "      <td>0</td>\n",
       "      <td>0</td>\n",
       "      <td>0</td>\n",
       "      <td>...</td>\n",
       "      <td>0</td>\n",
       "      <td>0</td>\n",
       "      <td>0</td>\n",
       "      <td>0</td>\n",
       "      <td>0</td>\n",
       "      <td>0</td>\n",
       "      <td>0</td>\n",
       "      <td>0</td>\n",
       "      <td>0</td>\n",
       "      <td>0</td>\n",
       "    </tr>\n",
       "    <tr>\n",
       "      <th>10508</th>\n",
       "      <td>28423</td>\n",
       "      <td>0</td>\n",
       "      <td>0</td>\n",
       "      <td>0</td>\n",
       "      <td>0</td>\n",
       "      <td>0</td>\n",
       "      <td>1</td>\n",
       "      <td>0</td>\n",
       "      <td>0</td>\n",
       "      <td>0</td>\n",
       "      <td>...</td>\n",
       "      <td>0</td>\n",
       "      <td>0</td>\n",
       "      <td>0</td>\n",
       "      <td>0</td>\n",
       "      <td>0</td>\n",
       "      <td>0</td>\n",
       "      <td>0</td>\n",
       "      <td>0</td>\n",
       "      <td>0</td>\n",
       "      <td>0</td>\n",
       "    </tr>\n",
       "    <tr>\n",
       "      <th>11570</th>\n",
       "      <td>5078</td>\n",
       "      <td>1</td>\n",
       "      <td>0</td>\n",
       "      <td>0</td>\n",
       "      <td>0</td>\n",
       "      <td>0</td>\n",
       "      <td>0</td>\n",
       "      <td>0</td>\n",
       "      <td>0</td>\n",
       "      <td>0</td>\n",
       "      <td>...</td>\n",
       "      <td>0</td>\n",
       "      <td>0</td>\n",
       "      <td>0</td>\n",
       "      <td>0</td>\n",
       "      <td>0</td>\n",
       "      <td>0</td>\n",
       "      <td>0</td>\n",
       "      <td>0</td>\n",
       "      <td>0</td>\n",
       "      <td>0</td>\n",
       "    </tr>\n",
       "    <tr>\n",
       "      <th>22262</th>\n",
       "      <td>390</td>\n",
       "      <td>1</td>\n",
       "      <td>0</td>\n",
       "      <td>0</td>\n",
       "      <td>0</td>\n",
       "      <td>0</td>\n",
       "      <td>0</td>\n",
       "      <td>0</td>\n",
       "      <td>0</td>\n",
       "      <td>0</td>\n",
       "      <td>...</td>\n",
       "      <td>0</td>\n",
       "      <td>0</td>\n",
       "      <td>0</td>\n",
       "      <td>0</td>\n",
       "      <td>0</td>\n",
       "      <td>0</td>\n",
       "      <td>0</td>\n",
       "      <td>0</td>\n",
       "      <td>0</td>\n",
       "      <td>0</td>\n",
       "    </tr>\n",
       "    <tr>\n",
       "      <th>734</th>\n",
       "      <td>482268</td>\n",
       "      <td>0</td>\n",
       "      <td>0</td>\n",
       "      <td>0</td>\n",
       "      <td>0</td>\n",
       "      <td>0</td>\n",
       "      <td>1</td>\n",
       "      <td>0</td>\n",
       "      <td>0</td>\n",
       "      <td>0</td>\n",
       "      <td>...</td>\n",
       "      <td>0</td>\n",
       "      <td>0</td>\n",
       "      <td>0</td>\n",
       "      <td>0</td>\n",
       "      <td>0</td>\n",
       "      <td>0</td>\n",
       "      <td>0</td>\n",
       "      <td>0</td>\n",
       "      <td>0</td>\n",
       "      <td>0</td>\n",
       "    </tr>\n",
       "  </tbody>\n",
       "</table>\n",
       "<p>5 rows × 89 columns</p>\n",
       "</div>"
      ],
      "text/plain": [
       "       members  type_Movie  type_Music  type_ONA  type_OVA  type_Special  \\\n",
       "22373     3331           0           0         1         0             0   \n",
       "10508    28423           0           0         0         0             0   \n",
       "11570     5078           1           0         0         0             0   \n",
       "22262      390           1           0         0         0             0   \n",
       "734     482268           0           0         0         0             0   \n",
       "\n",
       "       type_TV  genre_ Adventure  genre_ Cars  genre_ Comedy  ...  \\\n",
       "22373        0                 0            0              0  ...   \n",
       "10508        1                 0            0              0  ...   \n",
       "11570        0                 0            0              0  ...   \n",
       "22262        0                 0            0              0  ...   \n",
       "734          1                 0            0              0  ...   \n",
       "\n",
       "       genre_Shoujo  genre_Shounen  genre_Slice of Life  genre_Space  \\\n",
       "22373             0              0                    0            0   \n",
       "10508             0              0                    0            0   \n",
       "11570             0              0                    0            0   \n",
       "22262             0              0                    0            0   \n",
       "734               0              0                    0            0   \n",
       "\n",
       "       genre_Sports  genre_Super Power  genre_Supernatural  genre_Thriller  \\\n",
       "22373             0                  0                   0               0   \n",
       "10508             0                  0                   0               0   \n",
       "11570             0                  0                   0               0   \n",
       "22262             0                  0                   0               0   \n",
       "734               0                  0                   0               0   \n",
       "\n",
       "       genre_Vampire  genre_Yaoi  \n",
       "22373              0           0  \n",
       "10508              0           0  \n",
       "11570              0           0  \n",
       "22262              0           0  \n",
       "734                0           0  \n",
       "\n",
       "[5 rows x 89 columns]"
      ]
     },
     "execution_count": 11,
     "metadata": {},
     "output_type": "execute_result"
    }
   ],
   "source": [
    "X_test.head()"
   ]
  },
  {
   "cell_type": "code",
   "execution_count": 12,
   "metadata": {
    "pycharm": {
     "name": "#%%\n"
    }
   },
   "outputs": [
    {
     "data": {
      "text/plain": [
       "32729    1\n",
       "24946    0\n",
       "8676     1\n",
       "13244    1\n",
       "29384    1\n",
       "Name: Class, dtype: int64"
      ]
     },
     "execution_count": 12,
     "metadata": {},
     "output_type": "execute_result"
    }
   ],
   "source": [
    "y_train.head()"
   ]
  },
  {
   "cell_type": "code",
   "execution_count": 13,
   "metadata": {
    "pycharm": {
     "name": "#%%\n"
    }
   },
   "outputs": [
    {
     "data": {
      "text/plain": [
       "22373    0\n",
       "10508    1\n",
       "11570    1\n",
       "22262    0\n",
       "734      1\n",
       "Name: Class, dtype: int64"
      ]
     },
     "execution_count": 13,
     "metadata": {},
     "output_type": "execute_result"
    }
   ],
   "source": [
    "y_test.head()\n"
   ]
  },
  {
   "cell_type": "markdown",
   "metadata": {},
   "source": [
    "####----------------------------------------------------------------\n",
    "#### Split Original Normalized_Data\n",
    "####----------------------------------------------------------------"
   ]
  },
  {
   "cell_type": "code",
   "execution_count": 14,
   "metadata": {
    "pycharm": {
     "name": "#%%\n"
    }
   },
   "outputs": [
    {
     "data": {
      "text/html": [
       "<div>\n",
       "<style scoped>\n",
       "    .dataframe tbody tr th:only-of-type {\n",
       "        vertical-align: middle;\n",
       "    }\n",
       "\n",
       "    .dataframe tbody tr th {\n",
       "        vertical-align: top;\n",
       "    }\n",
       "\n",
       "    .dataframe thead th {\n",
       "        text-align: right;\n",
       "    }\n",
       "</style>\n",
       "<table border=\"1\" class=\"dataframe\">\n",
       "  <thead>\n",
       "    <tr style=\"text-align: right;\">\n",
       "      <th></th>\n",
       "      <th>0</th>\n",
       "      <th>1</th>\n",
       "      <th>2</th>\n",
       "      <th>3</th>\n",
       "      <th>4</th>\n",
       "      <th>5</th>\n",
       "      <th>6</th>\n",
       "      <th>7</th>\n",
       "      <th>8</th>\n",
       "      <th>9</th>\n",
       "      <th>...</th>\n",
       "      <th>79</th>\n",
       "      <th>80</th>\n",
       "      <th>81</th>\n",
       "      <th>82</th>\n",
       "      <th>83</th>\n",
       "      <th>84</th>\n",
       "      <th>85</th>\n",
       "      <th>86</th>\n",
       "      <th>87</th>\n",
       "      <th>88</th>\n",
       "    </tr>\n",
       "  </thead>\n",
       "  <tbody>\n",
       "    <tr>\n",
       "      <th>32729</th>\n",
       "      <td>0.000118</td>\n",
       "      <td>0.0</td>\n",
       "      <td>0.0</td>\n",
       "      <td>0.0</td>\n",
       "      <td>0.0</td>\n",
       "      <td>1.0</td>\n",
       "      <td>0.0</td>\n",
       "      <td>0.0</td>\n",
       "      <td>0.0</td>\n",
       "      <td>0.0</td>\n",
       "      <td>...</td>\n",
       "      <td>0.0</td>\n",
       "      <td>0.0</td>\n",
       "      <td>0.0</td>\n",
       "      <td>0.0</td>\n",
       "      <td>0.0</td>\n",
       "      <td>0.0</td>\n",
       "      <td>0.0</td>\n",
       "      <td>0.0</td>\n",
       "      <td>0.0</td>\n",
       "      <td>0.0</td>\n",
       "    </tr>\n",
       "    <tr>\n",
       "      <th>24946</th>\n",
       "      <td>0.006942</td>\n",
       "      <td>0.0</td>\n",
       "      <td>0.0</td>\n",
       "      <td>0.0</td>\n",
       "      <td>1.0</td>\n",
       "      <td>0.0</td>\n",
       "      <td>0.0</td>\n",
       "      <td>0.0</td>\n",
       "      <td>0.0</td>\n",
       "      <td>0.0</td>\n",
       "      <td>...</td>\n",
       "      <td>0.0</td>\n",
       "      <td>0.0</td>\n",
       "      <td>0.0</td>\n",
       "      <td>0.0</td>\n",
       "      <td>0.0</td>\n",
       "      <td>0.0</td>\n",
       "      <td>0.0</td>\n",
       "      <td>0.0</td>\n",
       "      <td>0.0</td>\n",
       "      <td>0.0</td>\n",
       "    </tr>\n",
       "    <tr>\n",
       "      <th>8676</th>\n",
       "      <td>0.064980</td>\n",
       "      <td>0.0</td>\n",
       "      <td>0.0</td>\n",
       "      <td>0.0</td>\n",
       "      <td>0.0</td>\n",
       "      <td>0.0</td>\n",
       "      <td>1.0</td>\n",
       "      <td>0.0</td>\n",
       "      <td>0.0</td>\n",
       "      <td>0.0</td>\n",
       "      <td>...</td>\n",
       "      <td>0.0</td>\n",
       "      <td>0.0</td>\n",
       "      <td>0.0</td>\n",
       "      <td>0.0</td>\n",
       "      <td>0.0</td>\n",
       "      <td>0.0</td>\n",
       "      <td>0.0</td>\n",
       "      <td>0.0</td>\n",
       "      <td>0.0</td>\n",
       "      <td>0.0</td>\n",
       "    </tr>\n",
       "    <tr>\n",
       "      <th>13244</th>\n",
       "      <td>0.066992</td>\n",
       "      <td>0.0</td>\n",
       "      <td>0.0</td>\n",
       "      <td>0.0</td>\n",
       "      <td>0.0</td>\n",
       "      <td>0.0</td>\n",
       "      <td>1.0</td>\n",
       "      <td>0.0</td>\n",
       "      <td>0.0</td>\n",
       "      <td>0.0</td>\n",
       "      <td>...</td>\n",
       "      <td>0.0</td>\n",
       "      <td>0.0</td>\n",
       "      <td>0.0</td>\n",
       "      <td>0.0</td>\n",
       "      <td>0.0</td>\n",
       "      <td>0.0</td>\n",
       "      <td>0.0</td>\n",
       "      <td>0.0</td>\n",
       "      <td>0.0</td>\n",
       "      <td>0.0</td>\n",
       "    </tr>\n",
       "    <tr>\n",
       "      <th>29384</th>\n",
       "      <td>0.000036</td>\n",
       "      <td>0.0</td>\n",
       "      <td>0.0</td>\n",
       "      <td>0.0</td>\n",
       "      <td>0.0</td>\n",
       "      <td>0.0</td>\n",
       "      <td>1.0</td>\n",
       "      <td>0.0</td>\n",
       "      <td>0.0</td>\n",
       "      <td>0.0</td>\n",
       "      <td>...</td>\n",
       "      <td>0.0</td>\n",
       "      <td>0.0</td>\n",
       "      <td>0.0</td>\n",
       "      <td>0.0</td>\n",
       "      <td>0.0</td>\n",
       "      <td>0.0</td>\n",
       "      <td>0.0</td>\n",
       "      <td>0.0</td>\n",
       "      <td>0.0</td>\n",
       "      <td>0.0</td>\n",
       "    </tr>\n",
       "  </tbody>\n",
       "</table>\n",
       "<p>5 rows × 89 columns</p>\n",
       "</div>"
      ],
      "text/plain": [
       "             0    1    2    3    4    5    6    7    8    9   ...   79   80  \\\n",
       "32729  0.000118  0.0  0.0  0.0  0.0  1.0  0.0  0.0  0.0  0.0  ...  0.0  0.0   \n",
       "24946  0.006942  0.0  0.0  0.0  1.0  0.0  0.0  0.0  0.0  0.0  ...  0.0  0.0   \n",
       "8676   0.064980  0.0  0.0  0.0  0.0  0.0  1.0  0.0  0.0  0.0  ...  0.0  0.0   \n",
       "13244  0.066992  0.0  0.0  0.0  0.0  0.0  1.0  0.0  0.0  0.0  ...  0.0  0.0   \n",
       "29384  0.000036  0.0  0.0  0.0  0.0  0.0  1.0  0.0  0.0  0.0  ...  0.0  0.0   \n",
       "\n",
       "        81   82   83   84   85   86   87   88  \n",
       "32729  0.0  0.0  0.0  0.0  0.0  0.0  0.0  0.0  \n",
       "24946  0.0  0.0  0.0  0.0  0.0  0.0  0.0  0.0  \n",
       "8676   0.0  0.0  0.0  0.0  0.0  0.0  0.0  0.0  \n",
       "13244  0.0  0.0  0.0  0.0  0.0  0.0  0.0  0.0  \n",
       "29384  0.0  0.0  0.0  0.0  0.0  0.0  0.0  0.0  \n",
       "\n",
       "[5 rows x 89 columns]"
      ]
     },
     "execution_count": 14,
     "metadata": {},
     "output_type": "execute_result"
    }
   ],
   "source": [
    "Normalized_X_train, Normalized_X_test, Normalized_y_train, Normalized_y_test  = myLib.mySplitData(Normalized_Data,Y_Data,0.33,42)\n",
    "\n",
    "Normalized_X_train.head()"
   ]
  },
  {
   "cell_type": "code",
   "execution_count": 15,
   "metadata": {
    "pycharm": {
     "name": "#%%\n"
    }
   },
   "outputs": [
    {
     "data": {
      "text/html": [
       "<div>\n",
       "<style scoped>\n",
       "    .dataframe tbody tr th:only-of-type {\n",
       "        vertical-align: middle;\n",
       "    }\n",
       "\n",
       "    .dataframe tbody tr th {\n",
       "        vertical-align: top;\n",
       "    }\n",
       "\n",
       "    .dataframe thead th {\n",
       "        text-align: right;\n",
       "    }\n",
       "</style>\n",
       "<table border=\"1\" class=\"dataframe\">\n",
       "  <thead>\n",
       "    <tr style=\"text-align: right;\">\n",
       "      <th></th>\n",
       "      <th>0</th>\n",
       "      <th>1</th>\n",
       "      <th>2</th>\n",
       "      <th>3</th>\n",
       "      <th>4</th>\n",
       "      <th>5</th>\n",
       "      <th>6</th>\n",
       "      <th>7</th>\n",
       "      <th>8</th>\n",
       "      <th>9</th>\n",
       "      <th>...</th>\n",
       "      <th>79</th>\n",
       "      <th>80</th>\n",
       "      <th>81</th>\n",
       "      <th>82</th>\n",
       "      <th>83</th>\n",
       "      <th>84</th>\n",
       "      <th>85</th>\n",
       "      <th>86</th>\n",
       "      <th>87</th>\n",
       "      <th>88</th>\n",
       "    </tr>\n",
       "  </thead>\n",
       "  <tbody>\n",
       "    <tr>\n",
       "      <th>22373</th>\n",
       "      <td>0.003273</td>\n",
       "      <td>0.0</td>\n",
       "      <td>0.0</td>\n",
       "      <td>1.0</td>\n",
       "      <td>0.0</td>\n",
       "      <td>0.0</td>\n",
       "      <td>0.0</td>\n",
       "      <td>0.0</td>\n",
       "      <td>0.0</td>\n",
       "      <td>0.0</td>\n",
       "      <td>...</td>\n",
       "      <td>0.0</td>\n",
       "      <td>0.0</td>\n",
       "      <td>0.0</td>\n",
       "      <td>0.0</td>\n",
       "      <td>0.0</td>\n",
       "      <td>0.0</td>\n",
       "      <td>0.0</td>\n",
       "      <td>0.0</td>\n",
       "      <td>0.0</td>\n",
       "      <td>0.0</td>\n",
       "    </tr>\n",
       "    <tr>\n",
       "      <th>10508</th>\n",
       "      <td>0.028021</td>\n",
       "      <td>0.0</td>\n",
       "      <td>0.0</td>\n",
       "      <td>0.0</td>\n",
       "      <td>0.0</td>\n",
       "      <td>0.0</td>\n",
       "      <td>1.0</td>\n",
       "      <td>0.0</td>\n",
       "      <td>0.0</td>\n",
       "      <td>0.0</td>\n",
       "      <td>...</td>\n",
       "      <td>0.0</td>\n",
       "      <td>0.0</td>\n",
       "      <td>0.0</td>\n",
       "      <td>0.0</td>\n",
       "      <td>0.0</td>\n",
       "      <td>0.0</td>\n",
       "      <td>0.0</td>\n",
       "      <td>0.0</td>\n",
       "      <td>0.0</td>\n",
       "      <td>0.0</td>\n",
       "    </tr>\n",
       "    <tr>\n",
       "      <th>11570</th>\n",
       "      <td>0.004997</td>\n",
       "      <td>1.0</td>\n",
       "      <td>0.0</td>\n",
       "      <td>0.0</td>\n",
       "      <td>0.0</td>\n",
       "      <td>0.0</td>\n",
       "      <td>0.0</td>\n",
       "      <td>0.0</td>\n",
       "      <td>0.0</td>\n",
       "      <td>0.0</td>\n",
       "      <td>...</td>\n",
       "      <td>0.0</td>\n",
       "      <td>0.0</td>\n",
       "      <td>0.0</td>\n",
       "      <td>0.0</td>\n",
       "      <td>0.0</td>\n",
       "      <td>0.0</td>\n",
       "      <td>0.0</td>\n",
       "      <td>0.0</td>\n",
       "      <td>0.0</td>\n",
       "      <td>0.0</td>\n",
       "    </tr>\n",
       "    <tr>\n",
       "      <th>22262</th>\n",
       "      <td>0.000373</td>\n",
       "      <td>1.0</td>\n",
       "      <td>0.0</td>\n",
       "      <td>0.0</td>\n",
       "      <td>0.0</td>\n",
       "      <td>0.0</td>\n",
       "      <td>0.0</td>\n",
       "      <td>0.0</td>\n",
       "      <td>0.0</td>\n",
       "      <td>0.0</td>\n",
       "      <td>...</td>\n",
       "      <td>0.0</td>\n",
       "      <td>0.0</td>\n",
       "      <td>0.0</td>\n",
       "      <td>0.0</td>\n",
       "      <td>0.0</td>\n",
       "      <td>0.0</td>\n",
       "      <td>0.0</td>\n",
       "      <td>0.0</td>\n",
       "      <td>0.0</td>\n",
       "      <td>0.0</td>\n",
       "    </tr>\n",
       "    <tr>\n",
       "      <th>734</th>\n",
       "      <td>0.475642</td>\n",
       "      <td>0.0</td>\n",
       "      <td>0.0</td>\n",
       "      <td>0.0</td>\n",
       "      <td>0.0</td>\n",
       "      <td>0.0</td>\n",
       "      <td>1.0</td>\n",
       "      <td>0.0</td>\n",
       "      <td>0.0</td>\n",
       "      <td>0.0</td>\n",
       "      <td>...</td>\n",
       "      <td>0.0</td>\n",
       "      <td>0.0</td>\n",
       "      <td>0.0</td>\n",
       "      <td>0.0</td>\n",
       "      <td>0.0</td>\n",
       "      <td>0.0</td>\n",
       "      <td>0.0</td>\n",
       "      <td>0.0</td>\n",
       "      <td>0.0</td>\n",
       "      <td>0.0</td>\n",
       "    </tr>\n",
       "  </tbody>\n",
       "</table>\n",
       "<p>5 rows × 89 columns</p>\n",
       "</div>"
      ],
      "text/plain": [
       "             0    1    2    3    4    5    6    7    8    9   ...   79   80  \\\n",
       "22373  0.003273  0.0  0.0  1.0  0.0  0.0  0.0  0.0  0.0  0.0  ...  0.0  0.0   \n",
       "10508  0.028021  0.0  0.0  0.0  0.0  0.0  1.0  0.0  0.0  0.0  ...  0.0  0.0   \n",
       "11570  0.004997  1.0  0.0  0.0  0.0  0.0  0.0  0.0  0.0  0.0  ...  0.0  0.0   \n",
       "22262  0.000373  1.0  0.0  0.0  0.0  0.0  0.0  0.0  0.0  0.0  ...  0.0  0.0   \n",
       "734    0.475642  0.0  0.0  0.0  0.0  0.0  1.0  0.0  0.0  0.0  ...  0.0  0.0   \n",
       "\n",
       "        81   82   83   84   85   86   87   88  \n",
       "22373  0.0  0.0  0.0  0.0  0.0  0.0  0.0  0.0  \n",
       "10508  0.0  0.0  0.0  0.0  0.0  0.0  0.0  0.0  \n",
       "11570  0.0  0.0  0.0  0.0  0.0  0.0  0.0  0.0  \n",
       "22262  0.0  0.0  0.0  0.0  0.0  0.0  0.0  0.0  \n",
       "734    0.0  0.0  0.0  0.0  0.0  0.0  0.0  0.0  \n",
       "\n",
       "[5 rows x 89 columns]"
      ]
     },
     "execution_count": 15,
     "metadata": {},
     "output_type": "execute_result"
    }
   ],
   "source": [
    "Normalized_X_test.head()"
   ]
  },
  {
   "cell_type": "code",
   "execution_count": 16,
   "metadata": {
    "pycharm": {
     "name": "#%%\n"
    }
   },
   "outputs": [
    {
     "data": {
      "text/plain": [
       "32729    1\n",
       "24946    0\n",
       "8676     1\n",
       "13244    1\n",
       "29384    1\n",
       "Name: Class, dtype: int64"
      ]
     },
     "execution_count": 16,
     "metadata": {},
     "output_type": "execute_result"
    }
   ],
   "source": [
    "Normalized_y_train.head()"
   ]
  },
  {
   "cell_type": "code",
   "execution_count": 17,
   "metadata": {
    "pycharm": {
     "name": "#%%\n"
    }
   },
   "outputs": [
    {
     "data": {
      "text/plain": [
       "22373    0\n",
       "10508    1\n",
       "11570    1\n",
       "22262    0\n",
       "734      1\n",
       "Name: Class, dtype: int64"
      ]
     },
     "execution_count": 17,
     "metadata": {},
     "output_type": "execute_result"
    }
   ],
   "source": [
    "Normalized_y_test.head()\n"
   ]
  },
  {
   "cell_type": "markdown",
   "metadata": {},
   "source": [
    "####----------------------------------------------------------------\n",
    "#### Split  PCA_Data\n",
    "####----------------------------------------------------------------"
   ]
  },
  {
   "cell_type": "code",
   "execution_count": 18,
   "metadata": {
    "pycharm": {
     "name": "#%%\n"
    }
   },
   "outputs": [
    {
     "data": {
      "text/html": [
       "<div>\n",
       "<style scoped>\n",
       "    .dataframe tbody tr th:only-of-type {\n",
       "        vertical-align: middle;\n",
       "    }\n",
       "\n",
       "    .dataframe tbody tr th {\n",
       "        vertical-align: top;\n",
       "    }\n",
       "\n",
       "    .dataframe thead th {\n",
       "        text-align: right;\n",
       "    }\n",
       "</style>\n",
       "<table border=\"1\" class=\"dataframe\">\n",
       "  <thead>\n",
       "    <tr style=\"text-align: right;\">\n",
       "      <th></th>\n",
       "      <th>0</th>\n",
       "      <th>1</th>\n",
       "      <th>2</th>\n",
       "      <th>3</th>\n",
       "      <th>4</th>\n",
       "      <th>5</th>\n",
       "      <th>6</th>\n",
       "      <th>7</th>\n",
       "      <th>8</th>\n",
       "      <th>9</th>\n",
       "      <th>...</th>\n",
       "      <th>30</th>\n",
       "      <th>31</th>\n",
       "      <th>32</th>\n",
       "      <th>33</th>\n",
       "      <th>34</th>\n",
       "      <th>35</th>\n",
       "      <th>36</th>\n",
       "      <th>37</th>\n",
       "      <th>38</th>\n",
       "      <th>39</th>\n",
       "    </tr>\n",
       "  </thead>\n",
       "  <tbody>\n",
       "    <tr>\n",
       "      <th>32729</th>\n",
       "      <td>-0.222410</td>\n",
       "      <td>0.292968</td>\n",
       "      <td>0.905577</td>\n",
       "      <td>-0.156240</td>\n",
       "      <td>-0.108038</td>\n",
       "      <td>-0.031218</td>\n",
       "      <td>-0.020906</td>\n",
       "      <td>0.049072</td>\n",
       "      <td>-0.031243</td>\n",
       "      <td>0.007778</td>\n",
       "      <td>...</td>\n",
       "      <td>-0.432500</td>\n",
       "      <td>-0.042677</td>\n",
       "      <td>0.027065</td>\n",
       "      <td>-0.023012</td>\n",
       "      <td>0.006639</td>\n",
       "      <td>0.054710</td>\n",
       "      <td>0.051948</td>\n",
       "      <td>0.070345</td>\n",
       "      <td>0.306362</td>\n",
       "      <td>-0.226856</td>\n",
       "    </tr>\n",
       "    <tr>\n",
       "      <th>24946</th>\n",
       "      <td>-0.645218</td>\n",
       "      <td>-0.558932</td>\n",
       "      <td>-0.134425</td>\n",
       "      <td>-0.006471</td>\n",
       "      <td>-0.054637</td>\n",
       "      <td>-0.037266</td>\n",
       "      <td>-0.023106</td>\n",
       "      <td>-0.012107</td>\n",
       "      <td>-0.029795</td>\n",
       "      <td>0.004538</td>\n",
       "      <td>...</td>\n",
       "      <td>0.049421</td>\n",
       "      <td>0.042384</td>\n",
       "      <td>-0.037751</td>\n",
       "      <td>-0.002917</td>\n",
       "      <td>0.012132</td>\n",
       "      <td>0.350806</td>\n",
       "      <td>0.801692</td>\n",
       "      <td>-0.403318</td>\n",
       "      <td>-0.204632</td>\n",
       "      <td>-0.088194</td>\n",
       "    </tr>\n",
       "    <tr>\n",
       "      <th>8676</th>\n",
       "      <td>0.697428</td>\n",
       "      <td>-0.148271</td>\n",
       "      <td>-0.076755</td>\n",
       "      <td>-0.039170</td>\n",
       "      <td>-0.073629</td>\n",
       "      <td>-0.033199</td>\n",
       "      <td>-0.020331</td>\n",
       "      <td>0.015740</td>\n",
       "      <td>-0.034394</td>\n",
       "      <td>-0.002522</td>\n",
       "      <td>...</td>\n",
       "      <td>0.146156</td>\n",
       "      <td>0.198345</td>\n",
       "      <td>-0.365236</td>\n",
       "      <td>-0.068318</td>\n",
       "      <td>0.856669</td>\n",
       "      <td>-0.128332</td>\n",
       "      <td>-0.056886</td>\n",
       "      <td>-0.036414</td>\n",
       "      <td>-0.035777</td>\n",
       "      <td>-0.024319</td>\n",
       "    </tr>\n",
       "    <tr>\n",
       "      <th>13244</th>\n",
       "      <td>0.703994</td>\n",
       "      <td>-0.156393</td>\n",
       "      <td>-0.072758</td>\n",
       "      <td>-0.051336</td>\n",
       "      <td>-0.099958</td>\n",
       "      <td>-0.053601</td>\n",
       "      <td>-0.030918</td>\n",
       "      <td>0.052111</td>\n",
       "      <td>-0.056604</td>\n",
       "      <td>-0.005999</td>\n",
       "      <td>...</td>\n",
       "      <td>-0.012921</td>\n",
       "      <td>-0.004193</td>\n",
       "      <td>0.003548</td>\n",
       "      <td>-0.000350</td>\n",
       "      <td>-0.002380</td>\n",
       "      <td>-0.014021</td>\n",
       "      <td>-0.011275</td>\n",
       "      <td>-0.002115</td>\n",
       "      <td>-0.002350</td>\n",
       "      <td>-0.006418</td>\n",
       "    </tr>\n",
       "    <tr>\n",
       "      <th>29384</th>\n",
       "      <td>0.702822</td>\n",
       "      <td>-0.120081</td>\n",
       "      <td>-0.090825</td>\n",
       "      <td>-0.060693</td>\n",
       "      <td>-0.137073</td>\n",
       "      <td>-0.101899</td>\n",
       "      <td>-0.122610</td>\n",
       "      <td>0.067888</td>\n",
       "      <td>-0.325710</td>\n",
       "      <td>0.726579</td>\n",
       "      <td>...</td>\n",
       "      <td>-0.006907</td>\n",
       "      <td>-0.000092</td>\n",
       "      <td>0.001867</td>\n",
       "      <td>0.001915</td>\n",
       "      <td>0.000040</td>\n",
       "      <td>-0.009586</td>\n",
       "      <td>-0.009932</td>\n",
       "      <td>0.000752</td>\n",
       "      <td>-0.000513</td>\n",
       "      <td>-0.001100</td>\n",
       "    </tr>\n",
       "  </tbody>\n",
       "</table>\n",
       "<p>5 rows × 40 columns</p>\n",
       "</div>"
      ],
      "text/plain": [
       "             0         1         2         3         4         5         6   \\\n",
       "32729 -0.222410  0.292968  0.905577 -0.156240 -0.108038 -0.031218 -0.020906   \n",
       "24946 -0.645218 -0.558932 -0.134425 -0.006471 -0.054637 -0.037266 -0.023106   \n",
       "8676   0.697428 -0.148271 -0.076755 -0.039170 -0.073629 -0.033199 -0.020331   \n",
       "13244  0.703994 -0.156393 -0.072758 -0.051336 -0.099958 -0.053601 -0.030918   \n",
       "29384  0.702822 -0.120081 -0.090825 -0.060693 -0.137073 -0.101899 -0.122610   \n",
       "\n",
       "             7         8         9   ...        30        31        32  \\\n",
       "32729  0.049072 -0.031243  0.007778  ... -0.432500 -0.042677  0.027065   \n",
       "24946 -0.012107 -0.029795  0.004538  ...  0.049421  0.042384 -0.037751   \n",
       "8676   0.015740 -0.034394 -0.002522  ...  0.146156  0.198345 -0.365236   \n",
       "13244  0.052111 -0.056604 -0.005999  ... -0.012921 -0.004193  0.003548   \n",
       "29384  0.067888 -0.325710  0.726579  ... -0.006907 -0.000092  0.001867   \n",
       "\n",
       "             33        34        35        36        37        38        39  \n",
       "32729 -0.023012  0.006639  0.054710  0.051948  0.070345  0.306362 -0.226856  \n",
       "24946 -0.002917  0.012132  0.350806  0.801692 -0.403318 -0.204632 -0.088194  \n",
       "8676  -0.068318  0.856669 -0.128332 -0.056886 -0.036414 -0.035777 -0.024319  \n",
       "13244 -0.000350 -0.002380 -0.014021 -0.011275 -0.002115 -0.002350 -0.006418  \n",
       "29384  0.001915  0.000040 -0.009586 -0.009932  0.000752 -0.000513 -0.001100  \n",
       "\n",
       "[5 rows x 40 columns]"
      ]
     },
     "execution_count": 18,
     "metadata": {},
     "output_type": "execute_result"
    }
   ],
   "source": [
    "PCA_X_train, PCA_X_test, PCA_y_train, PCA_y_test  = myLib.mySplitData(PCA_Data,Y_Data,0.33,42)\n",
    "\n",
    "PCA_X_train.head()"
   ]
  },
  {
   "cell_type": "code",
   "execution_count": 19,
   "metadata": {
    "pycharm": {
     "name": "#%%\n"
    }
   },
   "outputs": [
    {
     "data": {
      "text/html": [
       "<div>\n",
       "<style scoped>\n",
       "    .dataframe tbody tr th:only-of-type {\n",
       "        vertical-align: middle;\n",
       "    }\n",
       "\n",
       "    .dataframe tbody tr th {\n",
       "        vertical-align: top;\n",
       "    }\n",
       "\n",
       "    .dataframe thead th {\n",
       "        text-align: right;\n",
       "    }\n",
       "</style>\n",
       "<table border=\"1\" class=\"dataframe\">\n",
       "  <thead>\n",
       "    <tr style=\"text-align: right;\">\n",
       "      <th></th>\n",
       "      <th>0</th>\n",
       "      <th>1</th>\n",
       "      <th>2</th>\n",
       "      <th>3</th>\n",
       "      <th>4</th>\n",
       "      <th>5</th>\n",
       "      <th>6</th>\n",
       "      <th>7</th>\n",
       "      <th>8</th>\n",
       "      <th>9</th>\n",
       "      <th>...</th>\n",
       "      <th>30</th>\n",
       "      <th>31</th>\n",
       "      <th>32</th>\n",
       "      <th>33</th>\n",
       "      <th>34</th>\n",
       "      <th>35</th>\n",
       "      <th>36</th>\n",
       "      <th>37</th>\n",
       "      <th>38</th>\n",
       "      <th>39</th>\n",
       "    </tr>\n",
       "  </thead>\n",
       "  <tbody>\n",
       "    <tr>\n",
       "      <th>22373</th>\n",
       "      <td>-0.124203</td>\n",
       "      <td>0.125895</td>\n",
       "      <td>0.130241</td>\n",
       "      <td>0.040248</td>\n",
       "      <td>-0.039136</td>\n",
       "      <td>0.017932</td>\n",
       "      <td>0.271853</td>\n",
       "      <td>0.949263</td>\n",
       "      <td>0.306449</td>\n",
       "      <td>-0.021895</td>\n",
       "      <td>...</td>\n",
       "      <td>-0.019529</td>\n",
       "      <td>-0.022854</td>\n",
       "      <td>0.030704</td>\n",
       "      <td>0.021083</td>\n",
       "      <td>0.014145</td>\n",
       "      <td>-0.014223</td>\n",
       "      <td>0.001069</td>\n",
       "      <td>-0.008795</td>\n",
       "      <td>-0.003536</td>\n",
       "      <td>-0.012517</td>\n",
       "    </tr>\n",
       "    <tr>\n",
       "      <th>10508</th>\n",
       "      <td>0.709233</td>\n",
       "      <td>-0.165356</td>\n",
       "      <td>-0.059587</td>\n",
       "      <td>-0.058864</td>\n",
       "      <td>-0.111087</td>\n",
       "      <td>-0.063255</td>\n",
       "      <td>-0.035980</td>\n",
       "      <td>0.070086</td>\n",
       "      <td>-0.072611</td>\n",
       "      <td>-0.002226</td>\n",
       "      <td>...</td>\n",
       "      <td>-0.010661</td>\n",
       "      <td>-0.002648</td>\n",
       "      <td>0.001397</td>\n",
       "      <td>-0.001005</td>\n",
       "      <td>-0.002563</td>\n",
       "      <td>-0.013150</td>\n",
       "      <td>-0.010707</td>\n",
       "      <td>-0.001294</td>\n",
       "      <td>-0.003266</td>\n",
       "      <td>-0.006857</td>\n",
       "    </tr>\n",
       "    <tr>\n",
       "      <th>11570</th>\n",
       "      <td>-0.302989</td>\n",
       "      <td>0.781850</td>\n",
       "      <td>-0.421044</td>\n",
       "      <td>-0.036603</td>\n",
       "      <td>-0.226477</td>\n",
       "      <td>0.908892</td>\n",
       "      <td>0.064898</td>\n",
       "      <td>-0.181633</td>\n",
       "      <td>0.053341</td>\n",
       "      <td>-0.011209</td>\n",
       "      <td>...</td>\n",
       "      <td>-0.006012</td>\n",
       "      <td>-0.006195</td>\n",
       "      <td>-0.000416</td>\n",
       "      <td>-0.007842</td>\n",
       "      <td>-0.006053</td>\n",
       "      <td>-0.004757</td>\n",
       "      <td>0.002184</td>\n",
       "      <td>-0.005681</td>\n",
       "      <td>-0.004553</td>\n",
       "      <td>-0.016266</td>\n",
       "    </tr>\n",
       "    <tr>\n",
       "      <th>22262</th>\n",
       "      <td>-0.292379</td>\n",
       "      <td>0.765577</td>\n",
       "      <td>-0.409821</td>\n",
       "      <td>-0.008916</td>\n",
       "      <td>-0.110511</td>\n",
       "      <td>-0.085449</td>\n",
       "      <td>-0.096096</td>\n",
       "      <td>0.057723</td>\n",
       "      <td>-0.179229</td>\n",
       "      <td>-0.042895</td>\n",
       "      <td>...</td>\n",
       "      <td>-0.009838</td>\n",
       "      <td>-0.008743</td>\n",
       "      <td>0.000744</td>\n",
       "      <td>-0.007465</td>\n",
       "      <td>-0.006512</td>\n",
       "      <td>-0.009538</td>\n",
       "      <td>-0.000092</td>\n",
       "      <td>-0.007039</td>\n",
       "      <td>-0.007473</td>\n",
       "      <td>-0.020761</td>\n",
       "    </tr>\n",
       "    <tr>\n",
       "      <th>734</th>\n",
       "      <td>0.719961</td>\n",
       "      <td>-0.159583</td>\n",
       "      <td>-0.077230</td>\n",
       "      <td>-0.055383</td>\n",
       "      <td>-0.099040</td>\n",
       "      <td>-0.056883</td>\n",
       "      <td>-0.032346</td>\n",
       "      <td>0.045618</td>\n",
       "      <td>-0.057094</td>\n",
       "      <td>-0.011492</td>\n",
       "      <td>...</td>\n",
       "      <td>-0.007471</td>\n",
       "      <td>-0.013077</td>\n",
       "      <td>0.015001</td>\n",
       "      <td>-0.008478</td>\n",
       "      <td>-0.006153</td>\n",
       "      <td>0.002750</td>\n",
       "      <td>0.006463</td>\n",
       "      <td>-0.015051</td>\n",
       "      <td>-0.003370</td>\n",
       "      <td>0.017618</td>\n",
       "    </tr>\n",
       "  </tbody>\n",
       "</table>\n",
       "<p>5 rows × 40 columns</p>\n",
       "</div>"
      ],
      "text/plain": [
       "             0         1         2         3         4         5         6   \\\n",
       "22373 -0.124203  0.125895  0.130241  0.040248 -0.039136  0.017932  0.271853   \n",
       "10508  0.709233 -0.165356 -0.059587 -0.058864 -0.111087 -0.063255 -0.035980   \n",
       "11570 -0.302989  0.781850 -0.421044 -0.036603 -0.226477  0.908892  0.064898   \n",
       "22262 -0.292379  0.765577 -0.409821 -0.008916 -0.110511 -0.085449 -0.096096   \n",
       "734    0.719961 -0.159583 -0.077230 -0.055383 -0.099040 -0.056883 -0.032346   \n",
       "\n",
       "             7         8         9   ...        30        31        32  \\\n",
       "22373  0.949263  0.306449 -0.021895  ... -0.019529 -0.022854  0.030704   \n",
       "10508  0.070086 -0.072611 -0.002226  ... -0.010661 -0.002648  0.001397   \n",
       "11570 -0.181633  0.053341 -0.011209  ... -0.006012 -0.006195 -0.000416   \n",
       "22262  0.057723 -0.179229 -0.042895  ... -0.009838 -0.008743  0.000744   \n",
       "734    0.045618 -0.057094 -0.011492  ... -0.007471 -0.013077  0.015001   \n",
       "\n",
       "             33        34        35        36        37        38        39  \n",
       "22373  0.021083  0.014145 -0.014223  0.001069 -0.008795 -0.003536 -0.012517  \n",
       "10508 -0.001005 -0.002563 -0.013150 -0.010707 -0.001294 -0.003266 -0.006857  \n",
       "11570 -0.007842 -0.006053 -0.004757  0.002184 -0.005681 -0.004553 -0.016266  \n",
       "22262 -0.007465 -0.006512 -0.009538 -0.000092 -0.007039 -0.007473 -0.020761  \n",
       "734   -0.008478 -0.006153  0.002750  0.006463 -0.015051 -0.003370  0.017618  \n",
       "\n",
       "[5 rows x 40 columns]"
      ]
     },
     "execution_count": 19,
     "metadata": {},
     "output_type": "execute_result"
    }
   ],
   "source": [
    "PCA_X_test.head()"
   ]
  },
  {
   "cell_type": "code",
   "execution_count": 20,
   "metadata": {
    "pycharm": {
     "name": "#%%\n"
    }
   },
   "outputs": [
    {
     "data": {
      "text/plain": [
       "32729    1\n",
       "24946    0\n",
       "8676     1\n",
       "13244    1\n",
       "29384    1\n",
       "Name: Class, dtype: int64"
      ]
     },
     "execution_count": 20,
     "metadata": {},
     "output_type": "execute_result"
    }
   ],
   "source": [
    "PCA_y_train.head()"
   ]
  },
  {
   "cell_type": "code",
   "execution_count": 21,
   "metadata": {
    "pycharm": {
     "name": "#%%\n"
    }
   },
   "outputs": [
    {
     "data": {
      "text/plain": [
       "22373    0\n",
       "10508    1\n",
       "11570    1\n",
       "22262    0\n",
       "734      1\n",
       "Name: Class, dtype: int64"
      ]
     },
     "execution_count": 21,
     "metadata": {},
     "output_type": "execute_result"
    }
   ],
   "source": [
    "PCA_y_test.head()\n"
   ]
  },
  {
   "cell_type": "markdown",
   "metadata": {},
   "source": [
    "####----------------------------------------------------------------\n",
    "# Model Training \n",
    "####----------------------------------------------------------------"
   ]
  },
  {
   "cell_type": "code",
   "execution_count": 22,
   "metadata": {
    "pycharm": {
     "is_executing": false,
     "name": "#%%\n"
    }
   },
   "outputs": [],
   "source": [
    "from sklearn.model_selection import cross_val_score\n",
    "from sklearn.tree import DecisionTreeClassifier\n",
    "\n",
    "def myDT(clf,X_train,y_train,X_test,y_test,cv):\n",
    "    #Fit the model\n",
    "    #The maximum depth of the tree. \n",
    "    #If None, then nodes are expanded until all leaves are pure\n",
    "    # or until all leaves contain less than min_samples_split samples.\n",
    "    #min_samples_split: by default = 1\n",
    "    clf.fit(X_train, y_train)\n",
    "    #check accuracy of model on the train and test data\n",
    "    train_score = clf.score(X_train, y_train)\n",
    "    test_score = clf.score(X_test, y_test)\n",
    "    #Using CV\n",
    "    cv_scores = cross_val_score(clf, X_train, y_train, cv=cv)\n",
    "    return pd.DataFrame({\"leaves\":[clf.get_n_leaves()],\"depth\":[clf.get_depth()],\"train_score\":[train_score],\"test_score\":[test_score],\"cv_score\":[cv_scores.mean()]})\n"
   ]
  },
  {
   "cell_type": "code",
   "execution_count": 23,
   "metadata": {
    "pycharm": {
     "is_executing": false,
     "name": "#%%\n"
    }
   },
   "outputs": [],
   "source": [
    "def myDT_ModelTurning(clf,depths,X_train,y_train,X_test,y_test,cv):\n",
    "    df = pd.DataFrame({\"depth\":[],\"train_score\":[],\"cv_score\":[]})\n",
    "    for depth in depths:\n",
    "        clf1 = DecisionTreeClassifier(max_depth=depth,random_state=0)\n",
    "        score_df = myDT(clf1,X_train,y_train,X_test,y_test,cv)\n",
    "        df = df.append(pd.DataFrame({\"depth\":depth,\"train_score\":score_df.train_score,\"test_score\":score_df.test_score,\"cv_score\":score_df.cv_score}),ignore_index=True,sort=False)\n",
    "    \n",
    "    return df"
   ]
  },
  {
   "cell_type": "code",
   "execution_count": 24,
   "metadata": {
    "pycharm": {
     "name": "#%%\n"
    }
   },
   "outputs": [],
   "source": [
    "\n",
    "cv = 10\n",
    "clf = DecisionTreeClassifier(random_state=0)"
   ]
  },
  {
   "cell_type": "code",
   "execution_count": 25,
   "metadata": {
    "pycharm": {
     "name": "#%%\n"
    }
   },
   "outputs": [
    {
     "data": {
      "text/html": [
       "<div>\n",
       "<style scoped>\n",
       "    .dataframe tbody tr th:only-of-type {\n",
       "        vertical-align: middle;\n",
       "    }\n",
       "\n",
       "    .dataframe tbody tr th {\n",
       "        vertical-align: top;\n",
       "    }\n",
       "\n",
       "    .dataframe thead th {\n",
       "        text-align: right;\n",
       "    }\n",
       "</style>\n",
       "<table border=\"1\" class=\"dataframe\">\n",
       "  <thead>\n",
       "    <tr style=\"text-align: right;\">\n",
       "      <th></th>\n",
       "      <th>leaves</th>\n",
       "      <th>depth</th>\n",
       "      <th>train_score</th>\n",
       "      <th>test_score</th>\n",
       "      <th>cv_score</th>\n",
       "    </tr>\n",
       "  </thead>\n",
       "  <tbody>\n",
       "    <tr>\n",
       "      <th>0</th>\n",
       "      <td>4456</td>\n",
       "      <td>44</td>\n",
       "      <td>0.988382</td>\n",
       "      <td>0.821124</td>\n",
       "      <td>0.815258</td>\n",
       "    </tr>\n",
       "  </tbody>\n",
       "</table>\n",
       "</div>"
      ],
      "text/plain": [
       "   leaves  depth  train_score  test_score  cv_score\n",
       "0    4456     44     0.988382    0.821124  0.815258"
      ]
     },
     "execution_count": 25,
     "metadata": {},
     "output_type": "execute_result"
    }
   ],
   "source": [
    "#Original Data\n",
    "scores = myDT(clf,X_train,y_train,X_test,y_test,cv)\n",
    "scores"
   ]
  },
  {
   "cell_type": "code",
   "execution_count": 26,
   "metadata": {
    "pycharm": {
     "name": "#%%\n"
    }
   },
   "outputs": [
    {
     "data": {
      "text/html": [
       "<div>\n",
       "<style scoped>\n",
       "    .dataframe tbody tr th:only-of-type {\n",
       "        vertical-align: middle;\n",
       "    }\n",
       "\n",
       "    .dataframe tbody tr th {\n",
       "        vertical-align: top;\n",
       "    }\n",
       "\n",
       "    .dataframe thead th {\n",
       "        text-align: right;\n",
       "    }\n",
       "</style>\n",
       "<table border=\"1\" class=\"dataframe\">\n",
       "  <thead>\n",
       "    <tr style=\"text-align: right;\">\n",
       "      <th></th>\n",
       "      <th>leaves</th>\n",
       "      <th>depth</th>\n",
       "      <th>train_score</th>\n",
       "      <th>test_score</th>\n",
       "      <th>cv_score</th>\n",
       "    </tr>\n",
       "  </thead>\n",
       "  <tbody>\n",
       "    <tr>\n",
       "      <th>0</th>\n",
       "      <td>4456</td>\n",
       "      <td>44</td>\n",
       "      <td>0.988382</td>\n",
       "      <td>0.820866</td>\n",
       "      <td>0.8153</td>\n",
       "    </tr>\n",
       "  </tbody>\n",
       "</table>\n",
       "</div>"
      ],
      "text/plain": [
       "   leaves  depth  train_score  test_score  cv_score\n",
       "0    4456     44     0.988382    0.820866    0.8153"
      ]
     },
     "execution_count": 26,
     "metadata": {},
     "output_type": "execute_result"
    }
   ],
   "source": [
    "#Normalized Data\n",
    "scores = myDT(clf,Normalized_X_train,Normalized_y_train,Normalized_X_test,Normalized_y_test,cv)\n",
    "scores"
   ]
  },
  {
   "cell_type": "code",
   "execution_count": 27,
   "metadata": {
    "pycharm": {
     "name": "#%%\n"
    }
   },
   "outputs": [
    {
     "data": {
      "text/html": [
       "<div>\n",
       "<style scoped>\n",
       "    .dataframe tbody tr th:only-of-type {\n",
       "        vertical-align: middle;\n",
       "    }\n",
       "\n",
       "    .dataframe tbody tr th {\n",
       "        vertical-align: top;\n",
       "    }\n",
       "\n",
       "    .dataframe thead th {\n",
       "        text-align: right;\n",
       "    }\n",
       "</style>\n",
       "<table border=\"1\" class=\"dataframe\">\n",
       "  <thead>\n",
       "    <tr style=\"text-align: right;\">\n",
       "      <th></th>\n",
       "      <th>leaves</th>\n",
       "      <th>depth</th>\n",
       "      <th>train_score</th>\n",
       "      <th>test_score</th>\n",
       "      <th>cv_score</th>\n",
       "    </tr>\n",
       "  </thead>\n",
       "  <tbody>\n",
       "    <tr>\n",
       "      <th>0</th>\n",
       "      <td>5643</td>\n",
       "      <td>72</td>\n",
       "      <td>0.974729</td>\n",
       "      <td>0.749247</td>\n",
       "      <td>0.746609</td>\n",
       "    </tr>\n",
       "  </tbody>\n",
       "</table>\n",
       "</div>"
      ],
      "text/plain": [
       "   leaves  depth  train_score  test_score  cv_score\n",
       "0    5643     72     0.974729    0.749247  0.746609"
      ]
     },
     "execution_count": 27,
     "metadata": {},
     "output_type": "execute_result"
    }
   ],
   "source": [
    "#PCA Data\n",
    "scores = myDT(clf,PCA_X_train,PCA_y_train,PCA_X_test,PCA_y_test,cv)\n",
    "scores\n"
   ]
  },
  {
   "cell_type": "code",
   "execution_count": 28,
   "metadata": {
    "pycharm": {
     "name": "#%%\n"
    }
   },
   "outputs": [],
   "source": [
    "X_Data = PCA_Data\n",
    "X_train = PCA_X_train\n",
    "X_test = PCA_X_test\n",
    "y_train = PCA_y_train\n",
    "y_test = PCA_y_test\n"
   ]
  },
  {
   "cell_type": "markdown",
   "metadata": {},
   "source": [
    "####----------------------------------------------------------------\n",
    "# Learning Curve\n",
    "####----------------------------------------------------------------\n",
    "#https://scikit-learn.org/stable/modules/learning_curve.html"
   ]
  },
  {
   "cell_type": "code",
   "execution_count": 29,
   "metadata": {
    "pycharm": {
     "name": "#%%\n"
    }
   },
   "outputs": [
    {
     "data": {
      "text/plain": [
       "array([0.04, 0.09, 0.14, 0.19, 0.24, 0.29, 0.34, 0.39, 0.44, 0.49, 0.54,\n",
       "       0.59, 0.64, 0.69, 0.74, 0.79, 0.84, 0.89, 0.94, 0.99])"
      ]
     },
     "execution_count": 29,
     "metadata": {},
     "output_type": "execute_result"
    }
   ],
   "source": [
    "from sklearn.model_selection import learning_curve\n",
    "splitsSize = np.linspace(0.04,0.99,20)\n",
    "splitsSize"
   ]
  },
  {
   "cell_type": "code",
   "execution_count": 30,
   "metadata": {
    "pycharm": {
     "name": "#%%\n"
    }
   },
   "outputs": [],
   "source": [
    "train_sizes, train_scores, test_scores = learning_curve(\n",
    "        clf, X_Data, Y_Data, cv=cv, n_jobs=1, train_sizes=splitsSize)"
   ]
  },
  {
   "cell_type": "code",
   "execution_count": 31,
   "metadata": {
    "pycharm": {
     "name": "#%%\n"
    }
   },
   "outputs": [
    {
     "data": {
      "text/plain": [
       "array([ 1267,  2851,  4435,  6019,  7603,  9187, 10771, 12355, 13939,\n",
       "       15523, 17107, 18691, 20275, 21859, 23443, 25027, 26611, 28195,\n",
       "       29779, 31363])"
      ]
     },
     "execution_count": 31,
     "metadata": {},
     "output_type": "execute_result"
    }
   ],
   "source": [
    "train_sizes"
   ]
  },
  {
   "cell_type": "code",
   "execution_count": 32,
   "metadata": {
    "pycharm": {
     "name": "#%%\n"
    }
   },
   "outputs": [
    {
     "data": {
      "text/plain": [
       "array([[1.        , 1.        , 1.        , 1.        , 1.        ,\n",
       "        1.        , 1.        , 1.        , 1.        , 1.        ],\n",
       "       [1.        , 1.        , 1.        , 1.        , 1.        ,\n",
       "        1.        , 1.        , 1.        , 1.        , 1.        ],\n",
       "       [1.        , 1.        , 1.        , 1.        , 1.        ,\n",
       "        1.        , 1.        , 1.        , 1.        , 1.        ],\n",
       "       [1.        , 1.        , 1.        , 1.        , 1.        ,\n",
       "        1.        , 1.        , 1.        , 1.        , 1.        ],\n",
       "       [1.        , 1.        , 1.        , 1.        , 1.        ,\n",
       "        1.        , 1.        , 1.        , 1.        , 1.        ],\n",
       "       [1.        , 1.        , 1.        , 1.        , 1.        ,\n",
       "        1.        , 1.        , 1.        , 1.        , 1.        ],\n",
       "       [1.        , 1.        , 1.        , 1.        , 1.        ,\n",
       "        1.        , 1.        , 1.        , 1.        , 1.        ],\n",
       "       [1.        , 1.        , 1.        , 1.        , 1.        ,\n",
       "        1.        , 1.        , 1.        , 1.        , 1.        ],\n",
       "       [1.        , 1.        , 1.        , 1.        , 1.        ,\n",
       "        1.        , 1.        , 1.        , 1.        , 1.        ],\n",
       "       [1.        , 1.        , 1.        , 1.        , 1.        ,\n",
       "        1.        , 1.        , 1.        , 1.        , 1.        ],\n",
       "       [1.        , 1.        , 1.        , 1.        , 1.        ,\n",
       "        1.        , 1.        , 1.        , 1.        , 1.        ],\n",
       "       [0.99860896, 0.99866246, 0.99855545, 0.99855545, 0.99855545,\n",
       "        0.99887646, 0.99871596, 0.99892997, 0.99887646, 1.        ],\n",
       "       [0.99516646, 0.9950185 , 0.99477189, 0.99482121, 0.99516646,\n",
       "        0.99551171, 0.99556104, 0.995709  , 0.99664612, 1.        ],\n",
       "       [0.99364106, 0.99350382, 0.99313784, 0.99249737, 0.99286335,\n",
       "        0.99350382, 0.99377831, 0.99368681, 0.99519649, 0.99634018],\n",
       "       [0.99227915, 0.99219383, 0.99185258, 0.99121273, 0.99185258,\n",
       "        0.99240712, 0.99274837, 0.9926204 , 0.99398541, 0.99377213],\n",
       "       [0.99001079, 0.98977105, 0.98957126, 0.98885204, 0.98953131,\n",
       "        0.99076997, 0.99160906, 0.99180885, 0.99308747, 0.99244816],\n",
       "       [0.98248844, 0.98226297, 0.98196235, 0.9811732 , 0.98207508,\n",
       "        0.98372853, 0.98680997, 0.98872647, 0.99000413, 0.99116907],\n",
       "       [0.9748537 , 0.9747473 , 0.97432169, 0.97357688, 0.97439262,\n",
       "        0.97605959, 0.97935804, 0.97985458, 0.98208902, 0.99053024],\n",
       "       [0.96729239, 0.96725881, 0.96685584, 0.96615064, 0.96688942,\n",
       "        0.96873636, 0.9717922 , 0.97222875, 0.97300111, 0.99086605],\n",
       "       [0.96719064, 0.96722252, 0.96683991, 0.96617033, 0.96674425,\n",
       "        0.96856168, 0.97146319, 0.97203711, 0.97235596, 0.99123171]])"
      ]
     },
     "execution_count": 32,
     "metadata": {},
     "output_type": "execute_result"
    }
   ],
   "source": [
    "train_scores"
   ]
  },
  {
   "cell_type": "code",
   "execution_count": 33,
   "metadata": {
    "pycharm": {
     "name": "#%%\n"
    }
   },
   "outputs": [
    {
     "data": {
      "text/plain": [
       "array([[0.64385118, 0.64385118, 0.64385118, 0.64375   , 0.64375   ,\n",
       "        0.64375   , 0.64375   , 0.64375   , 0.64393294, 0.64393294],\n",
       "       [0.64385118, 0.64385118, 0.64385118, 0.64375   , 0.64375   ,\n",
       "        0.64375   , 0.64375   , 0.64375   , 0.64393294, 0.64393294],\n",
       "       [0.64385118, 0.64385118, 0.64385118, 0.64375   , 0.64375   ,\n",
       "        0.64375   , 0.64375   , 0.64375   , 0.64393294, 0.64393294],\n",
       "       [0.64385118, 0.64385118, 0.64385118, 0.64375   , 0.64375   ,\n",
       "        0.64375   , 0.64375   , 0.64375   , 0.64393294, 0.64393294],\n",
       "       [0.64385118, 0.64385118, 0.64385118, 0.64375   , 0.64375   ,\n",
       "        0.64375   , 0.64375   , 0.64375   , 0.64393294, 0.64393294],\n",
       "       [0.64385118, 0.64385118, 0.64385118, 0.64375   , 0.64375   ,\n",
       "        0.64375   , 0.64375   , 0.64375   , 0.64393294, 0.64393294],\n",
       "       [0.64385118, 0.64385118, 0.64385118, 0.64375   , 0.64375   ,\n",
       "        0.64375   , 0.64375   , 0.64375   , 0.64393294, 0.64393294],\n",
       "       [0.64385118, 0.64385118, 0.64385118, 0.64375   , 0.64375   ,\n",
       "        0.64375   , 0.64375   , 0.64375   , 0.64393294, 0.64393294],\n",
       "       [0.64385118, 0.64385118, 0.64385118, 0.64375   , 0.64375   ,\n",
       "        0.64375   , 0.64375   , 0.64375   , 0.64393294, 0.64393294],\n",
       "       [0.64385118, 0.64385118, 0.64385118, 0.64375   , 0.64375   ,\n",
       "        0.64375   , 0.64375   , 0.64375   , 0.64393294, 0.64393294],\n",
       "       [0.64385118, 0.64385118, 0.64385118, 0.64375   , 0.64375   ,\n",
       "        0.64375   , 0.64375   , 0.64375   , 0.64393294, 0.64393294],\n",
       "       [0.66571997, 0.65947174, 0.66060778, 0.66875   , 0.68494318,\n",
       "        0.68465909, 0.65823864, 0.63721591, 0.66410912, 0.64393294],\n",
       "       [0.71201363, 0.71201363, 0.7140017 , 0.71761364, 0.73551136,\n",
       "        0.75113636, 0.73948864, 0.72073864, 0.7564649 , 0.64393294],\n",
       "       [0.74126669, 0.73473445, 0.75319512, 0.75028409, 0.76818182,\n",
       "        0.77926136, 0.78181818, 0.75255682, 0.73941461, 0.62858767],\n",
       "       [0.75745527, 0.75035501, 0.76569156, 0.77357955, 0.78039773,\n",
       "        0.79460227, 0.78181818, 0.75511364, 0.71724922, 0.54617789],\n",
       "       [0.75915933, 0.7554672 , 0.7639875 , 0.77414773, 0.78210227,\n",
       "        0.78068182, 0.784375  , 0.75454545, 0.71014493, 0.37652742],\n",
       "       [0.7583073 , 0.75177506, 0.7665436 , 0.775     , 0.78210227,\n",
       "        0.77698864, 0.71107955, 0.74943182, 0.68968457, 0.34413186],\n",
       "       [0.76455552, 0.7472309 , 0.76512354, 0.775     , 0.77982955,\n",
       "        0.77727273, 0.72556818, 0.70653409, 0.67718102, 0.29099176],\n",
       "       [0.76171542, 0.750071  , 0.76540755, 0.77471591, 0.78011364,\n",
       "        0.77755682, 0.74261364, 0.7125    , 0.65217391, 0.38079   ],\n",
       "       [0.7639875 , 0.75262709, 0.76512354, 0.77784091, 0.78210227,\n",
       "        0.78238636, 0.74460227, 0.71448864, 0.65558397, 0.35322535]])"
      ]
     },
     "execution_count": 33,
     "metadata": {},
     "output_type": "execute_result"
    }
   ],
   "source": [
    "test_scores"
   ]
  },
  {
   "cell_type": "code",
   "execution_count": 34,
   "metadata": {
    "pycharm": {
     "name": "#%%\n"
    }
   },
   "outputs": [
    {
     "data": {
      "image/png": "[encoded data removed]",
      "text/plain": [
       "<Figure size 432x288 with 1 Axes>"
      ]
     },
     "metadata": {
      "needs_background": "light"
     },
     "output_type": "display_data"
    }
   ],
   "source": [
    "title = \"Learning Curves\"\n",
    "myPlotLib.plot_learning_curve(clf, title, X_Data, Y_Data, ylim=(0.1, 1.03),train_sizes=splitsSize, cv=cv, n_jobs=4)\n",
    "plt.show()\n"
   ]
  },
  {
   "cell_type": "code",
   "execution_count": 35,
   "metadata": {
    "pycharm": {
     "name": "#%%\n"
    }
   },
   "outputs": [],
   "source": [
    "def myDT_LearningCurve(clf,X_Data,Y_Data,splits,cv):\n",
    "    df = pd.DataFrame({\"percent\":[],\"train_score\":[],\"test_score\":[],\"cv_score\":[]})\n",
    "    for X in splits:\n",
    "        X_train, X_test, y_train, y_test  = myLib.mySplitDataByTrainSize(X_Data,Y_Data,X,42)\n",
    "        score_df = myDT(clf,X_train,y_train,X_test,y_test,cv)\n",
    "        df = df.append(pd.DataFrame({\"percent\":X,\"train_score\":score_df.train_score,\"test_score\":score_df.test_score,\"cv_score\":score_df.cv_score}),ignore_index=True,sort=False)\n",
    "    return df\n"
   ]
  },
  {
   "cell_type": "code",
   "execution_count": 36,
   "metadata": {
    "pycharm": {
     "name": "#%%    \n"
    }
   },
   "outputs": [
    {
     "data": {
      "text/html": [
       "<div>\n",
       "<style scoped>\n",
       "    .dataframe tbody tr th:only-of-type {\n",
       "        vertical-align: middle;\n",
       "    }\n",
       "\n",
       "    .dataframe tbody tr th {\n",
       "        vertical-align: top;\n",
       "    }\n",
       "\n",
       "    .dataframe thead th {\n",
       "        text-align: right;\n",
       "    }\n",
       "</style>\n",
       "<table border=\"1\" class=\"dataframe\">\n",
       "  <thead>\n",
       "    <tr style=\"text-align: right;\">\n",
       "      <th></th>\n",
       "      <th>percent</th>\n",
       "      <th>train_score</th>\n",
       "      <th>test_score</th>\n",
       "      <th>cv_score</th>\n",
       "    </tr>\n",
       "  </thead>\n",
       "  <tbody>\n",
       "    <tr>\n",
       "      <th>0</th>\n",
       "      <td>0.04</td>\n",
       "      <td>0.997879</td>\n",
       "      <td>0.694624</td>\n",
       "      <td>0.699922</td>\n",
       "    </tr>\n",
       "    <tr>\n",
       "      <th>1</th>\n",
       "      <td>0.09</td>\n",
       "      <td>0.995759</td>\n",
       "      <td>0.709369</td>\n",
       "      <td>0.710182</td>\n",
       "    </tr>\n",
       "    <tr>\n",
       "      <th>2</th>\n",
       "      <td>0.14</td>\n",
       "      <td>0.993638</td>\n",
       "      <td>0.725876</td>\n",
       "      <td>0.749475</td>\n",
       "    </tr>\n",
       "    <tr>\n",
       "      <th>3</th>\n",
       "      <td>0.19</td>\n",
       "      <td>0.993080</td>\n",
       "      <td>0.724185</td>\n",
       "      <td>0.741060</td>\n",
       "    </tr>\n",
       "    <tr>\n",
       "      <th>4</th>\n",
       "      <td>0.24</td>\n",
       "      <td>0.990989</td>\n",
       "      <td>0.736011</td>\n",
       "      <td>0.743814</td>\n",
       "    </tr>\n",
       "    <tr>\n",
       "      <th>5</th>\n",
       "      <td>0.29</td>\n",
       "      <td>0.990057</td>\n",
       "      <td>0.743544</td>\n",
       "      <td>0.741782</td>\n",
       "    </tr>\n",
       "    <tr>\n",
       "      <th>6</th>\n",
       "      <td>0.34</td>\n",
       "      <td>0.986904</td>\n",
       "      <td>0.743038</td>\n",
       "      <td>0.743830</td>\n",
       "    </tr>\n",
       "    <tr>\n",
       "      <th>7</th>\n",
       "      <td>0.39</td>\n",
       "      <td>0.985647</td>\n",
       "      <td>0.741558</td>\n",
       "      <td>0.740564</td>\n",
       "    </tr>\n",
       "    <tr>\n",
       "      <th>8</th>\n",
       "      <td>0.44</td>\n",
       "      <td>0.985254</td>\n",
       "      <td>0.741393</td>\n",
       "      <td>0.741809</td>\n",
       "    </tr>\n",
       "    <tr>\n",
       "      <th>9</th>\n",
       "      <td>0.49</td>\n",
       "      <td>0.983299</td>\n",
       "      <td>0.742797</td>\n",
       "      <td>0.737106</td>\n",
       "    </tr>\n",
       "    <tr>\n",
       "      <th>10</th>\n",
       "      <td>0.54</td>\n",
       "      <td>0.982332</td>\n",
       "      <td>0.741750</td>\n",
       "      <td>0.740083</td>\n",
       "    </tr>\n",
       "    <tr>\n",
       "      <th>11</th>\n",
       "      <td>0.59</td>\n",
       "      <td>0.979876</td>\n",
       "      <td>0.743507</td>\n",
       "      <td>0.738897</td>\n",
       "    </tr>\n",
       "    <tr>\n",
       "      <th>12</th>\n",
       "      <td>0.64</td>\n",
       "      <td>0.980123</td>\n",
       "      <td>0.741224</td>\n",
       "      <td>0.745443</td>\n",
       "    </tr>\n",
       "    <tr>\n",
       "      <th>13</th>\n",
       "      <td>0.69</td>\n",
       "      <td>0.979351</td>\n",
       "      <td>0.737774</td>\n",
       "      <td>0.747973</td>\n",
       "    </tr>\n",
       "    <tr>\n",
       "      <th>14</th>\n",
       "      <td>0.74</td>\n",
       "      <td>0.979028</td>\n",
       "      <td>0.745579</td>\n",
       "      <td>0.746103</td>\n",
       "    </tr>\n",
       "    <tr>\n",
       "      <th>15</th>\n",
       "      <td>0.79</td>\n",
       "      <td>0.978906</td>\n",
       "      <td>0.750136</td>\n",
       "      <td>0.741936</td>\n",
       "    </tr>\n",
       "    <tr>\n",
       "      <th>16</th>\n",
       "      <td>0.84</td>\n",
       "      <td>0.977789</td>\n",
       "      <td>0.742570</td>\n",
       "      <td>0.745985</td>\n",
       "    </tr>\n",
       "    <tr>\n",
       "      <th>17</th>\n",
       "      <td>0.89</td>\n",
       "      <td>0.978417</td>\n",
       "      <td>0.740110</td>\n",
       "      <td>0.745343</td>\n",
       "    </tr>\n",
       "    <tr>\n",
       "      <th>18</th>\n",
       "      <td>0.94</td>\n",
       "      <td>0.975731</td>\n",
       "      <td>0.751740</td>\n",
       "      <td>0.747024</td>\n",
       "    </tr>\n",
       "    <tr>\n",
       "      <th>19</th>\n",
       "      <td>0.99</td>\n",
       "      <td>0.976058</td>\n",
       "      <td>0.744783</td>\n",
       "      <td>0.748329</td>\n",
       "    </tr>\n",
       "  </tbody>\n",
       "</table>\n",
       "</div>"
      ],
      "text/plain": [
       "    percent  train_score  test_score  cv_score\n",
       "0      0.04     0.997879    0.694624  0.699922\n",
       "1      0.09     0.995759    0.709369  0.710182\n",
       "2      0.14     0.993638    0.725876  0.749475\n",
       "3      0.19     0.993080    0.724185  0.741060\n",
       "4      0.24     0.990989    0.736011  0.743814\n",
       "5      0.29     0.990057    0.743544  0.741782\n",
       "6      0.34     0.986904    0.743038  0.743830\n",
       "7      0.39     0.985647    0.741558  0.740564\n",
       "8      0.44     0.985254    0.741393  0.741809\n",
       "9      0.49     0.983299    0.742797  0.737106\n",
       "10     0.54     0.982332    0.741750  0.740083\n",
       "11     0.59     0.979876    0.743507  0.738897\n",
       "12     0.64     0.980123    0.741224  0.745443\n",
       "13     0.69     0.979351    0.737774  0.747973\n",
       "14     0.74     0.979028    0.745579  0.746103\n",
       "15     0.79     0.978906    0.750136  0.741936\n",
       "16     0.84     0.977789    0.742570  0.745985\n",
       "17     0.89     0.978417    0.740110  0.745343\n",
       "18     0.94     0.975731    0.751740  0.747024\n",
       "19     0.99     0.976058    0.744783  0.748329"
      ]
     },
     "execution_count": 36,
     "metadata": {},
     "output_type": "execute_result"
    }
   ],
   "source": [
    "learning_df= myDT_LearningCurve(clf,X_Data,Y_Data,splitsSize,cv)\n",
    "learning_df"
   ]
  },
  {
   "cell_type": "code",
   "execution_count": 37,
   "metadata": {
    "pycharm": {
     "name": "#%%\n"
    }
   },
   "outputs": [
    {
     "data": {
      "text/html": [
       "<div>\n",
       "<style scoped>\n",
       "    .dataframe tbody tr th:only-of-type {\n",
       "        vertical-align: middle;\n",
       "    }\n",
       "\n",
       "    .dataframe tbody tr th {\n",
       "        vertical-align: top;\n",
       "    }\n",
       "\n",
       "    .dataframe thead th {\n",
       "        text-align: right;\n",
       "    }\n",
       "</style>\n",
       "<table border=\"1\" class=\"dataframe\">\n",
       "  <thead>\n",
       "    <tr style=\"text-align: right;\">\n",
       "      <th></th>\n",
       "      <th>percent</th>\n",
       "      <th>train_score</th>\n",
       "      <th>test_score</th>\n",
       "      <th>cv_score</th>\n",
       "    </tr>\n",
       "  </thead>\n",
       "  <tbody>\n",
       "    <tr>\n",
       "      <th>count</th>\n",
       "      <td>20.000000</td>\n",
       "      <td>20.000000</td>\n",
       "      <td>20.000000</td>\n",
       "      <td>20.000000</td>\n",
       "    </tr>\n",
       "    <tr>\n",
       "      <th>mean</th>\n",
       "      <td>0.515000</td>\n",
       "      <td>0.984506</td>\n",
       "      <td>0.737078</td>\n",
       "      <td>0.739833</td>\n",
       "    </tr>\n",
       "    <tr>\n",
       "      <th>std</th>\n",
       "      <td>0.295804</td>\n",
       "      <td>0.006914</td>\n",
       "      <td>0.013858</td>\n",
       "      <td>0.012457</td>\n",
       "    </tr>\n",
       "    <tr>\n",
       "      <th>min</th>\n",
       "      <td>0.040000</td>\n",
       "      <td>0.975731</td>\n",
       "      <td>0.694624</td>\n",
       "      <td>0.699922</td>\n",
       "    </tr>\n",
       "    <tr>\n",
       "      <th>25%</th>\n",
       "      <td>0.277500</td>\n",
       "      <td>0.978998</td>\n",
       "      <td>0.737334</td>\n",
       "      <td>0.740444</td>\n",
       "    </tr>\n",
       "    <tr>\n",
       "      <th>50%</th>\n",
       "      <td>0.515000</td>\n",
       "      <td>0.982815</td>\n",
       "      <td>0.741654</td>\n",
       "      <td>0.742875</td>\n",
       "    </tr>\n",
       "    <tr>\n",
       "      <th>75%</th>\n",
       "      <td>0.752500</td>\n",
       "      <td>0.990290</td>\n",
       "      <td>0.743517</td>\n",
       "      <td>0.746015</td>\n",
       "    </tr>\n",
       "    <tr>\n",
       "      <th>max</th>\n",
       "      <td>0.990000</td>\n",
       "      <td>0.997879</td>\n",
       "      <td>0.751740</td>\n",
       "      <td>0.749475</td>\n",
       "    </tr>\n",
       "  </tbody>\n",
       "</table>\n",
       "</div>"
      ],
      "text/plain": [
       "         percent  train_score  test_score   cv_score\n",
       "count  20.000000    20.000000   20.000000  20.000000\n",
       "mean    0.515000     0.984506    0.737078   0.739833\n",
       "std     0.295804     0.006914    0.013858   0.012457\n",
       "min     0.040000     0.975731    0.694624   0.699922\n",
       "25%     0.277500     0.978998    0.737334   0.740444\n",
       "50%     0.515000     0.982815    0.741654   0.742875\n",
       "75%     0.752500     0.990290    0.743517   0.746015\n",
       "max     0.990000     0.997879    0.751740   0.749475"
      ]
     },
     "execution_count": 37,
     "metadata": {},
     "output_type": "execute_result"
    }
   ],
   "source": [
    "learning_df.describe()"
   ]
  },
  {
   "cell_type": "code",
   "execution_count": 38,
   "metadata": {
    "pycharm": {
     "name": "#%%\n"
    }
   },
   "outputs": [
    {
     "data": {
      "text/plain": [
       "Text(0.5, 1.0, 'Learning Curve of CV:10')"
      ]
     },
     "execution_count": 38,
     "metadata": {},
     "output_type": "execute_result"
    },
    {
     "data": {
      "image/png": "[encoded data removed]",
      "text/plain": [
       "<Figure size 432x288 with 1 Axes>"
      ]
     },
     "metadata": {
      "needs_background": "light"
     },
     "output_type": "display_data"
    }
   ],
   "source": [
    "\n",
    "fig, ax = plt.subplots()\n",
    "plt.plot(learning_df.percent, learning_df.train_score, color='blue', marker='o', markersize=5, label='training')\n",
    "\n",
    "plt.plot(learning_df.percent, learning_df.test_score, color='red', marker='o', markersize=5, label='testing')\n",
    "\n",
    "plt.plot(learning_df.percent, learning_df.cv_score, color='orange', marker='o', markersize=5, label='cross validation')\n",
    "\n",
    "ax.legend()\n",
    "ax.set_title(\"Learning Curve of CV:10\")\n"
   ]
  },
  {
   "cell_type": "markdown",
   "metadata": {},
   "source": [
    "<div class=\"alert alert-block alert-danger\">\n",
    "Based on the Learning Curve, we saw that \n",
    "<ul>\n",
    "<li>Very small samples dataset has high variance. It means the model perfomrs very well on training data (<b>min = 0.993589</b>), but has high erro rates on the test data (<b>min = 0.692473</b>)</li>\n",
    "<li>Adding more training samples (<b>>25K</b>) may not affect the accuracy of the model</li>\n",
    "</ul>\n",
    "</div>\n"
   ]
  },
  {
   "cell_type": "markdown",
   "metadata": {},
   "source": [
    "####----------------------------------------------------------------\n",
    "# Validation Curve\n",
    "####----------------------------------------------------------------"
   ]
  },
  {
   "cell_type": "code",
   "execution_count": 39,
   "metadata": {
    "pycharm": {
     "is_executing": false,
     "name": "#%%\n"
    }
   },
   "outputs": [],
   "source": [
    "depths = [1,2,4, 5, 8,10,15, 20,25,30,35,40,50,60,70,80,90,100,150,200]"
   ]
  },
  {
   "cell_type": "code",
   "execution_count": 40,
   "metadata": {
    "pycharm": {
     "name": "#%%\n"
    }
   },
   "outputs": [],
   "source": [
    "#https://scikit-learn.org/stable/modules/generated/sklearn.model_selection.validation_curve.html#sklearn.model_selection.validation_curve\n",
    "from sklearn.model_selection import validation_curve\n",
    "train_scores, valid_scores = validation_curve(DecisionTreeClassifier(),X_train, y_train, \n",
    "    param_name=\"max_depth\", param_range=depths,\n",
    "    cv=cv, n_jobs=1)\n"
   ]
  },
  {
   "cell_type": "code",
   "execution_count": 41,
   "metadata": {
    "pycharm": {
     "name": "#%%\n"
    }
   },
   "outputs": [
    {
     "data": {
      "text/plain": [
       "array([[0.64243309, 0.64244994, 0.64244994, 0.64241967, 0.64241967,\n",
       "        0.64241967, 0.64241967, 0.64241967, 0.64241967, 0.64241967],\n",
       "       [0.67711082, 0.67783274, 0.67797409, 0.6753981 , 0.67751814,\n",
       "        0.67487986, 0.67563366, 0.67780081, 0.67506831, 0.67798926],\n",
       "       [0.70735959, 0.70468787, 0.70464075, 0.6992839 , 0.70470178,\n",
       "        0.70423066, 0.7024404 , 0.70390088, 0.70145105, 0.70324131],\n",
       "       [0.7214003 , 0.7176914 , 0.71128386, 0.7200603 , 0.71318195,\n",
       "        0.71308772, 0.71106191, 0.71190992, 0.71205126, 0.72086121],\n",
       "       [0.75735017, 0.75227326, 0.74614841, 0.7736738 , 0.74342787,\n",
       "        0.744323  , 0.74517102, 0.74347498, 0.74564214, 0.76227268],\n",
       "       [0.78967207, 0.78873969, 0.77700824, 0.80952605, 0.76867992,\n",
       "        0.7819184 , 0.78813719, 0.76283803, 0.78549892, 0.79039857],\n",
       "       [0.84762533, 0.86530035, 0.86190813, 0.87067747, 0.85414115,\n",
       "        0.84679167, 0.85852257, 0.85098464, 0.85230378, 0.84773391],\n",
       "       [0.90501319, 0.91147232, 0.91755006, 0.91472722, 0.90488081,\n",
       "        0.8981909 , 0.90676529, 0.91114671, 0.90982757, 0.90130029],\n",
       "       [0.94270637, 0.94228504, 0.94888104, 0.94275888, 0.93833035,\n",
       "        0.93319514, 0.93630453, 0.94577405, 0.94181664, 0.93489117],\n",
       "       [0.96122314, 0.96169611, 0.96485277, 0.95712805, 0.95675115,\n",
       "        0.9537831 , 0.95269952, 0.96235749, 0.95976632, 0.95915387],\n",
       "       [0.96960988, 0.96961131, 0.97220259, 0.96617356, 0.96377085,\n",
       "        0.96490154, 0.96334684, 0.96951852, 0.96900028, 0.96782248],\n",
       "       [0.97366189, 0.97338045, 0.97583039, 0.971403  , 0.96815227,\n",
       "        0.97121455, 0.9694714 , 0.97408838, 0.97272213, 0.97225101],\n",
       "       [0.97582925, 0.97625442, 0.97705536, 0.97479506, 0.97225101,\n",
       "        0.9757373 , 0.97446528, 0.97592575, 0.97545463, 0.97512485],\n",
       "       [0.97587637, 0.97672556, 0.97705536, 0.97526618, 0.97422972,\n",
       "        0.9764911 , 0.9753133 , 0.97658532, 0.97606709, 0.97601998],\n",
       "       [0.97587637, 0.97672556, 0.97705536, 0.97606709, 0.97559597,\n",
       "        0.9764911 , 0.97536041, 0.97658532, 0.97644398, 0.97606709],\n",
       "       [0.97587637, 0.97672556, 0.97705536, 0.97606709, 0.9757373 ,\n",
       "        0.9764911 , 0.97536041, 0.97658532, 0.97644398, 0.97606709],\n",
       "       [0.97587637, 0.97672556, 0.97705536, 0.97606709, 0.9757373 ,\n",
       "        0.9764911 , 0.97536041, 0.97658532, 0.97644398, 0.97606709],\n",
       "       [0.97587637, 0.97672556, 0.97705536, 0.97606709, 0.9757373 ,\n",
       "        0.9764911 , 0.97536041, 0.97658532, 0.97644398, 0.97606709],\n",
       "       [0.97587637, 0.97672556, 0.97705536, 0.97606709, 0.9757373 ,\n",
       "        0.9764911 , 0.97536041, 0.97658532, 0.97644398, 0.97606709],\n",
       "       [0.97587637, 0.97672556, 0.97705536, 0.97606709, 0.9757373 ,\n",
       "        0.9764911 , 0.97536041, 0.97658532, 0.97644398, 0.97606709]])"
      ]
     },
     "execution_count": 41,
     "metadata": {},
     "output_type": "execute_result"
    }
   ],
   "source": [
    "train_scores"
   ]
  },
  {
   "cell_type": "code",
   "execution_count": 42,
   "metadata": {
    "pycharm": {
     "name": "#%%\n"
    }
   },
   "outputs": [
    {
     "data": {
      "text/plain": [
       "array([[0.64237288, 0.64222128, 0.64222128, 0.64249364, 0.64249364,\n",
       "        0.64249364, 0.64249364, 0.64249364, 0.64249364, 0.64249364],\n",
       "       [0.66016949, 0.67952522, 0.67867741, 0.67599661, 0.67387617,\n",
       "        0.6798134 , 0.67133164, 0.67938931, 0.67684478, 0.67302799],\n",
       "       [0.67669492, 0.69605765, 0.70284019, 0.68617472, 0.71034775,\n",
       "        0.70780322, 0.69126378, 0.70992366, 0.70525869, 0.68787108],\n",
       "       [0.69194915, 0.71089445, 0.71555744, 0.71374046, 0.71289228,\n",
       "        0.71501272, 0.70695505, 0.70695505, 0.71755725, 0.69762511],\n",
       "       [0.7190678 , 0.7286986 , 0.73590504, 0.75063613, 0.7336726 ,\n",
       "        0.73706531, 0.72858355, 0.73240034, 0.72815946, 0.73112807],\n",
       "       [0.74067797, 0.74650276, 0.73590504, 0.76590331, 0.74427481,\n",
       "        0.74385072, 0.75699746, 0.7480916 , 0.75402884, 0.74724343],\n",
       "       [0.76186441, 0.76261128, 0.7736329 , 0.76887193, 0.77608142,\n",
       "        0.76844784, 0.77480916, 0.77056828, 0.76590331, 0.75360475],\n",
       "       [0.75805085, 0.75498092, 0.76218737, 0.76759966, 0.7697201 ,\n",
       "        0.77311281, 0.77141645, 0.76463104, 0.76887193, 0.76420696],\n",
       "       [0.74618644, 0.74650276, 0.75243747, 0.76675148, 0.76505513,\n",
       "        0.76505513, 0.77014419, 0.75402884, 0.75572519, 0.76123834],\n",
       "       [0.74237288, 0.7439593 , 0.75116575, 0.76081425, 0.76081425,\n",
       "        0.76081425, 0.7663274 , 0.74936387, 0.75487701, 0.74554707],\n",
       "       [0.74110169, 0.7439593 , 0.74565494, 0.7553011 , 0.75742154,\n",
       "        0.75614928, 0.7625106 , 0.74639525, 0.74639525, 0.74512299],\n",
       "       [0.73559322, 0.74099195, 0.74607885, 0.75402884, 0.7591179 ,\n",
       "        0.75572519, 0.75996607, 0.74342663, 0.74300254, 0.74512299],\n",
       "       [0.73644068, 0.74183976, 0.74650276, 0.75445293, 0.75318066,\n",
       "        0.75275657, 0.75699746, 0.74215437, 0.74342663, 0.74342663],\n",
       "       [0.73516949, 0.7439593 , 0.74607885, 0.75233249, 0.75106022,\n",
       "        0.75318066, 0.75742154, 0.73960984, 0.74173028, 0.73960984],\n",
       "       [0.73728814, 0.7439593 , 0.74480712, 0.75318066, 0.75275657,\n",
       "        0.75106022, 0.75826972, 0.74130619, 0.74173028, 0.74215437],\n",
       "       [0.73813559, 0.74268758, 0.74735057, 0.7519084 , 0.75063613,\n",
       "        0.75318066, 0.75784563, 0.74385072, 0.74215437, 0.74130619],\n",
       "       [0.73728814, 0.74226367, 0.74607885, 0.75318066, 0.75233249,\n",
       "        0.75275657, 0.75742154, 0.74427481, 0.74130619, 0.74173028],\n",
       "       [0.73559322, 0.7435354 , 0.74650276, 0.75360475, 0.75148431,\n",
       "        0.75360475, 0.75699746, 0.74045802, 0.7408821 , 0.74045802],\n",
       "       [0.73728814, 0.74480712, 0.74650276, 0.75063613, 0.75106022,\n",
       "        0.75275657, 0.75657337, 0.74003393, 0.74003393, 0.74130619],\n",
       "       [0.73728814, 0.74311149, 0.74523103, 0.75233249, 0.7519084 ,\n",
       "        0.75063613, 0.75784563, 0.74385072, 0.73918575, 0.7408821 ]])"
      ]
     },
     "execution_count": 42,
     "metadata": {},
     "output_type": "execute_result"
    }
   ],
   "source": [
    "valid_scores\n"
   ]
  },
  {
   "cell_type": "code",
   "execution_count": 43,
   "metadata": {
    "pycharm": {
     "name": "#%%\n"
    }
   },
   "outputs": [
    {
     "data": {
      "image/png": "[encoded data removed]",
      "text/plain": [
       "<Figure size 432x288 with 1 Axes>"
      ]
     },
     "metadata": {
      "needs_background": "light"
     },
     "output_type": "display_data"
    }
   ],
   "source": [
    "train_scores_mean = np.mean(train_scores, axis=1)\n",
    "train_scores_std = np.std(train_scores, axis=1)\n",
    "valid_scores_mean = np.mean(valid_scores, axis=1)\n",
    "valid_scores_std = np.std(valid_scores, axis=1)\n",
    "\n",
    "plt.title(\"Validation Curve of CV:10\")\n",
    "plt.xlabel(\"Depth\")\n",
    "plt.ylabel(\"Score\")\n",
    "plt.ylim(0.0, 1.1)\n",
    "lw = 2\n",
    "plt.semilogx(depths, train_scores_mean, label=\"Training score\",\n",
    "             color=\"darkorange\", lw=lw)\n",
    "plt.fill_between(depths, train_scores_mean - train_scores_std,\n",
    "                 train_scores_mean + train_scores_std, alpha=0.2,\n",
    "                 color=\"darkorange\", lw=lw)\n",
    "plt.semilogx(depths, valid_scores_mean, label=\"Cross-validation score\",\n",
    "             color=\"navy\", lw=lw)\n",
    "plt.fill_between(depths, valid_scores_mean - valid_scores_std,\n",
    "                 valid_scores_mean + valid_scores_std, alpha=0.2,\n",
    "                 color=\"navy\", lw=lw)\n",
    "plt.legend(loc=\"best\")\n",
    "plt.show()\n"
   ]
  },
  {
   "cell_type": "markdown",
   "metadata": {},
   "source": [
    "####----------------------------------------------------------------\n",
    "# Model Turning\n",
    "####----------------------------------------------------------------"
   ]
  },
  {
   "cell_type": "code",
   "execution_count": 44,
   "metadata": {
    "pycharm": {
     "name": "#%%\n"
    }
   },
   "outputs": [
    {
     "data": {
      "text/html": [
       "<div>\n",
       "<style scoped>\n",
       "    .dataframe tbody tr th:only-of-type {\n",
       "        vertical-align: middle;\n",
       "    }\n",
       "\n",
       "    .dataframe tbody tr th {\n",
       "        vertical-align: top;\n",
       "    }\n",
       "\n",
       "    .dataframe thead th {\n",
       "        text-align: right;\n",
       "    }\n",
       "</style>\n",
       "<table border=\"1\" class=\"dataframe\">\n",
       "  <thead>\n",
       "    <tr style=\"text-align: right;\">\n",
       "      <th></th>\n",
       "      <th>depth</th>\n",
       "      <th>train_score</th>\n",
       "      <th>cv_score</th>\n",
       "      <th>test_score</th>\n",
       "    </tr>\n",
       "  </thead>\n",
       "  <tbody>\n",
       "    <tr>\n",
       "      <th>0</th>\n",
       "      <td>1.0</td>\n",
       "      <td>0.642427</td>\n",
       "      <td>0.642427</td>\n",
       "      <td>0.646639</td>\n",
       "    </tr>\n",
       "    <tr>\n",
       "      <th>1</th>\n",
       "      <td>2.0</td>\n",
       "      <td>0.677154</td>\n",
       "      <td>0.674865</td>\n",
       "      <td>0.677542</td>\n",
       "    </tr>\n",
       "    <tr>\n",
       "      <th>2</th>\n",
       "      <td>4.0</td>\n",
       "      <td>0.704418</td>\n",
       "      <td>0.697424</td>\n",
       "      <td>0.701386</td>\n",
       "    </tr>\n",
       "    <tr>\n",
       "      <th>3</th>\n",
       "      <td>5.0</td>\n",
       "      <td>0.712941</td>\n",
       "      <td>0.708914</td>\n",
       "      <td>0.710683</td>\n",
       "    </tr>\n",
       "    <tr>\n",
       "      <th>4</th>\n",
       "      <td>8.0</td>\n",
       "      <td>0.743809</td>\n",
       "      <td>0.732489</td>\n",
       "      <td>0.731686</td>\n",
       "    </tr>\n",
       "    <tr>\n",
       "      <th>5</th>\n",
       "      <td>10.0</td>\n",
       "      <td>0.766282</td>\n",
       "      <td>0.748093</td>\n",
       "      <td>0.743307</td>\n",
       "    </tr>\n",
       "    <tr>\n",
       "      <th>6</th>\n",
       "      <td>15.0</td>\n",
       "      <td>0.851297</td>\n",
       "      <td>0.767555</td>\n",
       "      <td>0.777395</td>\n",
       "    </tr>\n",
       "    <tr>\n",
       "      <th>7</th>\n",
       "      <td>20.0</td>\n",
       "      <td>0.901289</td>\n",
       "      <td>0.765944</td>\n",
       "      <td>0.773349</td>\n",
       "    </tr>\n",
       "    <tr>\n",
       "      <th>8</th>\n",
       "      <td>25.0</td>\n",
       "      <td>0.938136</td>\n",
       "      <td>0.757634</td>\n",
       "      <td>0.760437</td>\n",
       "    </tr>\n",
       "    <tr>\n",
       "      <th>9</th>\n",
       "      <td>30.0</td>\n",
       "      <td>0.958658</td>\n",
       "      <td>0.753351</td>\n",
       "      <td>0.754584</td>\n",
       "    </tr>\n",
       "    <tr>\n",
       "      <th>10</th>\n",
       "      <td>35.0</td>\n",
       "      <td>0.966588</td>\n",
       "      <td>0.750553</td>\n",
       "      <td>0.752948</td>\n",
       "    </tr>\n",
       "    <tr>\n",
       "      <th>11</th>\n",
       "      <td>40.0</td>\n",
       "      <td>0.970319</td>\n",
       "      <td>0.748984</td>\n",
       "      <td>0.751054</td>\n",
       "    </tr>\n",
       "    <tr>\n",
       "      <th>12</th>\n",
       "      <td>50.0</td>\n",
       "      <td>0.973541</td>\n",
       "      <td>0.747118</td>\n",
       "      <td>0.748644</td>\n",
       "    </tr>\n",
       "    <tr>\n",
       "      <th>13</th>\n",
       "      <td>60.0</td>\n",
       "      <td>0.974474</td>\n",
       "      <td>0.746991</td>\n",
       "      <td>0.748730</td>\n",
       "    </tr>\n",
       "    <tr>\n",
       "      <th>14</th>\n",
       "      <td>70.0</td>\n",
       "      <td>0.974686</td>\n",
       "      <td>0.746694</td>\n",
       "      <td>0.748472</td>\n",
       "    </tr>\n",
       "    <tr>\n",
       "      <th>15</th>\n",
       "      <td>80.0</td>\n",
       "      <td>0.974729</td>\n",
       "      <td>0.746609</td>\n",
       "      <td>0.749247</td>\n",
       "    </tr>\n",
       "    <tr>\n",
       "      <th>16</th>\n",
       "      <td>90.0</td>\n",
       "      <td>0.974729</td>\n",
       "      <td>0.746609</td>\n",
       "      <td>0.749247</td>\n",
       "    </tr>\n",
       "    <tr>\n",
       "      <th>17</th>\n",
       "      <td>100.0</td>\n",
       "      <td>0.974729</td>\n",
       "      <td>0.746609</td>\n",
       "      <td>0.749247</td>\n",
       "    </tr>\n",
       "    <tr>\n",
       "      <th>18</th>\n",
       "      <td>150.0</td>\n",
       "      <td>0.974729</td>\n",
       "      <td>0.746609</td>\n",
       "      <td>0.749247</td>\n",
       "    </tr>\n",
       "    <tr>\n",
       "      <th>19</th>\n",
       "      <td>200.0</td>\n",
       "      <td>0.974729</td>\n",
       "      <td>0.746609</td>\n",
       "      <td>0.749247</td>\n",
       "    </tr>\n",
       "  </tbody>\n",
       "</table>\n",
       "</div>"
      ],
      "text/plain": [
       "    depth  train_score  cv_score  test_score\n",
       "0     1.0     0.642427  0.642427    0.646639\n",
       "1     2.0     0.677154  0.674865    0.677542\n",
       "2     4.0     0.704418  0.697424    0.701386\n",
       "3     5.0     0.712941  0.708914    0.710683\n",
       "4     8.0     0.743809  0.732489    0.731686\n",
       "5    10.0     0.766282  0.748093    0.743307\n",
       "6    15.0     0.851297  0.767555    0.777395\n",
       "7    20.0     0.901289  0.765944    0.773349\n",
       "8    25.0     0.938136  0.757634    0.760437\n",
       "9    30.0     0.958658  0.753351    0.754584\n",
       "10   35.0     0.966588  0.750553    0.752948\n",
       "11   40.0     0.970319  0.748984    0.751054\n",
       "12   50.0     0.973541  0.747118    0.748644\n",
       "13   60.0     0.974474  0.746991    0.748730\n",
       "14   70.0     0.974686  0.746694    0.748472\n",
       "15   80.0     0.974729  0.746609    0.749247\n",
       "16   90.0     0.974729  0.746609    0.749247\n",
       "17  100.0     0.974729  0.746609    0.749247\n",
       "18  150.0     0.974729  0.746609    0.749247\n",
       "19  200.0     0.974729  0.746609    0.749247"
      ]
     },
     "execution_count": 44,
     "metadata": {},
     "output_type": "execute_result"
    }
   ],
   "source": [
    "learnig_df= myDT_ModelTurning(clf,depths,X_train,y_train,X_test,y_test,cv)\n",
    "learnig_df"
   ]
  },
  {
   "cell_type": "code",
   "execution_count": 45,
   "metadata": {
    "pycharm": {
     "name": "#%%\n"
    }
   },
   "outputs": [
    {
     "data": {
      "text/html": [
       "<div>\n",
       "<style scoped>\n",
       "    .dataframe tbody tr th:only-of-type {\n",
       "        vertical-align: middle;\n",
       "    }\n",
       "\n",
       "    .dataframe tbody tr th {\n",
       "        vertical-align: top;\n",
       "    }\n",
       "\n",
       "    .dataframe thead th {\n",
       "        text-align: right;\n",
       "    }\n",
       "</style>\n",
       "<table border=\"1\" class=\"dataframe\">\n",
       "  <thead>\n",
       "    <tr style=\"text-align: right;\">\n",
       "      <th></th>\n",
       "      <th>depth</th>\n",
       "      <th>train_score</th>\n",
       "      <th>cv_score</th>\n",
       "      <th>test_score</th>\n",
       "    </tr>\n",
       "  </thead>\n",
       "  <tbody>\n",
       "    <tr>\n",
       "      <th>count</th>\n",
       "      <td>20.000000</td>\n",
       "      <td>20.000000</td>\n",
       "      <td>20.000000</td>\n",
       "      <td>20.000000</td>\n",
       "    </tr>\n",
       "    <tr>\n",
       "      <th>mean</th>\n",
       "      <td>49.750000</td>\n",
       "      <td>0.881483</td>\n",
       "      <td>0.736104</td>\n",
       "      <td>0.738655</td>\n",
       "    </tr>\n",
       "    <tr>\n",
       "      <th>std</th>\n",
       "      <td>53.155061</td>\n",
       "      <td>0.122639</td>\n",
       "      <td>0.031487</td>\n",
       "      <td>0.031700</td>\n",
       "    </tr>\n",
       "    <tr>\n",
       "      <th>min</th>\n",
       "      <td>1.000000</td>\n",
       "      <td>0.642427</td>\n",
       "      <td>0.642427</td>\n",
       "      <td>0.646639</td>\n",
       "    </tr>\n",
       "    <tr>\n",
       "      <th>25%</th>\n",
       "      <td>9.500000</td>\n",
       "      <td>0.760664</td>\n",
       "      <td>0.743079</td>\n",
       "      <td>0.740402</td>\n",
       "    </tr>\n",
       "    <tr>\n",
       "      <th>50%</th>\n",
       "      <td>32.500000</td>\n",
       "      <td>0.962623</td>\n",
       "      <td>0.746651</td>\n",
       "      <td>0.749247</td>\n",
       "    </tr>\n",
       "    <tr>\n",
       "      <th>75%</th>\n",
       "      <td>72.500000</td>\n",
       "      <td>0.974697</td>\n",
       "      <td>0.749376</td>\n",
       "      <td>0.751528</td>\n",
       "    </tr>\n",
       "    <tr>\n",
       "      <th>max</th>\n",
       "      <td>200.000000</td>\n",
       "      <td>0.974729</td>\n",
       "      <td>0.767555</td>\n",
       "      <td>0.777395</td>\n",
       "    </tr>\n",
       "  </tbody>\n",
       "</table>\n",
       "</div>"
      ],
      "text/plain": [
       "            depth  train_score   cv_score  test_score\n",
       "count   20.000000    20.000000  20.000000   20.000000\n",
       "mean    49.750000     0.881483   0.736104    0.738655\n",
       "std     53.155061     0.122639   0.031487    0.031700\n",
       "min      1.000000     0.642427   0.642427    0.646639\n",
       "25%      9.500000     0.760664   0.743079    0.740402\n",
       "50%     32.500000     0.962623   0.746651    0.749247\n",
       "75%     72.500000     0.974697   0.749376    0.751528\n",
       "max    200.000000     0.974729   0.767555    0.777395"
      ]
     },
     "execution_count": 45,
     "metadata": {},
     "output_type": "execute_result"
    }
   ],
   "source": [
    "learnig_df.describe()"
   ]
  },
  {
   "cell_type": "code",
   "execution_count": 46,
   "metadata": {
    "pycharm": {
     "name": "#%%\n"
    }
   },
   "outputs": [
    {
     "data": {
      "text/plain": [
       "Text(0.5, 1.0, 'Training and Cross validation scores of CV:10')"
      ]
     },
     "execution_count": 46,
     "metadata": {},
     "output_type": "execute_result"
    },
    {
     "data": {
      "image/png": "[encoded data removed]",
      "text/plain": [
       "<Figure size 432x288 with 1 Axes>"
      ]
     },
     "metadata": {
      "needs_background": "light"
     },
     "output_type": "display_data"
    }
   ],
   "source": [
    "\n",
    "fig,ax = plt.subplots()\n",
    "plt.xlabel(\"Depth\")\n",
    "plt.plot(learnig_df.depth, learnig_df.train_score, color='blue', marker='o', markersize=5, label='training')\n",
    "plt.plot(learnig_df.depth, learnig_df.cv_score, color='orange', marker='o', markersize=5, label='cross validation')\n",
    "\n",
    "ax.legend()\n",
    "ax.set_title(\"Training and Cross validation scores of CV:10\")\n"
   ]
  },
  {
   "cell_type": "markdown",
   "metadata": {},
   "source": [
    "<div class=\"alert alert-block alert-danger\">\n",
    "Based on the Validation Curve, we saw that with the depth > <b>50</b>, \n",
    "<ul>\n",
    "<li>The training scores almost are the same: <b>0.985456</b> </li>\n",
    "<li>The cross validation scores almost are the same: <b>0.751909</b> </li>\n",
    "</ul>\n",
    "That means, the best value of the depth < <b>50</b>, we will do grid search CV based on this range  \n",
    "</div>\n"
   ]
  },
  {
   "cell_type": "markdown",
   "metadata": {},
   "source": [
    "####----------------------------------------------------------------\n",
    "# Grid Search CV\n",
    "####----------------------------------------------------------------"
   ]
  },
  {
   "cell_type": "code",
   "execution_count": 47,
   "metadata": {
    "pycharm": {
     "name": "#%%\n"
    }
   },
   "outputs": [],
   "source": [
    "#GridSearchCV\n",
    "def myGS(X_train,y_train,depths,num_leafs):\n",
    "    from sklearn.model_selection import GridSearchCV\n",
    "    \n",
    "    param_grid = [{'max_depth':depths,\n",
    "                  'min_samples_leaf':num_leafs}]\n",
    "    clf2 = DecisionTreeClassifier(random_state=0)\n",
    "    gs = GridSearchCV(estimator=clf2, param_grid=param_grid, cv=10)\n",
    "    \n",
    "    gs = gs.fit(X_train, y_train)\n",
    "    return gs\n",
    "    "
   ]
  },
  {
   "cell_type": "code",
   "execution_count": 48,
   "metadata": {
    "pycharm": {
     "name": "#%%\n"
    }
   },
   "outputs": [
    {
     "data": {
      "text/plain": [
       "0.7895183175033921"
      ]
     },
     "execution_count": 48,
     "metadata": {},
     "output_type": "execute_result"
    }
   ],
   "source": [
    "depths = range(10,50,20)\n",
    "num_leafs = [1,2,4, 5, 8, 10, 20]\n",
    "gs = myGS(X_train,y_train,depths,num_leafs)\n",
    "#Training Score\n",
    "gs.best_score_"
   ]
  },
  {
   "cell_type": "code",
   "execution_count": 49,
   "metadata": {
    "pycharm": {
     "name": "#%%\n"
    }
   },
   "outputs": [
    {
     "data": {
      "text/plain": [
       "{'max_depth': 30, 'min_samples_leaf': 20}"
      ]
     },
     "execution_count": 49,
     "metadata": {},
     "output_type": "execute_result"
    }
   ],
   "source": [
    "gs.best_params_\n",
    "    "
   ]
  },
  {
   "cell_type": "markdown",
   "metadata": {},
   "source": [
    "####----------------------------------------------------------------\n",
    "# Final Evaluation\n",
    "####----------------------------------------------------------------"
   ]
  },
  {
   "cell_type": "code",
   "execution_count": 50,
   "metadata": {
    "pycharm": {
     "name": "#%%\n"
    }
   },
   "outputs": [
    {
     "data": {
      "text/html": [
       "<div>\n",
       "<style scoped>\n",
       "    .dataframe tbody tr th:only-of-type {\n",
       "        vertical-align: middle;\n",
       "    }\n",
       "\n",
       "    .dataframe tbody tr th {\n",
       "        vertical-align: top;\n",
       "    }\n",
       "\n",
       "    .dataframe thead th {\n",
       "        text-align: right;\n",
       "    }\n",
       "</style>\n",
       "<table border=\"1\" class=\"dataframe\">\n",
       "  <thead>\n",
       "    <tr style=\"text-align: right;\">\n",
       "      <th></th>\n",
       "      <th>leaves</th>\n",
       "      <th>depth</th>\n",
       "      <th>train_score</th>\n",
       "      <th>test_score</th>\n",
       "      <th>cv_score</th>\n",
       "    </tr>\n",
       "  </thead>\n",
       "  <tbody>\n",
       "    <tr>\n",
       "      <th>0</th>\n",
       "      <td>749</td>\n",
       "      <td>30</td>\n",
       "      <td>0.82751</td>\n",
       "      <td>0.796247</td>\n",
       "      <td>0.789519</td>\n",
       "    </tr>\n",
       "  </tbody>\n",
       "</table>\n",
       "</div>"
      ],
      "text/plain": [
       "   leaves  depth  train_score  test_score  cv_score\n",
       "0     749     30      0.82751    0.796247  0.789519"
      ]
     },
     "execution_count": 50,
     "metadata": {},
     "output_type": "execute_result"
    }
   ],
   "source": [
    "clf = DecisionTreeClassifier(random_state=0,max_depth=gs.best_params_['max_depth'],min_samples_leaf=gs.best_params_['min_samples_leaf'])\n",
    "#Original Data\n",
    "scores = myDT(clf,X_train,y_train,X_test,y_test,cv)\n",
    "scores\n"
   ]
  },
  {
   "cell_type": "markdown",
   "metadata": {},
   "source": [
    "<div class=\"alert alert-block alert-warning\">\n",
    "The accuracy of the model (PCA Data, 40 components): <b>0.791771</b> \n",
    "</div>\n",
    "\n"
   ]
  },
  {
   "cell_type": "markdown",
   "metadata": {},
   "source": [
    "####----------------------------------------------------------------\n",
    "# ROC Curve\n",
    "####----------------------------------------------------------------"
   ]
  },
  {
   "cell_type": "code",
   "execution_count": 51,
   "metadata": {
    "pycharm": {
     "is_executing": false,
     "name": "#%%\n"
    }
   },
   "outputs": [
    {
     "data": {
      "image/png": "[encoded data removed]",
      "text/plain": [
       "<Figure size 432x288 with 1 Axes>"
      ]
     },
     "metadata": {
      "needs_background": "light"
     },
     "output_type": "display_data"
    }
   ],
   "source": [
    "from sklearn.linear_model import LogisticRegression\n",
    "from sklearn.metrics import roc_curve,auc\n",
    "\n",
    "dt_lm = LogisticRegression(solver='lbfgs', max_iter=1000)\n",
    "clf.fit(X_train, y_train)\n",
    "dt_lm.fit(X_test, y_test)\n",
    "\n",
    "y_pred_dt = clf.predict_proba(X_test)[:, 1]\n",
    "fpr_dt, tpr_dt, _ = roc_curve(y_test, y_pred_dt)\n",
    "roc_auc = auc(fpr_dt, tpr_dt)\n",
    "\n",
    "plt.figure(1)\n",
    "plt.plot([0, 1], [0, 1], 'k--')\n",
    "plt.plot(fpr_dt, tpr_dt, label='ROC of DT (AUC = %0.2f)' % roc_auc)\n",
    "plt.xlabel('False positive rate')\n",
    "plt.ylabel('True positive rate')\n",
    "plt.title('ROC curve')\n",
    "plt.legend(loc='best')\n",
    "plt.show()\n",
    "\n",
    "\n"
   ]
  },
  {
   "cell_type": "markdown",
   "metadata": {},
   "source": [
    "####----------------------------------------------------------------\n",
    "# Export Model\n",
    "####----------------------------------------------------------------"
   ]
  },
  {
   "cell_type": "code",
   "execution_count": 52,
   "metadata": {
    "pycharm": {
     "name": "#%%\n"
    }
   },
   "outputs": [
    {
     "name": "stderr",
     "output_type": "stream",
     "text": [
      "/Users/tranngocbao/.conda/envs/Project01/lib/python3.7/site-packages/sklearn/externals/joblib/__init__.py:15: DeprecationWarning: sklearn.externals.joblib is deprecated in 0.21 and will be removed in 0.23. Please import this functionality directly from joblib, which can be installed with: pip install joblib. If this warning is raised when loading pickled models, you may need to re-serialize those models with scikit-learn 0.21+.\n",
      "  warnings.warn(msg, category=DeprecationWarning)\n"
     ]
    },
    {
     "data": {
      "text/plain": [
       "['my_dt_model.pkl']"
      ]
     },
     "execution_count": 52,
     "metadata": {},
     "output_type": "execute_result"
    }
   ],
   "source": [
    "\n",
    "from sklearn.externals import joblib\n",
    "joblib.dump(clf, 'my_dt_model.pkl', compress=9)\n"
   ]
  },
  {
   "cell_type": "code",
   "execution_count": 53,
   "metadata": {
    "pycharm": {
     "name": "#%%\n"
    }
   },
   "outputs": [
    {
     "data": {
      "text/plain": [
       "array([0.71875   , 0.95238095, 0.86206897, ..., 0.4       , 0.23529412,\n",
       "       0.69444444])"
      ]
     },
     "execution_count": 53,
     "metadata": {},
     "output_type": "execute_result"
    }
   ],
   "source": [
    "from sklearn.externals import joblib\n",
    "model_clone = joblib.load('my_dt_model.pkl')\n",
    "y_pred_dt = model_clone.predict_proba(X_test)[:, 1]\n",
    "y_pred_dt\n",
    "\n"
   ]
  }
 ],
 "metadata": {
  "kernelspec": {
   "display_name": "Python 3",
   "language": "python",
   "name": "python3"
  },
  "language_info": {
   "codemirror_mode": {
    "name": "ipython",
    "version": 3
   },
   "file_extension": ".py",
   "mimetype": "text/x-python",
   "name": "python",
   "nbconvert_exporter": "python",
   "pygments_lexer": "ipython3",
   "version": "3.7.3"
  },
  "pycharm": {
   "stem_cell": {
    "cell_type": "raw",
    "metadata": {
     "collapsed": false
    },
    "source": []
   }
  }
 },
 "nbformat": 4,
 "nbformat_minor": 1
}
